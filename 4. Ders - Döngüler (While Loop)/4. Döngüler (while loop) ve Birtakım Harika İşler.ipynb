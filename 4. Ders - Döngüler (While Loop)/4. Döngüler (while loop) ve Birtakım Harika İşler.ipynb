{
  "cells": [
    {
      "cell_type": "markdown",
      "metadata": {
        "id": "KW_iUMXDRBin"
      },
      "source": [
        "Notun kodlarda değişiklik yapabildiğiniz versiyonu için tıklayınız:\n",
        "\n",
        "[![Open In Colab](https://colab.research.google.com/assets/colab-badge.svg)](https://colab.research.google.com/drive/18nsaoIP-PQ0cH_5w_gJLL4MBkySL7dN5?authuser=1#scrollTo=KW_iUMXDRBin)"
      ]
    },
    {
      "cell_type": "markdown",
      "metadata": {
        "id": "18RPm4RSKm3f"
      },
      "source": [
        "# 1\\. While Döngüsü"
      ]
    },
    {
      "cell_type": "markdown",
      "metadata": {
        "id": "zRkPrSU9zWFd"
      },
      "source": [
        "## Giriş"
      ]
    },
    {
      "cell_type": "markdown",
      "metadata": {
        "id": "EQZK22YzsjEn"
      },
      "source": [
        "Şu ana kadar kodumuzda yanlış bir input aldığımızda... hiçbir şey yapamıyorduk 😞"
      ]
    },
    {
      "cell_type": "code",
      "execution_count": 1,
      "metadata": {
        "colab": {
          "base_uri": "https://localhost:8080/"
        },
        "id": "hSewZzVfsh_E",
        "outputId": "c1c84fd6-7bdc-4879-e34c-af33eed81d8c"
      },
      "outputs": [
        {
          "name": "stdout",
          "output_type": "stream",
          "text": [
            "Lütfen en az 8 haneli bir parola giriniz: 123\n",
            "Lütfen en az 8 haneli bir şifre giriniz.\n"
          ]
        }
      ],
      "source": [
        "parola = input('Lütfen en az 8 haneli bir parola giriniz: ')\n",
        "if len(parola) >= 8:\n",
        "  print('Teşekkürler, kaydınız oluşturuldu.')\n",
        "else:\n",
        "  print('Lütfen en az 8 haneli bir şifre giriniz.')"
      ]
    },
    {
      "cell_type": "markdown",
      "metadata": {
        "id": "l-k96bo9yJ9r"
      },
      "source": [
        "Kullanıcılarımız artık diledikleri kadar yanlış yazabilir 🎈 karşınızda <strong>while</strong> döngüsü 😎"
      ]
    },
    {
      "cell_type": "markdown",
      "metadata": {
        "id": "_B_K1yrOmgZs"
      },
      "source": [
        "For döngüsünde döngülerin sayısı belliydi. While döngüsü ise \"istediğimiz bir şey olana kadar\" veya \"belirli bir şart bozulmadığı sürece\" kodun çalışmaya devam edebilmesini sağlıyor. Dolayısıyla for döngüsünden farklı olarak while döngüsü bir <strong>devam şartı</strong> ile çalışıyor.\n",
        "\n",
        "```\n",
        "while (şart):\n",
        "  işlemler\n",
        "```\n",
        " Aşağıdaki örneğe bakalım:\n"
      ]
    },
    {
      "cell_type": "code",
      "execution_count": 2,
      "metadata": {
        "colab": {
          "base_uri": "https://localhost:8080/"
        },
        "id": "nNp0IuqWNyTb",
        "outputId": "731cb70c-bd5c-414f-fbef-917deb04cdeb"
      },
      "outputs": [
        {
          "name": "stdout",
          "output_type": "stream",
          "text": [
            "Lütfen en az 8 haneli bir parola giriniz: 123\n",
            "Lütfen en az 8 haneli bir parola giriniz: abc\n",
            "Lütfen en az 8 haneli bir parola giriniz: 12345678\n"
          ]
        }
      ],
      "source": [
        "parola = ''\n",
        "while(len(parola) < 8):\n",
        "  parola = input('Lütfen en az 8 haneli bir parola giriniz: ')"
      ]
    },
    {
      "cell_type": "markdown",
      "metadata": {
        "id": "grBY-1DxR7qo"
      },
      "source": [
        "`while(len(parola) < 8):`\n",
        "**parola**nın uzunluğu <font color=\"orange\"> 8'den küçük **olduğu müddetçe**</font> while'ın içindeki kod çalışacak.\n",
        "\n",
        "Artık kullanıcı istediğimiz şartları sağlayan input'u yazana kadar tekrar tekrar input alabiliriz 🎉\n"
      ]
    },
    {
      "cell_type": "code",
      "execution_count": 3,
      "metadata": {
        "colab": {
          "base_uri": "https://localhost:8080/"
        },
        "id": "BjI8fj8p26l4",
        "outputId": "91bc62d1-af46-4136-ed23-f8a623cb1a86"
      },
      "outputs": [
        {
          "name": "stdout",
          "output_type": "stream",
          "text": [
            "Lütfen en az 8 haneli bir parola giriniz: 123\n",
            "Lütfen en az 8 haneli bir şifre giriniz.\n",
            "Lütfen en az 8 haneli bir parola giriniz: abcdefgh\n",
            "Teşekkürler, kaydınız oluşturuldu.\n"
          ]
        }
      ],
      "source": [
        "parola = ''\n",
        "while(len(parola) < 8):\n",
        "  parola = input('Lütfen en az 8 haneli bir parola giriniz: ')\n",
        "  if len(parola) >= 8:\n",
        "    print('Teşekkürler, kaydınız oluşturuldu.')\n",
        "  else: \n",
        "    print('Lütfen en az 8 haneli bir şifre giriniz.')"
      ]
    },
    {
      "cell_type": "markdown",
      "metadata": {
        "id": "Nha1NcCCSsPu"
      },
      "source": [
        "Daha önce yaptığımız pizza sipariş programında da aynı problem vardı. Kullanıcı eğer yanlış türü girerse hem ne tür pizza yemek istediği bilgisini kaçırıyorduk hem de kod boyut, ek malzeme gibi sorular sormaya devam ediyordu 🙄 "
      ]
    },
    {
      "cell_type": "code",
      "execution_count": 4,
      "metadata": {
        "colab": {
          "base_uri": "https://localhost:8080/"
        },
        "id": "2rEDye8HXtOG",
        "outputId": "896e8a88-c651-4fca-9459-1e6e60031e95"
      },
      "outputs": [
        {
          "name": "stdout",
          "output_type": "stream",
          "text": [
            "Pizza türleri: \n",
            "- Vejeteryan (30 TL)\n",
            "- Karışık (35 TL)\n",
            "- Mozarella (25 TL) \n",
            "Pizza türünü seçiniz: vejeteryan\n",
            "Pizza boyları: \n",
            "- Büyük (+7 TL)\n",
            "- Orta (+3 TL)\n",
            "- Küçük \n",
            "Pizza boyutunu seçiniz: çok küçük\n",
            "Hatalı giriş yaptınız.\n",
            "Pizza boyutunu seçiniz: orta\n",
            "33\n"
          ]
        }
      ],
      "source": [
        "print(\"\"\"Pizza türleri: \n",
        "- Vejeteryan (30 TL)\n",
        "- Karışık (35 TL)\n",
        "- Mozarella (25 TL) \"\"\")\n",
        "\n",
        "tür = input('Pizza türünü seçiniz: ').lower()\n",
        "türler = ['karışık', 'vejeteryan', 'mozarella']\n",
        "\n",
        "while (tür not in türler):\n",
        "  print('Hatalı giriş yaptınız.')\n",
        "  tür = input('Pizza türünü seçiniz: ')\n",
        "\n",
        "if tür == 'karışık':\n",
        "  sepet = 35\n",
        "elif tür == 'vejeteryan':\n",
        "  sepet = 30\n",
        "else:\n",
        "  sepet = 25\n",
        "\n",
        "print(\"\"\"Pizza boyları: \n",
        "- Büyük (+7 TL)\n",
        "- Orta (+3 TL)\n",
        "- Küçük \"\"\")\n",
        "boy = input('Pizza boyutunu seçiniz: ').lower()\n",
        "\n",
        "while (boy not in ['küçük','orta','büyük']):\n",
        "  print('Hatalı giriş yaptınız.')\n",
        "  boy = input('Pizza boyutunu seçiniz: ')\n",
        "\n",
        "if boy == 'büyük':\n",
        "  sepet += 7\n",
        "elif boy == 'orta':\n",
        "  sepet += 3\n",
        "\n",
        "print(sepet)"
      ]
    },
    {
      "cell_type": "markdown",
      "metadata": {
        "id": "VSwKg2GXzUV1"
      },
      "source": [
        "### For Döngüsü İle Kıyas"
      ]
    },
    {
      "cell_type": "code",
      "execution_count": 5,
      "metadata": {
        "colab": {
          "base_uri": "https://localhost:8080/"
        },
        "id": "RuxjxRmQzZWF",
        "outputId": "4d2cf0e7-8504-4ddb-cc0c-570ba73ef9a6"
      },
      "outputs": [
        {
          "name": "stdout",
          "output_type": "stream",
          "text": [
            "Kalkış için son 5 saniye\n",
            "Kalkış için son 4 saniye\n",
            "Kalkış için son 3 saniye\n",
            "Kalkış için son 2 saniye\n",
            "Kalkış için son 1 saniye\n",
            "Kalkış!\n"
          ]
        }
      ],
      "source": [
        "for i in range(5):\n",
        "  print(f\"Kalkış için son {5-i} saniye\")\n",
        "\n",
        "print('Kalkış!')"
      ]
    },
    {
      "cell_type": "code",
      "execution_count": 6,
      "metadata": {
        "colab": {
          "base_uri": "https://localhost:8080/"
        },
        "id": "V5Zinm0QporU",
        "outputId": "def715b2-5707-4779-d9c8-938369370e1e"
      },
      "outputs": [
        {
          "name": "stdout",
          "output_type": "stream",
          "text": [
            "Kalkış için son 5 saniye\n",
            "Kalkış için son 4 saniye\n",
            "Kalkış için son 3 saniye\n",
            "Kalkış için son 2 saniye\n",
            "Kalkış için son 1 saniye\n",
            "Kalkış!\n"
          ]
        }
      ],
      "source": [
        "geri_sayım = 5\n",
        "while (geri_sayım > 0):\n",
        "  print(f\"Kalkış için son {geri_sayım} saniye\")\n",
        "  geri_sayım -= 1\n",
        "\n",
        "print(\"Kalkış!\")"
      ]
    },
    {
      "cell_type": "code",
      "execution_count": 7,
      "metadata": {
        "colab": {
          "base_uri": "https://localhost:8080/"
        },
        "id": "yYNyD_0H21M2",
        "outputId": "51a735de-b3d0-4c4c-c240-c91a3a732cdc"
      },
      "outputs": [
        {
          "name": "stdout",
          "output_type": "stream",
          "text": [
            "çilek\n",
            "kiraz\n",
            "elma\n"
          ]
        }
      ],
      "source": [
        "sepet = ['çilek','kiraz','elma']\n",
        "for meyve in sepet:\n",
        "  print(meyve)"
      ]
    },
    {
      "cell_type": "code",
      "execution_count": 8,
      "metadata": {
        "colab": {
          "base_uri": "https://localhost:8080/"
        },
        "id": "e_E77i_g25w5",
        "outputId": "8b051a5a-bdbe-4ed8-d5a6-d664e7b9b771"
      },
      "outputs": [
        {
          "name": "stdout",
          "output_type": "stream",
          "text": [
            "çilek\n",
            "kiraz\n",
            "elma\n"
          ]
        }
      ],
      "source": [
        "sayım = 0\n",
        "while sayım < len(sepet):\n",
        "  print(sepet[sayım])\n",
        "  sayım += 1"
      ]
    },
    {
      "cell_type": "markdown",
      "metadata": {
        "id": "5yJzXBK0nOri"
      },
      "source": [
        "Madem while loop bu kadar inanılmaz bir şey o halde OYUN BAŞLASIN! 🔥🥳"
      ]
    },
    {
      "cell_type": "code",
      "execution_count": 9,
      "metadata": {
        "colab": {
          "base_uri": "https://localhost:8080/"
        },
        "id": "OOi6EbhiKohF",
        "outputId": "72282b53-1d92-46d2-bdc2-2413083621cd"
      },
      "outputs": [
        {
          "name": "stdout",
          "output_type": "stream",
          "text": [
            "Aklımdaki sayıyı tahmin et (0 ile 10 arasında): 2\n",
            "Aklımdaki sayıyı tahmin et (0 ile 10 arasında): 3\n",
            "Aklımdaki sayıyı tahmin et (0 ile 10 arasında): 4\n",
            "Aklımdaki sayıyı tahmin et (0 ile 10 arasında): 5\n"
          ]
        }
      ],
      "source": [
        "aklımdaki_sayı = 5\n",
        "tahmin = ''\n",
        "while (tahmin != aklımdaki_sayı):\n",
        "  tahmin = int(input('Aklımdaki sayıyı tahmin et (0 ile 10 arasında): '))"
      ]
    },
    {
      "cell_type": "markdown",
      "metadata": {
        "id": "EEKIzRi8oINZ"
      },
      "source": [
        "Bu oyundaki sorun oyuncu istediği kadar deneyebilir. O zaman da her türlü oyunu kazanır 🤔 \n",
        "\n",
        "Bunun çözümü: **break**"
      ]
    },
    {
      "cell_type": "markdown",
      "metadata": {
        "id": "oVIYT0cErbnj"
      },
      "source": [
        "## Döngülerin Kontrolü"
      ]
    },
    {
      "cell_type": "markdown",
      "metadata": {
        "id": "6ibdzmxpqf2-"
      },
      "source": [
        "### 1) break"
      ]
    },
    {
      "cell_type": "markdown",
      "metadata": {
        "id": "i8F8TcSg41Om"
      },
      "source": [
        "Döngüyü while şartından bağımsız olarak istediğimiz bir yerde <strong>tamamen sonlandırmak</strong> için **break** komutunu kullanabiliriz."
      ]
    },
    {
      "cell_type": "code",
      "execution_count": 10,
      "metadata": {
        "colab": {
          "base_uri": "https://localhost:8080/"
        },
        "id": "bSVamuw8Koe0",
        "outputId": "2c57f255-3f6a-4ffc-a012-bdeaf8e51dd4"
      },
      "outputs": [
        {
          "name": "stdout",
          "output_type": "stream",
          "text": [
            "Aklımdaki sayıyı tahmin et (0 ile 10 arasında): 1\n",
            "Kalan hak: 2\n",
            "Aklımdaki sayıyı tahmin et (0 ile 10 arasında): 3\n",
            "Kalan hak: 1\n",
            "Aklımdaki sayıyı tahmin et (0 ile 10 arasında): 7\n",
            "Kalan hak: 0\n",
            "Üzgünüm hakkınız bitti :/\n",
            "Bulamadığınız sayı: 5\n"
          ]
        }
      ],
      "source": [
        "aklımdaki_sayı = 5\n",
        "tahmin = ''\n",
        "hak = 3\n",
        "\n",
        "while (tahmin != aklımdaki_sayı):\n",
        "  tahmin = int(input('Aklımdaki sayıyı tahmin et (0 ile 10 arasında): '))\n",
        "  if tahmin == aklımdaki_sayı:\n",
        "    print('Bravo doğru tahmin!') # Oyunun bittiğini kullanıcıya haber verelim.\n",
        "    # döngü kendisi bitecek (while şartından dolayı)\n",
        "\n",
        "  # Yukarıdaki if çalışmadıysa doğru tahmin yapamamış, hakkını azaltalım.\n",
        "  hak -= 1\n",
        "  print(f\"Kalan hak: {hak}\")\n",
        "\n",
        "  if hak == 0:\n",
        "    print('Üzgünüm hakkınız bitti :/')\n",
        "    print(f\"Bulamadığınız sayı: {aklımdaki_sayı}\")\n",
        "    break # döngüyü TAMAMEN bitir."
      ]
    },
    {
      "cell_type": "markdown",
      "metadata": {
        "id": "gThgZpMlln8n"
      },
      "source": [
        "break olmaksızın da bu kodu yazabilirdik:"
      ]
    },
    {
      "cell_type": "code",
      "execution_count": 11,
      "metadata": {
        "colab": {
          "base_uri": "https://localhost:8080/"
        },
        "id": "VRMHRGuAlnxG",
        "outputId": "e388798d-5fb8-4ec6-d81f-bdc7bbd80d85"
      },
      "outputs": [
        {
          "name": "stdout",
          "output_type": "stream",
          "text": [
            "Aklımdaki sayıyı tahmin et (0 ile 10 arasında): 1\n",
            "Kalan hak: 2\n",
            "Aklımdaki sayıyı tahmin et (0 ile 10 arasında): 5\n",
            "Bravo doğru tahmin!\n",
            "Kalan hak: 1\n"
          ]
        }
      ],
      "source": [
        "aklımdaki_sayı = 5\n",
        "tahmin = ''\n",
        "hak = 3\n",
        "\n",
        "while (tahmin != aklımdaki_sayı and hak != 0):\n",
        "  tahmin = int(input('Aklımdaki sayıyı tahmin et (0 ile 10 arasında): '))\n",
        "  if tahmin == aklımdaki_sayı:\n",
        "    print('Bravo doğru tahmin!') # Oyunun bittiğini kullanıcıya haber verelim.\n",
        "    # döngü kendisi bitecek (while şartından dolayı)\n",
        "\n",
        "  # Yukarıdaki if çalışmadıysa doğru tahmin yapamamış, hakkını azaltalım.\n",
        "  hak -= 1\n",
        "  print(f\"Kalan hak: {hak}\")\n",
        "\n",
        "  if hak == 0:\n",
        "    print('Üzgünüm hakkınız bitti :/')\n",
        "    print(f\"Bulamadığınız sayı: {aklımdaki_sayı}\")"
      ]
    },
    {
      "cell_type": "markdown",
      "metadata": {
        "id": "jK17oIU5qFPT"
      },
      "source": [
        "**break** komutunu for loop'ta da kullanabiliriz. Mesela aradığımız elemanı bulduğumuz anda döngüyü bitirebiliriz.\n",
        "\n",
        "127 ile 256 arasında 17'ye bölünen en küçük sayıyı bulalım, bulduğumuz anda döngü bitsin."
      ]
    },
    {
      "cell_type": "code",
      "execution_count": 12,
      "metadata": {
        "colab": {
          "base_uri": "https://localhost:8080/"
        },
        "id": "tAk6ByYPKocl",
        "outputId": "2349c374-aa7a-47d7-f185-a1951258c7cd"
      },
      "outputs": [
        {
          "name": "stdout",
          "output_type": "stream",
          "text": [
            "127\n",
            "128\n",
            "129\n",
            "130\n",
            "131\n",
            "132\n",
            "133\n",
            "134\n",
            "135\n",
            "136\n"
          ]
        }
      ],
      "source": [
        "for sayı in range(127,183):\n",
        "  print(sayı)\n",
        "  if sayı % 17 == 0:\n",
        "    break"
      ]
    },
    {
      "cell_type": "markdown",
      "metadata": {
        "id": "7vOf6hLKyo8M"
      },
      "source": [
        "### Önemli Bir While Loop Örneği: __while True__"
      ]
    },
    {
      "cell_type": "code",
      "execution_count": 13,
      "metadata": {
        "colab": {
          "base_uri": "https://localhost:8080/"
        },
        "id": "xlxRcmeNy0Gm",
        "outputId": "ae3a80c6-cc74-459c-cb0a-cdbcc2acdf87"
      },
      "outputs": [
        {
          "name": "stdout",
          "output_type": "stream",
          "text": [
            "çalıştı\n"
          ]
        }
      ],
      "source": [
        "if True:\n",
        "  print('çalıştı')\n",
        "else:\n",
        "  print('çalışmadı')"
      ]
    },
    {
      "cell_type": "markdown",
      "metadata": {
        "id": "AvsztJpp5od2"
      },
      "source": [
        "Neden __while True__?\n",
        "\n",
        "while döngüsünün bitmesi birçok duruma bağlı ise while(True) kullanabiliriz. Böylelikle \"while'ın içine hangi şartı yazsam?\" derdinden kurtulur, istediğimiz şart sağlandığında _break_ ile döngüyü bitiririz."
      ]
    },
    {
      "cell_type": "code",
      "execution_count": 14,
      "metadata": {
        "colab": {
          "base_uri": "https://localhost:8080/"
        },
        "id": "YhnNgMaf0Xvx",
        "outputId": "4e198d6b-47d3-4514-d872-6fbe50b030d9"
      },
      "outputs": [
        {
          "name": "stdout",
          "output_type": "stream",
          "text": [
            "Aklımdaki sayıyı tahmin et (0 ile 10 arasında): 2\n",
            "Kalan hak: 2\n",
            "Aklımdaki sayıyı tahmin et (0 ile 10 arasında): 3\n",
            "Kalan hak: 1\n",
            "Aklımdaki sayıyı tahmin et (0 ile 10 arasında): 6\n",
            "Kalan hak: 0\n",
            "Üzgünüm hakkınız bitti :/\n",
            "Bulamadığınız sayı: 5\n"
          ]
        }
      ],
      "source": [
        "aklımdaki_sayı = 5\n",
        "hak = 3\n",
        "\n",
        "while True:\n",
        "  tahmin = int(input('Aklımdaki sayıyı tahmin et (0 ile 10 arasında): '))\n",
        "  if tahmin == aklımdaki_sayı:\n",
        "    print('Bravo doğru tahmin!')\n",
        "    break \n",
        "\n",
        "  hak -= 1\n",
        "  print(f\"Kalan hak: {hak}\")\n",
        "\n",
        "  if hak == 0:\n",
        "    print('Üzgünüm hakkınız bitti :/')\n",
        "    print(f\"Bulamadığınız sayı: {aklımdaki_sayı}\")\n",
        "    break"
      ]
    },
    {
      "cell_type": "markdown",
      "metadata": {
        "id": "3GGFJBe1qkr6"
      },
      "source": [
        "### 2) continue"
      ]
    },
    {
      "cell_type": "markdown",
      "metadata": {
        "id": "VE3IKz5b47ca"
      },
      "source": [
        "Döngünün __o anki adımını sonlandırmak__ ve __bir sonraki adıma geçmek__ için _continue_ komutunu kullanabiliriz."
      ]
    },
    {
      "cell_type": "markdown",
      "metadata": {
        "id": "VWGipGh6xeiD"
      },
      "source": [
        "15 yaşından büyük olanların giremediği bir lunapark olsun. 15 yaşının altındakiler geçebilsin, 15 yaşından büyük olanları uyaralım."
      ]
    },
    {
      "cell_type": "code",
      "execution_count": 15,
      "metadata": {
        "colab": {
          "base_uri": "https://localhost:8080/"
        },
        "id": "ZeNNY1OPqOiw",
        "outputId": "d358c305-532b-4def-a250-80e3bf6d6557"
      },
      "outputs": [
        {
          "name": "stdout",
          "output_type": "stream",
          "text": [
            "Üzgünüm, içinizdeki çocuk kıpır kıpır olsa da, 22 yaşındasınız ve 15 yaşından büyükleri alamıyoruz :/\n",
            "Üzgünüm, içinizdeki çocuk kıpır kıpır olsa da, 20 yaşındasınız ve 15 yaşından büyükleri alamıyoruz :/\n",
            "Üzgünüm, içinizdeki çocuk kıpır kıpır olsa da, 27 yaşındasınız ve 15 yaşından büyükleri alamıyoruz :/\n",
            "Üzgünüm, içinizdeki çocuk kıpır kıpır olsa da, 25 yaşındasınız ve 15 yaşından büyükleri alamıyoruz :/\n"
          ]
        }
      ],
      "source": [
        "yaş_listesi = [22, 5, 20, 27, 12, 25]\n",
        "for yaş in yaş_listesi:\n",
        "  if yaş < 15:\n",
        "    continue\n",
        "  print(f\"Üzgünüm, içinizdeki çocuk kıpır kıpır olsa da, {yaş} yaşındasınız ve 15 yaşından büyükleri alamıyoruz :/\")"
      ]
    },
    {
      "cell_type": "markdown",
      "metadata": {
        "id": "Bcq78sUzyhZS"
      },
      "source": [
        "**continue** komutu çalışırsa __o döngü sonlanır__, doğrudan bir sonraki elemana geçilir."
      ]
    },
    {
      "cell_type": "markdown",
      "metadata": {
        "id": "ttG2P6GIi10G"
      },
      "source": [
        "# 2\\. Stringlerle İlgili Yepyeni Harika Beceriler"
      ]
    },
    {
      "cell_type": "markdown",
      "metadata": {
        "id": "EuoYMsm_70nJ"
      },
      "source": [
        "## 1) Escape Characters"
      ]
    },
    {
      "cell_type": "markdown",
      "metadata": {
        "id": "VmIBtBfT7PHD"
      },
      "source": [
        "Stringlerde birkaç özel ifade var. Örneğin \"yeni satıra geç\", \"tab ile boşluk bırak\", gibi komutlar yazabiliyoruz. Bunun için **\\** karakteri ile başlayan ifadeler kullanıyoruz."
      ]
    },
    {
      "cell_type": "code",
      "execution_count": 16,
      "metadata": {
        "colab": {
          "base_uri": "https://localhost:8080/",
          "height": 131
        },
        "id": "X42Y7M7TSKpA",
        "outputId": "d65aab09-cb71-4e82-9e9e-a09fcfac9027"
      },
      "outputs": [
        {
          "ename": "SyntaxError",
          "evalue": "ignored",
          "output_type": "error",
          "traceback": [
            "\u001b[0;36m  File \u001b[0;32m\"<ipython-input-16-0bffce3172fa>\"\u001b[0;36m, line \u001b[0;32m1\u001b[0m\n\u001b[0;31m    cümle = 'İstanbul Medipol Üniversitesi'nin sinirbilim ekibi... inanılmazdır!'\u001b[0m\n\u001b[0m                                             ^\u001b[0m\n\u001b[0;31mSyntaxError\u001b[0m\u001b[0;31m:\u001b[0m invalid syntax\n"
          ]
        }
      ],
      "source": [
        "cümle = 'İstanbul Medipol Üniversitesi'nin sinirbilim ekibi... inanılmazdır!'\n",
        "print(cümle)"
      ]
    },
    {
      "cell_type": "markdown",
      "metadata": {
        "id": "o8EeIDFW7c9N"
      },
      "source": [
        "Tırnak işaretiyle ilgili problemi ilk derste yaşamıştık. Bu sefer onun bir başka düzeltme yolunu göreceğiz. Escape karakterler \\ ile başlıyor demiştik. \\' yazdığımızda:\n",
        "\n",
        "_bir ' işareti kullanacağım ama o string açıp kapatmak için olan değil_ anlamında bir komut vermiş oluyoruz"
      ]
    },
    {
      "cell_type": "code",
      "execution_count": 17,
      "metadata": {
        "colab": {
          "base_uri": "https://localhost:8080/"
        },
        "id": "zHrtQ-Fz66fI",
        "outputId": "0cbbf88c-c799-4ae4-c8c0-47fc2bf15a1f"
      },
      "outputs": [
        {
          "name": "stdout",
          "output_type": "stream",
          "text": [
            "İstanbul Medipol Üniversitesi'nin sinirbilim ekibi... inanılmazdır!\n"
          ]
        }
      ],
      "source": [
        "cümle = 'İstanbul Medipol Üniversitesi\\'nin sinirbilim ekibi... inanılmazdır!'\n",
        "print(cümle)"
      ]
    },
    {
      "cell_type": "markdown",
      "metadata": {
        "id": "QPLKYl6V7xdO"
      },
      "source": [
        "yeni satır yazmak için __\\n__\n",
        "\n",
        "Burada da aynı şekilde\n",
        "\n",
        "\"_bir n harfi yazıyorum ama bu n bildiğin n değil, yeni satır oluştur anlamında_\" demek istiyoruz 😄"
      ]
    },
    {
      "cell_type": "code",
      "execution_count": 18,
      "metadata": {
        "colab": {
          "base_uri": "https://localhost:8080/"
        },
        "id": "vWd2peAYlQcP",
        "outputId": "94568da2-a876-49fb-c950-15bd7ce922a6"
      },
      "outputs": [
        {
          "name": "stdout",
          "output_type": "stream",
          "text": [
            "İstanbul Medipol Üniversitesi'nin sinirbilim ekibi...\n",
            " inanılmazdır!\n"
          ]
        }
      ],
      "source": [
        "cümle = 'İstanbul Medipol Üniversitesi\\'nin sinirbilim ekibi...\\n inanılmazdır!' # new line\n",
        "print(cümle)"
      ]
    },
    {
      "cell_type": "code",
      "execution_count": 19,
      "metadata": {
        "colab": {
          "base_uri": "https://localhost:8080/"
        },
        "id": "7d9vEqKPlK2i",
        "outputId": "410a492d-dc8e-40f0-fb68-b2ef29812cd0"
      },
      "outputs": [
        {
          "name": "stdout",
          "output_type": "stream",
          "text": [
            "İstanbul Medipol Üniversitesi'nin sinirbilim ekibi...\n",
            "inanılmazdır!\n"
          ]
        }
      ],
      "source": [
        "cümle = 'İstanbul Medipol Üniversitesi\\'nin sinirbilim ekibi...\\ninanılmazdır!'\n",
        "print(cümle)"
      ]
    },
    {
      "cell_type": "code",
      "execution_count": 20,
      "metadata": {
        "colab": {
          "base_uri": "https://localhost:8080/"
        },
        "id": "bxUBrcu7lIU0",
        "outputId": "74535438-25f7-4aa6-e9cc-d2693f7941e7"
      },
      "outputs": [
        {
          "name": "stdout",
          "output_type": "stream",
          "text": [
            "İstanbul Medipol Üniversitesi'nin sinirbilim ekibi...\t inanılmazdır!\n"
          ]
        }
      ],
      "source": [
        "cümle = 'İstanbul Medipol Üniversitesi\\'nin sinirbilim ekibi...\\t inanılmazdır!'\n",
        "print(cümle)"
      ]
    },
    {
      "cell_type": "markdown",
      "metadata": {
        "id": "W4R2dbmo9nNI"
      },
      "source": [
        "## 2) Bir stringi parçalayıp listeye dönüştürme: __split()__"
      ]
    },
    {
      "cell_type": "code",
      "execution_count": 21,
      "metadata": {
        "colab": {
          "base_uri": "https://localhost:8080/"
        },
        "id": "G2CzPJTE9f6n",
        "outputId": "3db636a5-eab6-4444-b9c1-ef54f2f983c2"
      },
      "outputs": [
        {
          "name": "stdout",
          "output_type": "stream",
          "text": [
            "['Halit', 'Ziya', 'Uşaklıgil', 'Refik', 'Halit', 'Karay', 'Ömer', 'Seyfettin']\n"
          ]
        }
      ],
      "source": [
        "metin = \"Halit Ziya Uşaklıgil Refik Halit Karay Ömer Seyfettin\"\n",
        "metin_elemanları = metin.split()\n",
        "print(metin_elemanları)"
      ]
    },
    {
      "cell_type": "code",
      "execution_count": 22,
      "metadata": {
        "colab": {
          "base_uri": "https://localhost:8080/"
        },
        "id": "FhWtdVKlDpmc",
        "outputId": "600b95c5-b5e1-4672-92ef-db2ef9ff8c4c"
      },
      "outputs": [
        {
          "name": "stdout",
          "output_type": "stream",
          "text": [
            "Halit\n",
            "Uşaklıgil\n",
            "Refik\n",
            "Halit\n",
            "Karay\n",
            "Seyfettin\n"
          ]
        }
      ],
      "source": [
        "for kelime in metin_elemanları:\n",
        "  if len(kelime) > 4:\n",
        "    print(kelime)"
      ]
    },
    {
      "cell_type": "markdown",
      "metadata": {
        "id": "59-uqEsC8Lxp"
      },
      "source": [
        "**split()**'in içerisine yazdığımız string, bizim parçalayıcı işaretimiz oluyor:"
      ]
    },
    {
      "cell_type": "code",
      "execution_count": 23,
      "metadata": {
        "colab": {
          "base_uri": "https://localhost:8080/"
        },
        "id": "TXi2QNc-9ych",
        "outputId": "34dada32-57a2-4c5e-f323-2848a79fdb4b"
      },
      "outputs": [
        {
          "name": "stdout",
          "output_type": "stream",
          "text": [
            "['Halit Ziya Uşaklıgil', 'Refik Halit Karay', 'Ömer Seyfettin']\n"
          ]
        }
      ],
      "source": [
        "metin = \"Halit Ziya Uşaklıgil-Refik Halit Karay-Ömer Seyfettin\"\n",
        "yazarlar = metin.split('-')\n",
        "print(yazarlar)"
      ]
    },
    {
      "cell_type": "markdown",
      "metadata": {
        "id": "FLseGdu78UmT"
      },
      "source": [
        "Yukarıda _<font color='orange'>**-** işaretini gördüğün yerlerden stringi parçala</font>_ demiş olduk. Her türlü string'i koyabilirsiniz:"
      ]
    },
    {
      "cell_type": "code",
      "execution_count": 24,
      "metadata": {
        "colab": {
          "base_uri": "https://localhost:8080/"
        },
        "id": "K3Qv-dPJ93G7",
        "outputId": "48e42234-65f5-44e9-9808-11aaf0b3c2bc"
      },
      "outputs": [
        {
          "name": "stdout",
          "output_type": "stream",
          "text": [
            "['H', 'lit Ziy', ' Uş', 'klıgil-Refik H', 'lit K', 'r', 'y-Ömer Seyfettin']\n"
          ]
        }
      ],
      "source": [
        "metin = \"Halit Ziya Uşaklıgil-Refik Halit Karay-Ömer Seyfettin\"\n",
        "print(metin.split('a'))"
      ]
    },
    {
      "cell_type": "markdown",
      "metadata": {
        "id": "MgDFjoFh8kvq"
      },
      "source": [
        "Kullanıcıdan aldığımız string'i bir listeye dönüştürelim:"
      ]
    },
    {
      "cell_type": "code",
      "execution_count": 25,
      "metadata": {
        "colab": {
          "base_uri": "https://localhost:8080/"
        },
        "id": "R7CrPbcHS65x",
        "outputId": "da33b4a1-01b6-4f28-b483-c22bb07a7d0a"
      },
      "outputs": [
        {
          "name": "stdout",
          "output_type": "stream",
          "text": [
            "Lütfen kitapların adını giriniz, birden fazla ise aralarına - işareti koyunuz.Oblomov-Puslu Kıtalar Atlası-Dava\n",
            "Oblomov\n",
            "Puslu Kıtalar Atlası\n",
            "Dava\n"
          ]
        }
      ],
      "source": [
        "kitaplar = input('Lütfen kitapların adını giriniz, birden fazla ise aralarına - işareti koyunuz.')\n",
        "kitaplar = kitaplar.split('-')\n",
        "for kitap in kitaplar:\n",
        "  print(kitap)\n",
        "\n",
        "if 'Tutunamayanlar' in kitaplar:\n",
        "  print('tutunamayanlar mevcut')"
      ]
    },
    {
      "cell_type": "markdown",
      "metadata": {
        "id": "ybi7Q9Cb-Wn-"
      },
      "source": [
        "## 3) Listedeki elemanları birleştirip stringe dönüştürme: __join()__"
      ]
    },
    {
      "cell_type": "markdown",
      "metadata": {
        "id": "M8WswJim8oKY"
      },
      "source": [
        "string'i parçalayıp listeye dönüştürebiliyorsak, listeyi birleştirip bir string oluşturabiliriz 🎈"
      ]
    },
    {
      "cell_type": "code",
      "execution_count": 26,
      "metadata": {
        "colab": {
          "base_uri": "https://localhost:8080/"
        },
        "id": "3KOPtf4u-SP0",
        "outputId": "9e7b5c97-680e-49d4-ebc1-8b92c512b882"
      },
      "outputs": [
        {
          "name": "stdout",
          "output_type": "stream",
          "text": [
            "Buuzunbircümleninlisteleştirilmişhalidir.\n"
          ]
        }
      ],
      "source": [
        "liste = ['Bu','uzun','bir','cümlenin','listeleştirilmiş','halidir.']\n",
        "metin = ''.join(liste)\n",
        "print(metin)"
      ]
    },
    {
      "cell_type": "markdown",
      "metadata": {
        "id": "3XrrmFDW87bG"
      },
      "source": [
        "Burada da <font color=\"orange\">birleştirdiğimizde aralara belirttiğimiz stringi koy</font> demiş oluyoruz:"
      ]
    },
    {
      "cell_type": "code",
      "execution_count": 27,
      "metadata": {
        "colab": {
          "base_uri": "https://localhost:8080/"
        },
        "id": "yaSwJsxE-SM9",
        "outputId": "b6ec2c91-8a97-4f1d-f264-87fe5b34e379"
      },
      "outputs": [
        {
          "name": "stdout",
          "output_type": "stream",
          "text": [
            "Bu uzun bir cümlenin listeleştirilmiş halidir.\n"
          ]
        }
      ],
      "source": [
        "metin2 = ' '.join(liste)\n",
        "print(metin2)"
      ]
    },
    {
      "cell_type": "code",
      "execution_count": 28,
      "metadata": {
        "colab": {
          "base_uri": "https://localhost:8080/"
        },
        "id": "yZVxYG0O-SDq",
        "outputId": "1aa301ad-4da6-498d-e5e2-e5f529a863c6"
      },
      "outputs": [
        {
          "name": "stdout",
          "output_type": "stream",
          "text": [
            "Bu-uzun-bir-cümlenin-listeleştirilmiş-halidir.\n"
          ]
        }
      ],
      "source": [
        "metin3 = '-'.join(liste)\n",
        "print(metin3)"
      ]
    },
    {
      "cell_type": "code",
      "execution_count": 29,
      "metadata": {
        "colab": {
          "base_uri": "https://localhost:8080/"
        },
        "id": "MRKxiwfn-sGW",
        "outputId": "43d5eedc-9253-49e0-e5e6-ae41068c28ed"
      },
      "outputs": [
        {
          "name": "stdout",
          "output_type": "stream",
          "text": [
            "Bu PATATES uzun PATATES bir PATATES cümlenin PATATES listeleştirilmiş PATATES halidir.\n"
          ]
        }
      ],
      "source": [
        "metin4 = ' PATATES '.join(liste)\n",
        "print(metin4)"
      ]
    },
    {
      "cell_type": "code",
      "execution_count": 30,
      "metadata": {
        "colab": {
          "base_uri": "https://localhost:8080/"
        },
        "id": "eV57nxbT-rza",
        "outputId": "e9562170-428a-483b-9e25-7d453df93e54"
      },
      "outputs": [
        {
          "name": "stdout",
          "output_type": "stream",
          "text": [
            "Bu\n",
            "uzun\n",
            "bir\n",
            "cümlenin\n",
            "listeleştirilmiş\n",
            "halidir.\n"
          ]
        }
      ],
      "source": [
        "print('\\n'.join(liste))"
      ]
    },
    {
      "cell_type": "markdown",
      "metadata": {
        "id": "O2oOP7mN-_qF"
      },
      "source": [
        "## 4) Stringin başını ve sonunu temizleme __strip()__"
      ]
    },
    {
      "cell_type": "markdown",
      "metadata": {
        "id": "HLAZAZ3d9K-V"
      },
      "source": [
        "Özellikle internetten veri aldığımızda ya da kullanıcılardan bilgi aldığımızda stringler istediğimiz kadar _düzgün_ olmayabilir. Bunu şöyle düşünebiliriz: \n",
        "\n",
        "Sitelerde mailimizi yazarken bazen en sonuna boşluk yazmamıza rağmen hata vermiyor, neden? çünkü **strip()** kullanılıyor:"
      ]
    },
    {
      "cell_type": "code",
      "execution_count": 31,
      "metadata": {
        "colab": {
          "base_uri": "https://localhost:8080/"
        },
        "id": "PKoK1Vil-5dJ",
        "outputId": "a78a17e1-d824-4be5-fcdc-1596187610e6"
      },
      "outputs": [
        {
          "name": "stdout",
          "output_type": "stream",
          "text": [
            "   bu metinde bir gariplik var     \n",
            "bu metinde bir gariplik var\n"
          ]
        }
      ],
      "source": [
        "metin = '   bu metinde bir gariplik var     '\n",
        "temiz_metin = metin.strip()\n",
        "print(metin)\n",
        "print(temiz_metin)"
      ]
    },
    {
      "cell_type": "code",
      "execution_count": 32,
      "metadata": {
        "colab": {
          "base_uri": "https://localhost:8080/",
          "height": 35
        },
        "id": "JKUSUvZR-5Im",
        "outputId": "c5dc86f6-848e-4a40-c89b-dc6e18310e29"
      },
      "outputs": [
        {
          "data": {
            "application/vnd.google.colaboratory.intrinsic+json": {
              "type": "string"
            },
            "text/plain": [
              "'   bu metinde bir gariplik var     '"
            ]
          },
          "execution_count": 32,
          "metadata": {},
          "output_type": "execute_result"
        }
      ],
      "source": [
        "metin = '!!   bu metinde bir gariplik var     !!'\n",
        "metin.strip('!')"
      ]
    },
    {
      "cell_type": "code",
      "execution_count": 33,
      "metadata": {
        "colab": {
          "base_uri": "https://localhost:8080/",
          "height": 35
        },
        "id": "f_eos8GB_OIS",
        "outputId": "9f7df2b1-3c6a-48d8-c8c8-3f2f67448daa"
      },
      "outputs": [
        {
          "data": {
            "application/vnd.google.colaboratory.intrinsic+json": {
              "type": "string"
            },
            "text/plain": [
              "'bu metinde bir gariplik var'"
            ]
          },
          "execution_count": 33,
          "metadata": {},
          "output_type": "execute_result"
        }
      ],
      "source": [
        "metin = '!!   bu metinde bir gariplik var     !!'\n",
        "metin.strip('! ')"
      ]
    },
    {
      "cell_type": "code",
      "execution_count": 34,
      "metadata": {
        "colab": {
          "base_uri": "https://localhost:8080/"
        },
        "id": "_8cnX0rnTzUP",
        "outputId": "55558b03-552a-4e34-85db-90aeaefeccfc"
      },
      "outputs": [
        {
          "name": "stdout",
          "output_type": "stream",
          "text": [
            "['medipol', 'medipoluniversitesi']\n"
          ]
        }
      ],
      "source": [
        "linkler = ['www.medipol.edu.tr','www.medipoluniversitesi.edu.tr']\n",
        "yeni_linkler = []\n",
        "for link in linkler:\n",
        "  yeni_linkler.append(link.strip('www..edu.tr'))\n",
        "print(yeni_linkler)"
      ]
    },
    {
      "cell_type": "markdown",
      "metadata": {
        "id": "TYVRdEk8n4vF"
      },
      "source": [
        "## 5) Stringlerde eleman değişimi"
      ]
    },
    {
      "cell_type": "code",
      "execution_count": 35,
      "metadata": {
        "colab": {
          "base_uri": "https://localhost:8080/"
        },
        "id": "tHqJQhMKF8M5",
        "outputId": "2b536c28-a905-4639-ff31-e06e97bb4759"
      },
      "outputs": [
        {
          "data": {
            "text/plain": [
              "['çilek', 'karpuz']"
            ]
          },
          "execution_count": 35,
          "metadata": {},
          "output_type": "execute_result"
        }
      ],
      "source": [
        "meyveler = ['çilek','elma']\n",
        "meyveler[1] = 'karpuz'\n",
        "meyveler"
      ]
    },
    {
      "cell_type": "markdown",
      "metadata": {
        "id": "ruIVAdBZ64jg"
      },
      "source": [
        "Stringlerde listelerde olduğu gibi doğrudan değişiklik yapamıyoruz:"
      ]
    },
    {
      "cell_type": "code",
      "execution_count": 36,
      "metadata": {
        "colab": {
          "base_uri": "https://localhost:8080/",
          "height": 183
        },
        "id": "qj9G6N11i5CE",
        "outputId": "530e6568-08fb-4bf9-c1d6-fc97ed58f90c"
      },
      "outputs": [
        {
          "ename": "TypeError",
          "evalue": "ignored",
          "output_type": "error",
          "traceback": [
            "\u001b[0;31m---------------------------------------------------------------------------\u001b[0m",
            "\u001b[0;31mTypeError\u001b[0m                                 Traceback (most recent call last)",
            "\u001b[0;32m<ipython-input-36-bf531adb5697>\u001b[0m in \u001b[0;36m<module>\u001b[0;34m\u001b[0m\n\u001b[1;32m      1\u001b[0m \u001b[0mmetin\u001b[0m \u001b[0;34m=\u001b[0m \u001b[0;34m\"Python\"\u001b[0m\u001b[0;34m\u001b[0m\u001b[0;34m\u001b[0m\u001b[0m\n\u001b[0;32m----> 2\u001b[0;31m \u001b[0mmetin\u001b[0m\u001b[0;34m[\u001b[0m\u001b[0;36m0\u001b[0m\u001b[0;34m]\u001b[0m \u001b[0;34m=\u001b[0m \u001b[0;34m'p'\u001b[0m\u001b[0;34m\u001b[0m\u001b[0;34m\u001b[0m\u001b[0m\n\u001b[0m",
            "\u001b[0;31mTypeError\u001b[0m: 'str' object does not support item assignment"
          ]
        }
      ],
      "source": [
        "metin = \"Python\"\n",
        "metin[0] = 'p'"
      ]
    },
    {
      "cell_type": "markdown",
      "metadata": {
        "id": "oYVuRmwz67wM"
      },
      "source": [
        "Değişiklik yapmak istiyorsak **replace()**'i kullanmamız gerekir:"
      ]
    },
    {
      "cell_type": "code",
      "execution_count": 37,
      "metadata": {
        "colab": {
          "base_uri": "https://localhost:8080/"
        },
        "id": "zIxKxseyn_-1",
        "outputId": "6be2bc7e-b2e4-4b34-fad4-74f7f43d3859"
      },
      "outputs": [
        {
          "name": "stdout",
          "output_type": "stream",
          "text": [
            "python\n"
          ]
        }
      ],
      "source": [
        "yeni_metin = metin.replace('P','p')\n",
        "print(yeni_metin)"
      ]
    },
    {
      "cell_type": "markdown",
      "metadata": {
        "id": "ZgljUnQLeUBZ"
      },
      "source": [
        "# 3\\. ve Nihayet Gerçek Dünyayla İletişim"
      ]
    },
    {
      "cell_type": "markdown",
      "metadata": {
        "id": "PsgypyzLMXrC"
      },
      "source": [
        "### Metin Belgesi Okuma"
      ]
    },
    {
      "cell_type": "markdown",
      "metadata": {
        "id": "dM2Ya0Jah0nI"
      },
      "source": [
        "Python'da öğrendiğimiz bu müthiş yeteneklerimizi nihayet __text__ dosyalarına uygulayabiliriz! 🥳\n"
      ]
    },
    {
      "cell_type": "code",
      "execution_count": 38,
      "metadata": {
        "colab": {
          "base_uri": "https://localhost:8080/"
        },
        "id": "ogE4sGv-x6eT",
        "outputId": "b1a6809a-7d4f-4ee1-87c8-a48f9bb2b93c"
      },
      "outputs": [
        {
          "name": "stdout",
          "output_type": "stream",
          "text": [
            "Downloading...\n",
            "From: https://drive.google.com/uc?id=11T6kLHCs39T0kHFQN6bAGDlWOKJWZON3\n",
            "To: /content/ülkeler-başkentler-mini.txt\n",
            "\r  0% 0.00/425 [00:00<?, ?B/s]\r100% 425/425 [00:00<00:00, 681kB/s]\n"
          ]
        }
      ],
      "source": [
        "# Bu satır kullanacağımız metin belgesini indirmeniz için. Colab belgeleri hafızasında tutmuyor.\n",
        "!gdown \"11T6kLHCs39T0kHFQN6bAGDlWOKJWZON3\""
      ]
    },
    {
      "cell_type": "markdown",
      "metadata": {
        "id": "Bn_E4GBRMov_"
      },
      "source": [
        "**open()** fonksiyonu ile bir metin belgesi açabiliyoruz. Metin ile ilgili işlemlerimizi tamamladığımızda en son **close()** ile metne erişimimizi kapatmalıyız (ki yanlışlıkla metne istemediğimiz bir müdahalede bulunmayalım)"
      ]
    },
    {
      "cell_type": "code",
      "execution_count": 39,
      "metadata": {
        "colab": {
          "base_uri": "https://localhost:8080/"
        },
        "id": "t-pWmgwqLM8k",
        "outputId": "61fba024-e0c4-4d30-ecde-3ad362150b68"
      },
      "outputs": [
        {
          "name": "stdout",
          "output_type": "stream",
          "text": [
            "1\t Çin\tPekin\t20.693.000\t2012\t1.52%\n",
            "2\t Hindistan\tYeni Delhi\t16,787,949\t2014\t0.90%\n",
            "3\t Japonya\tTokyo\t13.189.000\t2011\t10.32%\n",
            "4\t Filipinler\tManila\t12.877.253\t2015\t12.44%\n",
            "5\t Rusya\tMoskova\t11.541.000\t2011\t8.07%\n",
            "6\t Mısır\tKahire\t10.230.350\t2012\t11.10%\n",
            "7\t Endonezya\tJakarta\t10.187.595\t2011\t4.18%\n",
            "8\t Kongo DC\tKinşasa\t10,125,000\t2012\t12.30%\n",
            "9\t Güney Kore\tSeul\t9,989,795\t2015\t20.47%\n",
            "10\t Bangladeş\tDakka\t8,906,000\t2011\t5.56%\n"
          ]
        }
      ],
      "source": [
        "metin = open('ülkeler-başkentler-mini.txt','r')\n",
        "metin_içerik = metin.read()\n",
        "metin.close()\n",
        "# metin_içerik değişkeniyle metnin içeriğini aldık. metin'e erişimi kapattık.\n",
        "# metin_içerik üzerinden metne dair dilediğimiz işlemi yapabiliriz.\n",
        "print(metin_içerik)"
      ]
    },
    {
      "cell_type": "code",
      "execution_count": 40,
      "metadata": {
        "colab": {
          "base_uri": "https://localhost:8080/",
          "height": 87
        },
        "id": "vafjRM3V4uYM",
        "outputId": "03451a78-498b-4137-871d-d9b4a3e6e09c"
      },
      "outputs": [
        {
          "data": {
            "application/vnd.google.colaboratory.intrinsic+json": {
              "type": "string"
            },
            "text/plain": [
              "'1\\t Çin\\tPekin\\t20.693.000\\t2012\\t1.52%\\n2\\t Hindistan\\tYeni Delhi\\t16,787,949\\t2014\\t0.90%\\n3\\t Japonya\\tTokyo\\t13.189.000\\t2011\\t10.32%\\n4\\t Filipinler\\tManila\\t12.877.253\\t2015\\t12.44%\\n5\\t Rusya\\tMoskova\\t11.541.000\\t2011\\t8.07%\\n6\\t Mısır\\tKahire\\t10.230.350\\t2012\\t11.10%\\n7\\t Endonezya\\tJakarta\\t10.187.595\\t2011\\t4.18%\\n8\\t Kongo DC\\tKinşasa\\t10,125,000\\t2012\\t12.30%\\n9\\t Güney Kore\\tSeul\\t9,989,795\\t2015\\t20.47%\\n10\\t Bangladeş\\tDakka\\t8,906,000\\t2011\\t5.56%'"
            ]
          },
          "execution_count": 40,
          "metadata": {},
          "output_type": "execute_result"
        }
      ],
      "source": [
        "metin_içerik"
      ]
    },
    {
      "cell_type": "markdown",
      "metadata": {
        "id": "RF5zuqUwLcID"
      },
      "source": [
        "Her bir satırı ayrı bir eleman olarak bir listede tutmak için **split()**'i kullanabiliriz:"
      ]
    },
    {
      "cell_type": "code",
      "execution_count": 41,
      "metadata": {
        "colab": {
          "base_uri": "https://localhost:8080/"
        },
        "id": "cH3n9FwQoY0d",
        "outputId": "c9486012-f723-413e-b993-4a6bf8d8f0c7"
      },
      "outputs": [
        {
          "name": "stdout",
          "output_type": "stream",
          "text": [
            "['1\\t Çin\\tPekin\\t20.693.000\\t2012\\t1.52%', '2\\t Hindistan\\tYeni Delhi\\t16,787,949\\t2014\\t0.90%', '3\\t Japonya\\tTokyo\\t13.189.000\\t2011\\t10.32%', '4\\t Filipinler\\tManila\\t12.877.253\\t2015\\t12.44%', '5\\t Rusya\\tMoskova\\t11.541.000\\t2011\\t8.07%', '6\\t Mısır\\tKahire\\t10.230.350\\t2012\\t11.10%', '7\\t Endonezya\\tJakarta\\t10.187.595\\t2011\\t4.18%', '8\\t Kongo DC\\tKinşasa\\t10,125,000\\t2012\\t12.30%', '9\\t Güney Kore\\tSeul\\t9,989,795\\t2015\\t20.47%', '10\\t Bangladeş\\tDakka\\t8,906,000\\t2011\\t5.56%']\n"
          ]
        }
      ],
      "source": [
        "satırlar = metin_içerik.split('\\n')\n",
        "print(satırlar)"
      ]
    },
    {
      "cell_type": "code",
      "execution_count": 42,
      "metadata": {
        "colab": {
          "base_uri": "https://localhost:8080/"
        },
        "id": "gV0LBAYXozga",
        "outputId": "f6b9eaf1-5975-46d9-a60f-187897b0052a"
      },
      "outputs": [
        {
          "name": "stdout",
          "output_type": "stream",
          "text": [
            "1\t Çin\tPekin\t20.693.000\t2012\t1.52%\n",
            "2\t Hindistan\tYeni Delhi\t16,787,949\t2014\t0.90%\n",
            "3\t Japonya\tTokyo\t13.189.000\t2011\t10.32%\n",
            "4\t Filipinler\tManila\t12.877.253\t2015\t12.44%\n",
            "5\t Rusya\tMoskova\t11.541.000\t2011\t8.07%\n",
            "6\t Mısır\tKahire\t10.230.350\t2012\t11.10%\n",
            "7\t Endonezya\tJakarta\t10.187.595\t2011\t4.18%\n",
            "8\t Kongo DC\tKinşasa\t10,125,000\t2012\t12.30%\n",
            "9\t Güney Kore\tSeul\t9,989,795\t2015\t20.47%\n",
            "10\t Bangladeş\tDakka\t8,906,000\t2011\t5.56%\n"
          ]
        }
      ],
      "source": [
        "for satır in satırlar:\n",
        "  print(satır)"
      ]
    },
    {
      "cell_type": "markdown",
      "metadata": {
        "id": "umH6V5b95Cda"
      },
      "source": [
        "Ya da daha hızlısı:  __readlines()__ ile her bir satırı liste elemanına dönüştürerek okuma"
      ]
    },
    {
      "cell_type": "code",
      "execution_count": 43,
      "metadata": {
        "colab": {
          "base_uri": "https://localhost:8080/"
        },
        "id": "44AyPHHb4zvs",
        "outputId": "72b37145-fe76-4a01-91b3-681d79570fb2"
      },
      "outputs": [
        {
          "name": "stdout",
          "output_type": "stream",
          "text": [
            "['1\\t Çin\\tPekin\\t20.693.000\\t2012\\t1.52%\\n', '2\\t Hindistan\\tYeni Delhi\\t16,787,949\\t2014\\t0.90%\\n', '3\\t Japonya\\tTokyo\\t13.189.000\\t2011\\t10.32%\\n', '4\\t Filipinler\\tManila\\t12.877.253\\t2015\\t12.44%\\n', '5\\t Rusya\\tMoskova\\t11.541.000\\t2011\\t8.07%\\n', '6\\t Mısır\\tKahire\\t10.230.350\\t2012\\t11.10%\\n', '7\\t Endonezya\\tJakarta\\t10.187.595\\t2011\\t4.18%\\n', '8\\t Kongo DC\\tKinşasa\\t10,125,000\\t2012\\t12.30%\\n', '9\\t Güney Kore\\tSeul\\t9,989,795\\t2015\\t20.47%\\n', '10\\t Bangladeş\\tDakka\\t8,906,000\\t2011\\t5.56%']\n"
          ]
        }
      ],
      "source": [
        "metin = open('ülkeler-başkentler-mini.txt','r')\n",
        "satırlar = metin.readlines()\n",
        "metin.close()\n",
        "\n",
        "print(satırlar)"
      ]
    },
    {
      "cell_type": "code",
      "execution_count": 44,
      "metadata": {
        "colab": {
          "base_uri": "https://localhost:8080/"
        },
        "id": "g-Q9QfYY5BtA",
        "outputId": "4e26e349-ce09-4e03-dce6-39227d54b716"
      },
      "outputs": [
        {
          "name": "stdout",
          "output_type": "stream",
          "text": [
            "1\t Çin\tPekin\t20.693.000\t2012\t1.52%\n",
            "\n",
            "2\t Hindistan\tYeni Delhi\t16,787,949\t2014\t0.90%\n",
            "\n",
            "3\t Japonya\tTokyo\t13.189.000\t2011\t10.32%\n",
            "\n",
            "4\t Filipinler\tManila\t12.877.253\t2015\t12.44%\n",
            "\n",
            "5\t Rusya\tMoskova\t11.541.000\t2011\t8.07%\n",
            "\n",
            "6\t Mısır\tKahire\t10.230.350\t2012\t11.10%\n",
            "\n",
            "7\t Endonezya\tJakarta\t10.187.595\t2011\t4.18%\n",
            "\n",
            "8\t Kongo DC\tKinşasa\t10,125,000\t2012\t12.30%\n",
            "\n",
            "9\t Güney Kore\tSeul\t9,989,795\t2015\t20.47%\n",
            "\n",
            "10\t Bangladeş\tDakka\t8,906,000\t2011\t5.56%\n"
          ]
        }
      ],
      "source": [
        "for satır in satırlar:\n",
        "  print(satır)"
      ]
    },
    {
      "cell_type": "markdown",
      "metadata": {
        "id": "JBGtdtS-L3pg"
      },
      "source": [
        "Biraz temizlik yaparak ülkeleri ve başkentleri iki ayrı listede toplayalım:"
      ]
    },
    {
      "cell_type": "code",
      "execution_count": 45,
      "metadata": {
        "colab": {
          "base_uri": "https://localhost:8080/",
          "height": 35
        },
        "id": "-9rjhS1dH4Da",
        "outputId": "bef4391c-1abf-4b20-90da-b1eaa9d92420"
      },
      "outputs": [
        {
          "data": {
            "application/vnd.google.colaboratory.intrinsic+json": {
              "type": "string"
            },
            "text/plain": [
              "'1\\t Çin\\tPekin\\t20.693.000\\t2012\\t1.52%\\n'"
            ]
          },
          "execution_count": 45,
          "metadata": {},
          "output_type": "execute_result"
        }
      ],
      "source": [
        "satırlar[0]"
      ]
    },
    {
      "cell_type": "code",
      "execution_count": 46,
      "metadata": {
        "colab": {
          "base_uri": "https://localhost:8080/"
        },
        "id": "RS7Qtr6rowwg",
        "outputId": "eb87e8c1-ebed-4bec-835e-710fe760defb"
      },
      "outputs": [
        {
          "name": "stdout",
          "output_type": "stream",
          "text": [
            "['1', ' Çin', 'Pekin', '20.693.000', '2012', '1.52%\\n']\n"
          ]
        }
      ],
      "source": [
        "çin = satırlar[0].split('\\t')\n",
        "print(çin)"
      ]
    },
    {
      "cell_type": "markdown",
      "metadata": {
        "id": "eLHEnWnepyEs"
      },
      "source": [
        "Çin'in önündeki boşluğu temizlememiz lazım"
      ]
    },
    {
      "cell_type": "code",
      "execution_count": 47,
      "metadata": {
        "colab": {
          "base_uri": "https://localhost:8080/",
          "height": 35
        },
        "id": "qzjs_v_KpwaV",
        "outputId": "8357eaa9-d2d1-4685-e248-b3a7dfef053d"
      },
      "outputs": [
        {
          "data": {
            "application/vnd.google.colaboratory.intrinsic+json": {
              "type": "string"
            },
            "text/plain": [
              "'Çin'"
            ]
          },
          "execution_count": 47,
          "metadata": {},
          "output_type": "execute_result"
        }
      ],
      "source": [
        "çin[1].strip()"
      ]
    },
    {
      "cell_type": "code",
      "execution_count": 48,
      "metadata": {
        "colab": {
          "base_uri": "https://localhost:8080/",
          "height": 35
        },
        "id": "ljm42l9zpIKd",
        "outputId": "ee4b76d7-e4cf-4624-d862-37420624a2b5"
      },
      "outputs": [
        {
          "data": {
            "application/vnd.google.colaboratory.intrinsic+json": {
              "type": "string"
            },
            "text/plain": [
              "'Pekin'"
            ]
          },
          "execution_count": 48,
          "metadata": {},
          "output_type": "execute_result"
        }
      ],
      "source": [
        "çin[2]"
      ]
    },
    {
      "cell_type": "markdown",
      "metadata": {
        "id": "G0Me1l4uMDZ2"
      },
      "source": [
        "Tek bir satırdaki denememiz gayet başarılı, şimdi tüm satırlara bunu uygulayalım:"
      ]
    },
    {
      "cell_type": "code",
      "execution_count": 49,
      "metadata": {
        "colab": {
          "base_uri": "https://localhost:8080/"
        },
        "id": "5MvI9no7pJ2S",
        "outputId": "727dd5e0-abf9-4d9d-88aa-730c3262ff3a"
      },
      "outputs": [
        {
          "name": "stdout",
          "output_type": "stream",
          "text": [
            "['Çin', 'Hindistan', 'Japonya', 'Filipinler', 'Rusya', 'Mısır', 'Endonezya', 'Kongo DC', 'Güney Kore', 'Bangladeş']\n",
            "['Pekin', 'Yeni Delhi', 'Tokyo', 'Manila', 'Moskova', 'Kahire', 'Jakarta', 'Kinşasa', 'Seul', 'Dakka']\n"
          ]
        }
      ],
      "source": [
        "ülkeler = []\n",
        "başkentler = []\n",
        "for satır in satırlar:\n",
        "  ülke = satır.split('\\t')[1].strip()\n",
        "  başkent = satır.split('\\t')[2].strip()\n",
        "  ülkeler.append(ülke)\n",
        "  başkentler.append(başkent)\n",
        "\n",
        "print(ülkeler)\n",
        "print(başkentler)"
      ]
    },
    {
      "cell_type": "markdown",
      "metadata": {
        "id": "Lnhc4OPu5O1d"
      },
      "source": [
        "## Yeni Metin Belgesi Oluşturma"
      ]
    },
    {
      "cell_type": "code",
      "execution_count": 50,
      "metadata": {
        "id": "KKiuHJTXdKng"
      },
      "outputs": [],
      "source": [
        "metin = open(\"yepyeni-harika-bir-metin.txt\",'w')\n",
        "metin.write(\"Bu yeni bir metin!\\n\")\n",
        "metin.write(\"Bu da yeni metnin ikinci satırı\\n\")\n",
        "for i in range(10):\n",
        "  metin.write('Aman Allah\\'ım tekrar tekrar yazabiliyorum!\\n')\n",
        "metin.close()"
      ]
    },
    {
      "cell_type": "markdown",
      "metadata": {
        "id": "w0Wm5t4uNLkv"
      },
      "source": [
        "Acaba nasıl oldu? yazdığımız metni okuyalım:"
      ]
    },
    {
      "cell_type": "code",
      "execution_count": 51,
      "metadata": {
        "colab": {
          "base_uri": "https://localhost:8080/"
        },
        "id": "iGWhgRNX5YEt",
        "outputId": "9edce06d-3afd-4f2b-d983-04434f500b54"
      },
      "outputs": [
        {
          "name": "stdout",
          "output_type": "stream",
          "text": [
            "Bu yeni bir metin!\n",
            "Bu da yeni metnin ikinci satırı\n",
            "Aman Allah'ım tekrar tekrar yazabiliyorum!\n",
            "Aman Allah'ım tekrar tekrar yazabiliyorum!\n",
            "Aman Allah'ım tekrar tekrar yazabiliyorum!\n",
            "Aman Allah'ım tekrar tekrar yazabiliyorum!\n",
            "Aman Allah'ım tekrar tekrar yazabiliyorum!\n",
            "Aman Allah'ım tekrar tekrar yazabiliyorum!\n",
            "Aman Allah'ım tekrar tekrar yazabiliyorum!\n",
            "Aman Allah'ım tekrar tekrar yazabiliyorum!\n",
            "Aman Allah'ım tekrar tekrar yazabiliyorum!\n",
            "Aman Allah'ım tekrar tekrar yazabiliyorum!\n",
            "\n"
          ]
        }
      ],
      "source": [
        "metin = open('yepyeni-harika-bir-metin.txt','r')\n",
        "metin_belgesi = metin.read()\n",
        "metin.close() \n",
        "print(metin_belgesi)"
      ]
    },
    {
      "cell_type": "code",
      "execution_count": 52,
      "metadata": {
        "id": "pm5Fnr04qkqt"
      },
      "outputs": [],
      "source": [
        "# peki aynı metne bir şeyler eklemek istersek?\n",
        "metin = open(\"yepyeni-harika-bir-metin.txt\",'w')\n",
        "metin.write(\"işte eklenen yeni bir satır!\\n\")\n",
        "metin.close()"
      ]
    },
    {
      "cell_type": "code",
      "execution_count": 53,
      "metadata": {
        "colab": {
          "base_uri": "https://localhost:8080/"
        },
        "id": "mvhnGb-Squzf",
        "outputId": "f4070954-67ee-4899-8f82-c4a0815b4405"
      },
      "outputs": [
        {
          "name": "stdout",
          "output_type": "stream",
          "text": [
            "işte eklenen yeni bir satır!\n",
            "\n"
          ]
        }
      ],
      "source": [
        "metin = open('yepyeni-harika-bir-metin.txt','r')\n",
        "metin_belgesi = metin.read()\n",
        "metin.close()\n",
        "print(metin_belgesi)"
      ]
    },
    {
      "cell_type": "markdown",
      "metadata": {
        "id": "Dv_6s819qxes"
      },
      "source": [
        "Ey-vah! ÜZERİNE YAZMIŞ! Bunu engellemek için: "
      ]
    },
    {
      "cell_type": "code",
      "execution_count": 54,
      "metadata": {
        "id": "rvGuh5p2q2AS"
      },
      "outputs": [],
      "source": [
        "metin = open('yepyeni-harika-bir-metin.txt','a')\n",
        "metin.write(\"Bu sefer temkinli bir şekilde eklenen yeni bir satır!\\n\")\n",
        "metin.close()"
      ]
    },
    {
      "cell_type": "code",
      "execution_count": 55,
      "metadata": {
        "colab": {
          "base_uri": "https://localhost:8080/"
        },
        "id": "Ko4Zw-Yqq199",
        "outputId": "6885409f-76f3-4cf2-d1c1-7ea1c02dadb1"
      },
      "outputs": [
        {
          "name": "stdout",
          "output_type": "stream",
          "text": [
            "işte eklenen yeni bir satır!\n",
            "Bu sefer temkinli bir şekilde eklenen yeni bir satır!\n",
            "\n"
          ]
        }
      ],
      "source": [
        "metin = open('yepyeni-harika-bir-metin.txt','r')\n",
        "metin_belgesi = metin.read()\n",
        "metin.close()\n",
        "print(metin_belgesi)"
      ]
    },
    {
      "cell_type": "markdown",
      "metadata": {
        "id": "ge46Na625gpc"
      },
      "source": [
        "## Yazdığımız metni okuma\n",
        "Yukarıda okumak ve yazmak için tekrar tekrar açmak zorunda kaldık ama bu TEMBELLİK KURALLARINA AYKIRI 🤨\n",
        "\n",
        "Aynı anda yazıp okuyabilmek için \"__w+__\" veya \"__a+__\" yazabiliriz.\n",
        "\n",
        "w: write\n",
        "\n",
        "a: append (sondan ekle)"
      ]
    },
    {
      "cell_type": "code",
      "execution_count": 56,
      "metadata": {
        "colab": {
          "base_uri": "https://localhost:8080/"
        },
        "id": "hK-2N5eC5faM",
        "outputId": "6717fbcc-2625-4bbf-8751-40db1f78aae2"
      },
      "outputs": [
        {
          "name": "stdout",
          "output_type": "stream",
          "text": [
            "Bu yepyeni bir metin!\n",
            "Bu da yepyeni metnin ikinci satırı\n",
            "\n"
          ]
        }
      ],
      "source": [
        "metin = open(\"yeni-metin-belgesi.txt\",'w+')\n",
        "metin.write(\"Bu yepyeni bir metin!\\n\")\n",
        "metin.write(\"Bu da yepyeni metnin ikinci satırı\\n\")\n",
        "metin.seek(0) # (Okuyabilmek için) imleci başa al. \n",
        "satırlar = metin.read()\n",
        "metin.close()  \n",
        "print(satırlar)"
      ]
    },
    {
      "cell_type": "markdown",
      "metadata": {
        "id": "Jk_go001LEUU"
      },
      "source": [
        "Daha güvenli, pratik ve sık kullanılan metin manipülasyon yöntemi\n",
        "\n",
        "```\n",
        "with open(\"okunacakmetin\") as metin:\n",
        "  metinle ilgili işlemler\n",
        "```\n",
        "\n",
        "Bu şekilde yaptığımızda metin.close() şeklinde en son kapatmamıza ihtiyaç kalmıyor. Aynı bir if ya da for bloğu içindeymiş gibi, with içerisindeyken metine erişimimiz açık, dışında erişim bitiyor."
      ]
    },
    {
      "cell_type": "code",
      "execution_count": 57,
      "metadata": {
        "colab": {
          "base_uri": "https://localhost:8080/"
        },
        "id": "9V96jbGbNzR1",
        "outputId": "bac3b38d-f469-4991-b21f-8d16e6606ef9"
      },
      "outputs": [
        {
          "name": "stdout",
          "output_type": "stream",
          "text": [
            "Bu yepyeni bir metin!\n",
            "Bu da yepyeni metnin ikinci satırı\n",
            "\n"
          ]
        }
      ],
      "source": [
        "with open(\"yeni-metin-belgesi.txt\",'w+') as metin:\n",
        "   metin.write(\"Bu yepyeni bir metin!\\n\")\n",
        "   metin.write(\"Bu da yepyeni metnin ikinci satırı\\n\")\n",
        "   metin.seek(0)\n",
        "   satırlar = metin.read()\n",
        "  \n",
        "print(satırlar)"
      ]
    },
    {
      "cell_type": "markdown",
      "metadata": {
        "id": "RHX5XfXTrjUr"
      },
      "source": [
        "<br>"
      ]
    }
  ],
  "metadata": {
    "colab": {
      "provenance": [],
      "toc_visible": true
    },
    "kernelspec": {
      "display_name": "Python 3.8.8 64-bit",
      "language": "python",
      "name": "python3"
    },
    "language_info": {
      "name": "python",
      "version": "3.8.8"
    },
    "vscode": {
      "interpreter": {
        "hash": "02e12ecec72e0e8b224865df209904ea825c501fe02b5f7be2e8b7a5af6841a7"
      }
    }
  },
  "nbformat": 4,
  "nbformat_minor": 0
}
