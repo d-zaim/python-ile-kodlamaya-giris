{
  "nbformat": 4,
  "nbformat_minor": 0,
  "metadata": {
    "colab": {
      "provenance": []
    },
    "kernelspec": {
      "name": "python3",
      "display_name": "Python 3"
    },
    "language_info": {
      "name": "python"
    }
  },
  "cells": [
    {
      "cell_type": "markdown",
      "metadata": {
        "id": "PHxEAF46SW54"
      },
      "source": [
        "# Python ile Kodlamaya Giriş\n",
        "Bu derste bilgisayarla hangi tür verileri kullanarak etkileşime geçebileceğimizi inceleyeceğiz, bir nevi kodlamanın alfabesi. Akabinde kodlamanın en temel becerilerinden biri olan şartlı ifadeleri öğreneceğiz. Böylelikle ilk programımızı yazmış olacağız 🥳"
      ]
    },
    {
      "cell_type": "markdown",
      "metadata": {
        "id": "iPY-g74LihyL"
      },
      "source": [
        "# Veri tipleri (Data types)\n",
        "1. sözel veriler -> string\n",
        "\n",
        "2. sayısal veriler -> integer (tam sayı) ve float (ondalıklı sayı)\n",
        "\n",
        "3. Mantıksal doğruluk -> True ve False"
      ]
    },
    {
      "cell_type": "markdown",
      "metadata": {
        "id": "Frx9GZyThwx3"
      },
      "source": [
        "_Küçük bir not: Kodları çalıştırmak için her bir hücrenin solundaki play butonuna veya \"Ctrl + Enter\"a basabilirsiniz._ \n",
        "\n",
        "_İyi haber: Notta istediğiniz değişikliği yapabilirsiniz_ (_hatta yapmalısınız_ 😎 ). _Yapmazsanız biraz üzücü bir haber: Değişiklikleriniz silinir_ 😟 _Kaydetmek istiyorsanız, öncelikle bu not defterinin bir kopyasını kendi Drive'ınıza kaydetmeniz gerekiyor. Sol üstteki File kısmından \"Save a copy in Drive\" seçeneğine tıklayarak bunu yapabilirsiniz._"
      ]
    },
    {
      "cell_type": "markdown",
      "metadata": {
        "id": "z5rr6qJaibhz"
      },
      "source": [
        "## 1) String (Sözel veri)"
      ]
    },
    {
      "cell_type": "markdown",
      "source": [
        "İlk veri türümüzle başlayalım: tweetlerimiz, maillerimiz, hesap bilgilerimiz... hepsi birer sözel veri ve bunların kodlama dilindeki ismi: **string**. Bir string oluşturabilmemiz için yazdığımız metnin başına ve sonuna tek veya çift tırnak işareti koymamız yeterli. Ekrana bir şey yazdırmak istiyorsak print() fonksiyonunun içine yazıyoruz:"
      ],
      "metadata": {
        "id": "cEx6flPDJubN"
      }
    },
    {
      "cell_type": "code",
      "metadata": {
        "id": "EEyEmdiVf0dF",
        "colab": {
          "base_uri": "https://localhost:8080/"
        },
        "outputId": "63224ea0-4720-4fec-be53-f17d09927619"
      },
      "source": [
        "print(\"Merhaba Python!\")"
      ],
      "execution_count": null,
      "outputs": [
        {
          "output_type": "stream",
          "name": "stdout",
          "text": [
            "Merhaba Python!\n"
          ]
        }
      ]
    },
    {
      "cell_type": "markdown",
      "metadata": {
        "id": "iJouxyPVkk_y"
      },
      "source": [
        "Tırnak işaretlerinin içine alınmamış yazıların hiçbiri string değildir. (Peki nedir? Birazdan öğreneceğiz 🧐)\n",
        "\n",
        "Öncelikle tırnak işaretlerine dikkat etmediğimizde ne olduğunu bir görelim:"
      ]
    },
    {
      "cell_type": "code",
      "metadata": {
        "id": "C3KBayjykxXF",
        "colab": {
          "base_uri": "https://localhost:8080/",
          "height": 133
        },
        "outputId": "62b7a2e0-3b67-4b5d-c962-dd20ebb59818"
      },
      "source": [
        "print(\"Merhaba)"
      ],
      "execution_count": null,
      "outputs": [
        {
          "output_type": "error",
          "ename": "SyntaxError",
          "evalue": "ignored",
          "traceback": [
            "\u001b[0;36m  File \u001b[0;32m\"<ipython-input-2-b8f02d0f6019>\"\u001b[0;36m, line \u001b[0;32m1\u001b[0m\n\u001b[0;31m    print(\"Merhaba)\u001b[0m\n\u001b[0m                   ^\u001b[0m\n\u001b[0;31mSyntaxError\u001b[0m\u001b[0;31m:\u001b[0m EOL while scanning string literal\n"
          ]
        }
      ]
    },
    {
      "cell_type": "markdown",
      "metadata": {
        "id": "KYH1SHESk4d8"
      },
      "source": [
        "vee ilk hatamızı aldık 🥳: **SyntaxError** \n",
        "\n",
        "Kodlama öğrenme sürecinde hatalar en önemli kısımlardan biri. Çünkü alıştırmaları yaparken muhakkak hata alacaksınız, en önemlisi hatanın nereden kaynaklandığını tespit etmek.\n",
        "\n",
        "Neyse ki ilk aldığımız hata bizi en çok sevindiren hatalardan: Gramer hatası 😪 Kodumuzu Python'un kabul etmediği bir şekilde yazmışız. Tırnak işaretlerini düzelttiğimizde hata düzelecektir 🤗"
      ]
    },
    {
      "cell_type": "code",
      "metadata": {
        "id": "Fja3b8oElI7u",
        "colab": {
          "base_uri": "https://localhost:8080/"
        },
        "outputId": "c37aaf41-c5fe-4136-826e-dcd6f801047d"
      },
      "source": [
        "print('Merhaba')"
      ],
      "execution_count": null,
      "outputs": [
        {
          "output_type": "stream",
          "name": "stdout",
          "text": [
            "Merhaba\n"
          ]
        }
      ]
    },
    {
      "cell_type": "code",
      "metadata": {
        "id": "C5GANCKNlV66",
        "colab": {
          "base_uri": "https://localhost:8080/"
        },
        "outputId": "5cf1bde5-3248-4239-e214-d5d8aa18cbe8"
      },
      "source": [
        "print(\"Merhaba\")"
      ],
      "execution_count": null,
      "outputs": [
        {
          "output_type": "stream",
          "name": "stdout",
          "text": [
            "Merhaba\n"
          ]
        }
      ]
    },
    {
      "cell_type": "markdown",
      "source": [
        "Peki ya metnin içerisinde tırnak işareti kullanmamız gerekseydi?"
      ],
      "metadata": {
        "id": "xNrn4nVsSKtP"
      }
    },
    {
      "cell_type": "code",
      "source": [
        "print(\"Tolstoy 1867 yılında \"Savaş ve Barış\" adlı eserini yayınlamıştır.\")"
      ],
      "metadata": {
        "id": "b9eowxwwGRQU",
        "colab": {
          "base_uri": "https://localhost:8080/",
          "height": 133
        },
        "outputId": "6f5c887e-eb82-4d8e-dd47-f05368d70185"
      },
      "execution_count": null,
      "outputs": [
        {
          "output_type": "error",
          "ename": "SyntaxError",
          "evalue": "ignored",
          "traceback": [
            "\u001b[0;36m  File \u001b[0;32m\"<ipython-input-5-b6fe77d806fb>\"\u001b[0;36m, line \u001b[0;32m1\u001b[0m\n\u001b[0;31m    print(\"Tolstoy 1867 yılında \"Savaş ve Barış\" adlı eserini yayınlamıştır.\")\u001b[0m\n\u001b[0m                                     ^\u001b[0m\n\u001b[0;31mSyntaxError\u001b[0m\u001b[0;31m:\u001b[0m invalid syntax\n"
          ]
        }
      ]
    },
    {
      "cell_type": "markdown",
      "source": [
        "Hem tek hem çift tırnak işaretiyle string yazabildiğimiz için string'i oluşturanları tek tırnakla yazarsak problem çözülür:"
      ],
      "metadata": {
        "id": "qkL1jlhMSTye"
      }
    },
    {
      "cell_type": "code",
      "metadata": {
        "id": "yRYK0_sNNuB8",
        "colab": {
          "base_uri": "https://localhost:8080/"
        },
        "outputId": "adab5aa6-79c3-43d6-d9a3-a0e094ee0989"
      },
      "source": [
        "print('Tolstoy 1867 yılında \"Savaş ve Barış\" adlı eserini yayınlamıştır.')"
      ],
      "execution_count": null,
      "outputs": [
        {
          "output_type": "stream",
          "name": "stdout",
          "text": [
            "Tolstoy 1867 yılında \"Savaş ve Barış\" adlı eserini yayınlamıştır.\n"
          ]
        }
      ]
    },
    {
      "cell_type": "markdown",
      "source": [
        "### Dışarıdan Veri Alma ve Kullanma"
      ],
      "metadata": {
        "id": "s5Xe5nwXTDje"
      }
    },
    {
      "cell_type": "markdown",
      "source": [
        "Buraya kadar güzeldi, peki hani kodlama?\n",
        "\n",
        "Şimdi alışveriş sitelerinden gelen maillerin nasıl adımıza (ve her bir kullanıcının adına) özel oluşturulduklarını göreceğiz.\n",
        "\n",
        "Bunun için öncelikle en önemli kodlama kavramlarından biriyle tanışmamız gerekiyor: **değişken (variable)**\n",
        "\n",
        "Değişkenleri şöyle düşünebiliriz. Bir veri yazdığımızda bilgisayardan o veriyi hafızasında tutmasını istiyoruz. Fakat bilgisayarın hafızasındaki veri depolarının adresleri şu şekilde: \"11126752\". Biz verinin durduğu hafıza bölümünün adresini ezberleyemeyeceğimiz ve dahası yazması felaket bir eziyet olacağı için bu adresin adını kendimiz belirleyebililiriz. Yani:\n",
        "```\n",
        "isim = \"Ali\"\n",
        "```\n",
        "Yazdığımızda Python'a şunu demiş oluyoruz: \n",
        "\n",
        "_Hafızada \"Ali\" stringi için bir yer oluştur. \"isim\" kelimesini her yazdığımda bana bu veriyi (\"Ali\"yi) getirmeni istiyorum._\n",
        "\n",
        "Hemen görelim:"
      ],
      "metadata": {
        "id": "XXKU3vmQTOKh"
      }
    },
    {
      "cell_type": "code",
      "source": [
        "isim = \"Ali\"\n",
        "print(isim)"
      ],
      "metadata": {
        "colab": {
          "base_uri": "https://localhost:8080/"
        },
        "id": "Bq18f2ntVd7A",
        "outputId": "785121ec-3d03-4e09-9b33-344a34333789"
      },
      "execution_count": 3,
      "outputs": [
        {
          "output_type": "stream",
          "name": "stdout",
          "text": [
            "Ali\n"
          ]
        }
      ]
    },
    {
      "cell_type": "markdown",
      "source": [
        "Böylelikle **isim** \"Ali\" verisini tutan bir değişken olmuş oldu. Adından da anlaşılacağı üzere biz bu değişkenin tuttuğu veriyi dilediğimiz gibi değiştirebiliriz."
      ],
      "metadata": {
        "id": "JAqoI1GEVgAX"
      }
    },
    {
      "cell_type": "code",
      "source": [
        "isim = \"Ali\"\n",
        "isim = \"Ayşe\"\n",
        "print(isim)"
      ],
      "metadata": {
        "colab": {
          "base_uri": "https://localhost:8080/"
        },
        "id": "fEDRgR3xVd4r",
        "outputId": "df3df295-cc20-4b02-9811-a98ea15e0a4a"
      },
      "execution_count": 4,
      "outputs": [
        {
          "output_type": "stream",
          "name": "stdout",
          "text": [
            "Ayşe\n"
          ]
        }
      ]
    },
    {
      "cell_type": "markdown",
      "source": [
        "Peki bunun ne önemi var? İsmin ne olduğunu zaten ben yazdım 😒 diyorsanız, o halde kullanıcıdan veri almayı öğrenelim: **input()** fonksiyonu *(ekrana yazdırmasını önemsemeyiniz.)* "
      ],
      "metadata": {
        "id": "CI74ENgjVqYp"
      }
    },
    {
      "cell_type": "code",
      "metadata": {
        "id": "GBwhjWfvf0a2",
        "colab": {
          "base_uri": "https://localhost:8080/",
          "height": 53
        },
        "outputId": "82968346-0ef2-4d0a-8693-ee77d1c2219d"
      },
      "source": [
        "input(\"İsminizi giriniz: \")"
      ],
      "execution_count": null,
      "outputs": [
        {
          "name": "stdout",
          "output_type": "stream",
          "text": [
            "İsminizi giriniz: Ali\n"
          ]
        },
        {
          "output_type": "execute_result",
          "data": {
            "application/vnd.google.colaboratory.intrinsic+json": {
              "type": "string"
            },
            "text/plain": [
              "'Ali'"
            ]
          },
          "metadata": {},
          "execution_count": 7
        }
      ]
    },
    {
      "cell_type": "markdown",
      "metadata": {
        "id": "P-kJpTSyhCEd"
      },
      "source": [
        "Peki bu aldığımız veriyi kullanmak istiyorsak? İşte bunun için yukarıda öğrendiğimiz üzere bir __değişken__ oluşturmamız gerekiyor."
      ]
    },
    {
      "cell_type": "code",
      "metadata": {
        "id": "grUw344rf0Yu",
        "colab": {
          "base_uri": "https://localhost:8080/"
        },
        "outputId": "bc1eb998-18ec-46a0-ef6f-6e89e0676462"
      },
      "source": [
        "isim = input(\"İsminizi giriniz: \")"
      ],
      "execution_count": null,
      "outputs": [
        {
          "name": "stdout",
          "output_type": "stream",
          "text": [
            "İsminizi giriniz: Ali\n"
          ]
        }
      ]
    },
    {
      "cell_type": "markdown",
      "metadata": {
        "id": "Hiod5Sx6hrqd"
      },
      "source": [
        "Şimdi bu veriyi print fonksiyonunun içinde kullanabiliriz:"
      ]
    },
    {
      "cell_type": "code",
      "metadata": {
        "id": "iNeqlfrCf0V_",
        "colab": {
          "base_uri": "https://localhost:8080/"
        },
        "outputId": "b46d662c-fc03-4e02-85e4-fad0f19a74fb"
      },
      "source": [
        "isim = input(\"İsminizi giriniz: \")\n",
        "print(\"Hoş geldin\" + isim)"
      ],
      "execution_count": null,
      "outputs": [
        {
          "output_type": "stream",
          "name": "stdout",
          "text": [
            "İsminizi giriniz: Ali\n",
            "Hoş geldinAli\n"
          ]
        }
      ]
    },
    {
      "cell_type": "markdown",
      "metadata": {
        "id": "7vQH5D6diPkW"
      },
      "source": [
        "Wohoo! Yapışık oldu ama yine de harika! 🎉 Küçük pürüzü bir boşluk bırakarak giderebiliriz:"
      ]
    },
    {
      "cell_type": "code",
      "metadata": {
        "id": "KJRh1sIlf0Ts",
        "colab": {
          "base_uri": "https://localhost:8080/"
        },
        "outputId": "efd75a1d-33d1-4d85-bff4-91ba1311c474"
      },
      "source": [
        "isim = input(\"İsminizi giriniz: \")\n",
        "print(\"Hoş geldin \" + isim)"
      ],
      "execution_count": null,
      "outputs": [
        {
          "output_type": "stream",
          "name": "stdout",
          "text": [
            "İsminizi giriniz: Ali\n",
            "Hoş geldin Ali\n"
          ]
        }
      ]
    },
    {
      "cell_type": "markdown",
      "source": [
        "İşte tam bize gelen o kullanıcıya özel maillerden birini artık oluşturabiliriz:"
      ],
      "metadata": {
        "id": "5aicLvR9j6fh"
      }
    },
    {
      "cell_type": "code",
      "source": [
        "isim = input(\"İsminizi giriniz: \")\n",
        "print(\"Hey \" + isim + \" sana özel harika bir kampanyamız var!\")"
      ],
      "metadata": {
        "id": "gbBQSlHQj57u",
        "colab": {
          "base_uri": "https://localhost:8080/"
        },
        "outputId": "548708b5-89f4-4ae7-a91b-71b02d903441"
      },
      "execution_count": null,
      "outputs": [
        {
          "output_type": "stream",
          "name": "stdout",
          "text": [
            "İsminizi giriniz: Ali\n",
            "Hey Ali sana özel harika bir kampanyamız var!\n"
          ]
        }
      ]
    },
    {
      "cell_type": "markdown",
      "source": [
        "Buraya kadar harika, şimdi önemli bir soru: Değişkenlerin adı neye göre belirleniyor?"
      ],
      "metadata": {
        "id": "VqDOIkN2WyWY"
      }
    },
    {
      "cell_type": "code",
      "source": [
        "ananas = input(\"İsminizi giriniz: \")\n",
        "print(\"Hey \" + ananas + \" sana özel harika bir kampanyamız var!\")"
      ],
      "metadata": {
        "colab": {
          "base_uri": "https://localhost:8080/"
        },
        "id": "fAzTjllBW3Oq",
        "outputId": "7acd50b4-412f-49d1-bf93-3935a98369d9"
      },
      "execution_count": 5,
      "outputs": [
        {
          "output_type": "stream",
          "name": "stdout",
          "text": [
            "İsminizi giriniz: Ali\n",
            "Hey Ali sana özel harika bir kampanyamız var!\n"
          ]
        }
      ]
    },
    {
      "cell_type": "markdown",
      "source": [
        "Gördüğümüz üzere __isim__ yerine __ananas__ da yazsak kod çalışır ve Ali'nin bundan hiç haberi olmaz 🤭\n",
        "\n",
        "Hatırlayalım: değişkenler bizim bilgisayarın hafızasındaki veriyi çağırabilmemiz içindi. Yani kendi kullanımımız için oluşturduğumuz bir tür etiket. Dolayısıyla dilediğiniz şeyi yazabilirsiniz (sayıyla başlamamak gibi küçük kuralları var), fakat önemli olan birinin kodunuzu okuduğunda (ve kendiniz okuduğunuzda) o değişkenin içinde ne olduğunu anlayabilmesi 😬"
      ],
      "metadata": {
        "id": "prFWSlbFW55_"
      }
    },
    {
      "cell_type": "markdown",
      "metadata": {
        "id": "AtWZOeNqiYda"
      },
      "source": [
        "## 2) Sayısal Veri (integer ve float)"
      ]
    },
    {
      "cell_type": "markdown",
      "source": [
        "Sayı konusunda anlatabileceğimiz pek bir şey yok. Olduğu gibi yazabiliyoruz. Sadece terimsel ayrımı söyleyelim:\n",
        "\n",
        "- Integer: Tam sayı \n",
        "- Float: Ondalıklı sayı"
      ],
      "metadata": {
        "id": "oJOLZ94gYAMD"
      }
    },
    {
      "cell_type": "code",
      "metadata": {
        "id": "pRBV2z6oiU_K",
        "colab": {
          "base_uri": "https://localhost:8080/"
        },
        "outputId": "19128c1d-8679-4e87-f3d5-77301c19296e"
      },
      "source": [
        "print(3 + 5)"
      ],
      "execution_count": null,
      "outputs": [
        {
          "output_type": "stream",
          "name": "stdout",
          "text": [
            "8\n"
          ]
        }
      ]
    },
    {
      "cell_type": "markdown",
      "source": [
        "Fakat belirtmemiz gereken önemli bir şey var, bir sayıyı string içerisinde yazabiliriz ve topladığımızda ilginç şeyler olabilir 😮"
      ],
      "metadata": {
        "id": "Sqg62lo_YJT5"
      }
    },
    {
      "cell_type": "code",
      "metadata": {
        "id": "YMZMioE_iU9O",
        "colab": {
          "base_uri": "https://localhost:8080/"
        },
        "outputId": "8a51f8ba-c6a6-4c11-888f-84e9af01f762"
      },
      "source": [
        "print(\"3\" + \"5\")"
      ],
      "execution_count": null,
      "outputs": [
        {
          "output_type": "stream",
          "name": "stdout",
          "text": [
            "35\n"
          ]
        }
      ]
    },
    {
      "cell_type": "markdown",
      "source": [
        "Stringlerde toplama işareti \"yan yana ekle\" anlamına geldiği için sayıları _string halinde yazdığımızda_ iki string'e ne yapıyorsa onu yaptı."
      ],
      "metadata": {
        "id": "g9nPo-HuYgGh"
      }
    },
    {
      "cell_type": "code",
      "source": [
        "print(\"a\" + \"b\")"
      ],
      "metadata": {
        "colab": {
          "base_uri": "https://localhost:8080/"
        },
        "id": "KszytGaBYoIV",
        "outputId": "20ace374-50a3-42fd-c770-6f0ead4ee5dd"
      },
      "execution_count": 6,
      "outputs": [
        {
          "output_type": "stream",
          "name": "stdout",
          "text": [
            "ab\n"
          ]
        }
      ]
    },
    {
      "cell_type": "markdown",
      "metadata": {
        "id": "Bg8s_5BFjsRK"
      },
      "source": [
        "## Verilerin Birbirine Dönüştürülmesi"
      ]
    },
    {
      "cell_type": "markdown",
      "source": [
        "Buraya kadar sabrettiğiniz için tebrikler 👏 Dersin sonunda güzel bir program yazarak ayrılacağız. Fakat önce veri türleri konusunun en kritik yerini halletmemiz gerekiyor."
      ],
      "metadata": {
        "id": "3HwuY1OPY_8g"
      }
    },
    {
      "cell_type": "code",
      "metadata": {
        "id": "8NnEEqEGiU6g",
        "colab": {
          "base_uri": "https://localhost:8080/",
          "height": 170
        },
        "outputId": "2ded1f44-2e8e-47aa-a1a8-9f98d6e20155"
      },
      "source": [
        "print(\"3\" + 5)"
      ],
      "execution_count": null,
      "outputs": [
        {
          "output_type": "error",
          "ename": "TypeError",
          "evalue": "ignored",
          "traceback": [
            "\u001b[0;31m---------------------------------------------------------------------------\u001b[0m",
            "\u001b[0;31mTypeError\u001b[0m                                 Traceback (most recent call last)",
            "\u001b[0;32m<ipython-input-14-4fdbead67eba>\u001b[0m in \u001b[0;36m<module>\u001b[0;34m()\u001b[0m\n\u001b[0;32m----> 1\u001b[0;31m \u001b[0mprint\u001b[0m\u001b[0;34m(\u001b[0m\u001b[0;34m\"3\"\u001b[0m \u001b[0;34m+\u001b[0m \u001b[0;36m5\u001b[0m\u001b[0;34m)\u001b[0m\u001b[0;34m\u001b[0m\u001b[0;34m\u001b[0m\u001b[0m\n\u001b[0m",
            "\u001b[0;31mTypeError\u001b[0m: can only concatenate str (not \"int\") to str"
          ]
        }
      ]
    },
    {
      "cell_type": "markdown",
      "metadata": {
        "id": "LoUCCApQi1B1"
      },
      "source": [
        "İkinci hatamızı aldık 🙌: **TypeError** \n",
        "\n",
        "En başta temel olarak 3 veri türü (data **type**) olduğundan bahsetmiştik. Şu anda da bize bunlarla ilgili bir hata veriyor demek ki. Açıklamayı okuduğumuzda **str sadece str ile birbirine eklenebilir integer ile değil** diyor. Demek ki string ile integer'ı toplayamayız. O halde dönüşüm yapmamız gerekiyor. Dönüştürmek istediğimiz veri türüne göre **int()**, **float()** ve str() fonksiyonlarını kullanabiliriz."
      ]
    },
    {
      "cell_type": "code",
      "metadata": {
        "id": "kz9eXYrQiU4O",
        "colab": {
          "base_uri": "https://localhost:8080/"
        },
        "outputId": "02a82e6b-bed2-4816-c67b-38c7b7a2b75c"
      },
      "source": [
        "print( int(\"3\") + 5 )"
      ],
      "execution_count": null,
      "outputs": [
        {
          "output_type": "stream",
          "name": "stdout",
          "text": [
            "8\n"
          ]
        }
      ]
    },
    {
      "cell_type": "markdown",
      "metadata": {
        "id": "UHN9Ex5pjdZK"
      },
      "source": [
        "Bir değişkenin veri tipini merak ediyorsak **type** fonksiyonunu kullanabiliriz:"
      ]
    },
    {
      "cell_type": "code",
      "metadata": {
        "id": "HK9-CEH6iU11",
        "colab": {
          "base_uri": "https://localhost:8080/"
        },
        "outputId": "8d666129-9e49-4fcc-e867-bb57d589694f"
      },
      "source": [
        "print( type(3) )"
      ],
      "execution_count": null,
      "outputs": [
        {
          "output_type": "stream",
          "name": "stdout",
          "text": [
            "<class 'int'>\n"
          ]
        }
      ]
    },
    {
      "cell_type": "code",
      "metadata": {
        "id": "dDdItMjXi0i7",
        "colab": {
          "base_uri": "https://localhost:8080/"
        },
        "outputId": "548854b1-ccb5-4511-8e95-cf7a699b6269"
      },
      "source": [
        "print( type(\"merhaba\") )"
      ],
      "execution_count": null,
      "outputs": [
        {
          "output_type": "stream",
          "name": "stdout",
          "text": [
            "<class 'str'>\n"
          ]
        }
      ]
    },
    {
      "cell_type": "code",
      "metadata": {
        "id": "WBRCfQfNi0gp",
        "colab": {
          "base_uri": "https://localhost:8080/"
        },
        "outputId": "230d54bb-c9d0-48cf-b83c-d9a2551e8acb"
      },
      "source": [
        "print( type( int(\"3\") ) )"
      ],
      "execution_count": null,
      "outputs": [
        {
          "output_type": "stream",
          "name": "stdout",
          "text": [
            "<class 'int'>\n"
          ]
        }
      ]
    },
    {
      "cell_type": "markdown",
      "source": [
        "_parantezlerden sonraki boşluklar rahat okunabilmesi için eklendi_"
      ],
      "metadata": {
        "id": "E2ymjNfOZ1ID"
      }
    },
    {
      "cell_type": "markdown",
      "metadata": {
        "id": "BnyS3RftmOQ2"
      },
      "source": [
        "Şimdi input ile sayısal veri alalım."
      ]
    },
    {
      "cell_type": "code",
      "metadata": {
        "id": "1kNIDfbOi0Fm",
        "colab": {
          "base_uri": "https://localhost:8080/",
          "height": 201
        },
        "outputId": "f573a34d-ec60-43c2-df66-051e5c157229"
      },
      "source": [
        "doğum_tarihi = input(\"Doğum tarihinizi yazınız: \")\n",
        "fark = doğum_tarihi - 1453"
      ],
      "execution_count": 14,
      "outputs": [
        {
          "name": "stdout",
          "output_type": "stream",
          "text": [
            "Doğum tarihinizi yazınız: 1990\n"
          ]
        },
        {
          "output_type": "error",
          "ename": "TypeError",
          "evalue": "ignored",
          "traceback": [
            "\u001b[0;31m---------------------------------------------------------------------------\u001b[0m",
            "\u001b[0;31mTypeError\u001b[0m                                 Traceback (most recent call last)",
            "\u001b[0;32m<ipython-input-14-e4acbce126b9>\u001b[0m in \u001b[0;36m<module>\u001b[0;34m\u001b[0m\n\u001b[1;32m      1\u001b[0m \u001b[0mdoğum_tarihi\u001b[0m \u001b[0;34m=\u001b[0m \u001b[0minput\u001b[0m\u001b[0;34m(\u001b[0m\u001b[0;34m\"Doğum tarihinizi yazınız: \"\u001b[0m\u001b[0;34m)\u001b[0m\u001b[0;34m\u001b[0m\u001b[0;34m\u001b[0m\u001b[0m\n\u001b[0;32m----> 2\u001b[0;31m \u001b[0mfark\u001b[0m \u001b[0;34m=\u001b[0m \u001b[0mdoğum_tarihi\u001b[0m \u001b[0;34m-\u001b[0m \u001b[0;36m1453\u001b[0m\u001b[0;34m\u001b[0m\u001b[0;34m\u001b[0m\u001b[0m\n\u001b[0m",
            "\u001b[0;31mTypeError\u001b[0m: unsupported operand type(s) for -: 'str' and 'int'"
          ]
        }
      ]
    },
    {
      "cell_type": "markdown",
      "metadata": {
        "id": "tIJDMuM9lin4"
      },
      "source": [
        "Hmm tanıdık bir hata aldık: **TypeError**. Hatanın nerede olduğunu bize söylüyor:\n",
        "```\n",
        "fark = doğum_tarihi - 1453\n",
        "```\n",
        "Bu satırda integer ile string arasında Python'un desteklemediği bir \"-\" işlemi yapmışız. Demek ki **doğum_tarihi** değişkenimiz <font color='FF7043'>**integer değilmiş!**</font> Fakat biz 1990 yazmıştık 🤔\n",
        "\n",
        "\n",
        "**input** fonksiyonu girilen verinin sayısal mı sözel mi olduğunu bilmediği için en kapsamlı şekilde alıyor: string olarak. Çünkü daha önce sayıları **\"3\"** şeklinde string içerisinde yazabileceğimizi görmüştük.\n",
        "\n",
        "Hatta **type()** fonksiyonu ile bunu görebiliriz:"
      ]
    },
    {
      "cell_type": "code",
      "metadata": {
        "id": "-fkoI6L0j3ZB",
        "colab": {
          "base_uri": "https://localhost:8080/"
        },
        "outputId": "2ca3581f-ceb5-4ed3-95e1-81e7c3ad055d"
      },
      "source": [
        "doğum_tarihi = input(\"Doğum tarihinizi yazınız: \")\n",
        "print(type(doğum_tarihi))"
      ],
      "execution_count": 15,
      "outputs": [
        {
          "output_type": "stream",
          "name": "stdout",
          "text": [
            "Doğum tarihinizi yazınız: 1990\n",
            "<class 'str'>\n"
          ]
        }
      ]
    },
    {
      "cell_type": "markdown",
      "metadata": {
        "id": "maOhpf8Lm0tB"
      },
      "source": [
        "Dolayısıyla yukarıda hata aldığımız kodu şu şekilde düzeltebiliriz:"
      ]
    },
    {
      "cell_type": "code",
      "metadata": {
        "id": "ugt-YBmDj3Wq",
        "colab": {
          "base_uri": "https://localhost:8080/"
        },
        "outputId": "495b205d-5ae5-4929-a191-c585eecbc721"
      },
      "source": [
        "doğum_tarihi = input(\"Doğum tarihinizi yazınız: \")\n",
        "fark = int(doğum_tarihi) - 1453\n",
        "print(fark)"
      ],
      "execution_count": 19,
      "outputs": [
        {
          "output_type": "stream",
          "name": "stdout",
          "text": [
            "Doğum tarihinizi yazınız: 1990\n",
            "537\n"
          ]
        }
      ]
    },
    {
      "cell_type": "markdown",
      "source": [
        "O halde bu bilgiyi kullanıcıya daha güzel bir şekilde söyleyelim:"
      ],
      "metadata": {
        "id": "cq9e4r7gbjmK"
      }
    },
    {
      "cell_type": "code",
      "source": [
        "doğum_tarihi = input(\"Doğum tarihinizi yazınız: \")\n",
        "fark = int(doğum_tarihi) - 1453\n",
        "print(\"İstanbul'un fethinden \" + fark + \" yıl sonra doğmuşsunuz.\")"
      ],
      "metadata": {
        "colab": {
          "base_uri": "https://localhost:8080/",
          "height": 218
        },
        "id": "wHohpMufbma7",
        "outputId": "0f824200-6d68-4748-cb17-f6d408514566"
      },
      "execution_count": 20,
      "outputs": [
        {
          "name": "stdout",
          "output_type": "stream",
          "text": [
            "Doğum tarihinizi yazınız: 1990\n"
          ]
        },
        {
          "output_type": "error",
          "ename": "TypeError",
          "evalue": "ignored",
          "traceback": [
            "\u001b[0;31m---------------------------------------------------------------------------\u001b[0m",
            "\u001b[0;31mTypeError\u001b[0m                                 Traceback (most recent call last)",
            "\u001b[0;32m<ipython-input-20-149464a1b9f8>\u001b[0m in \u001b[0;36m<module>\u001b[0;34m\u001b[0m\n\u001b[1;32m      1\u001b[0m \u001b[0mdoğum_tarihi\u001b[0m \u001b[0;34m=\u001b[0m \u001b[0minput\u001b[0m\u001b[0;34m(\u001b[0m\u001b[0;34m\"Doğum tarihinizi yazınız: \"\u001b[0m\u001b[0;34m)\u001b[0m\u001b[0;34m\u001b[0m\u001b[0;34m\u001b[0m\u001b[0m\n\u001b[1;32m      2\u001b[0m \u001b[0mfark\u001b[0m \u001b[0;34m=\u001b[0m \u001b[0mint\u001b[0m\u001b[0;34m(\u001b[0m\u001b[0mdoğum_tarihi\u001b[0m\u001b[0;34m)\u001b[0m \u001b[0;34m-\u001b[0m \u001b[0;36m1453\u001b[0m\u001b[0;34m\u001b[0m\u001b[0;34m\u001b[0m\u001b[0m\n\u001b[0;32m----> 3\u001b[0;31m \u001b[0mprint\u001b[0m\u001b[0;34m(\u001b[0m\u001b[0;34m\"İstanbul'un fethinden \"\u001b[0m \u001b[0;34m+\u001b[0m \u001b[0mfark\u001b[0m \u001b[0;34m+\u001b[0m \u001b[0;34m\" yıl sonra doğmuşsunuz.\"\u001b[0m\u001b[0;34m)\u001b[0m\u001b[0;34m\u001b[0m\u001b[0;34m\u001b[0m\u001b[0m\n\u001b[0m",
            "\u001b[0;31mTypeError\u001b[0m: can only concatenate str (not \"int\") to str"
          ]
        }
      ]
    },
    {
      "cell_type": "markdown",
      "source": [
        "Bu sefer 3. satırda hata yapmışız 🤨 string ile integer arasında bir işlem yaptığımızı söylüyor ki haklı: \n",
        "\n",
        "<font color=\"FFA726\">doğum_tarihi</font> değişkeni bir **string**\n",
        "\n",
        "<font color=\"039BE5\">fark</font> değişkeni ise bir **integer**"
      ],
      "metadata": {
        "id": "3UoNY4vxbvY4"
      }
    },
    {
      "cell_type": "code",
      "source": [
        "doğum_tarihi = input(\"Doğum tarihinizi yazınız: \")\n",
        "fark = int(doğum_tarihi) - 1453 \n",
        "print(\"İstanbul'un fethinden \" + str(fark) + \" yıl sonra doğmuşsunuz.\")"
      ],
      "metadata": {
        "colab": {
          "base_uri": "https://localhost:8080/"
        },
        "id": "v9VIX6BcbvBA",
        "outputId": "32fc1446-0dd5-4942-f952-e1cc68f36d35"
      },
      "execution_count": 21,
      "outputs": [
        {
          "output_type": "stream",
          "name": "stdout",
          "text": [
            "Doğum tarihinizi yazınız: 1990\n",
            "İstanbul'un fethinden 537 yıl sonra doğmuşsunuz.\n"
          ]
        }
      ]
    },
    {
      "cell_type": "markdown",
      "source": [
        "## Değişkenlerin Değiştirilmesi"
      ],
      "metadata": {
        "id": "zzvT-8b7efP0"
      }
    },
    {
      "cell_type": "markdown",
      "metadata": {
        "id": "r38LFcbvuQL-"
      },
      "source": [
        "Şimdi çok kritik bir soru geliyor:\n",
        "\n",
        "Peki **int(doğum_tarihi)** fonksiyonunu çalıştırdığımızda orijinal **doğum_tarihi** değişkenimiz artık integer'a dönüştü mü?"
      ]
    },
    {
      "cell_type": "code",
      "metadata": {
        "id": "Vlavfx92uV-O",
        "colab": {
          "base_uri": "https://localhost:8080/"
        },
        "outputId": "dbdd3a28-7a44-4894-a881-5714e1771eac"
      },
      "source": [
        "doğum_tarihi = input(\"Doğum tarihinizi giriniz: \")\n",
        "print( type(doğum_tarihi) )\n",
        "int(doğum_tarihi)\n",
        "print( type(doğum_tarihi) )"
      ],
      "execution_count": 22,
      "outputs": [
        {
          "output_type": "stream",
          "name": "stdout",
          "text": [
            "Doğum tarihinizi giriniz: 1990\n",
            "<class 'str'>\n",
            "<class 'str'>\n"
          ]
        }
      ]
    },
    {
      "cell_type": "markdown",
      "metadata": {
        "id": "bmcKq6dougAV"
      },
      "source": [
        "Değişmedi 😐 \n",
        "\n",
        "Python kodları sağdan sola doğru okuyor. Değişkenler konusunu konuşurken buna değinmiştik. Örneğin\n",
        "```\n",
        "doğum_tarihi = 1990\n",
        "yıl = doğum_tarihi - 1453\n",
        "```\n",
        "kodunu şöyle tercüme edebiliriz:\n",
        "\n",
        "_1) 1990 sayısını hafızada tut. Her \"doğum_tarihi\" yazdığımda bana bu veriyi  getirmeni istiyorum._\n",
        "\n",
        "_2) \"doğum_tarihi\" değişkeninin tuttuğu veriden (1990'dan) 1453'ü çıkar, ben bu bilgiye \"yıl\" değişkeniyle erişeceğim._"
      ]
    },
    {
      "cell_type": "markdown",
      "source": [
        "Bir değişkendeki verinin kendisiyle yapılan bir işlemle değiştirmek istiyor olsaydık:\n",
        "\n",
        "```\n",
        "yıl = 2021\n",
        "yıl = yıl + 1\n",
        "```\n",
        "\n",
        "_1) 2021 sayısını hafızada tut. Ben bu veriyi \"yıl\" kelimesiyle çağıracağım._\n",
        "\n",
        "_2) \"yıl\" kelimesi ile tuttuğum veriye 1 ekle, bu 1 eklenmiş veriyi \"yıl\" kelimesiyle çağıracağım._\n",
        "\n",
        "Dolayısıyla 1. basamaktaki 2021 bilgisi uçtu 🚀 Artık ona erişemeyeceğiz. hafızadaki \"yıl\" etiketli kutunun içini değiştirdik."
      ],
      "metadata": {
        "id": "O2YEDbFPXLLB"
      }
    },
    {
      "cell_type": "code",
      "source": [
        "yıl = 2021\n",
        "print(yıl)\n",
        "yıl = yıl + 1\n",
        "print(yıl)"
      ],
      "metadata": {
        "id": "h8scNco4JfRz",
        "colab": {
          "base_uri": "https://localhost:8080/"
        },
        "outputId": "1e1dded7-2254-455d-cce7-0ba64d1bb227"
      },
      "execution_count": null,
      "outputs": [
        {
          "output_type": "stream",
          "name": "stdout",
          "text": [
            "2021\n",
            "2022\n"
          ]
        }
      ]
    },
    {
      "cell_type": "markdown",
      "source": [
        "`yıl = yıl + 1 ` yazmazsak ne olur?"
      ],
      "metadata": {
        "id": "H5O_ZDJOnXUJ"
      }
    },
    {
      "cell_type": "code",
      "source": [
        "yıl = 2021\n",
        "yıl + 1\n",
        "print(yıl)"
      ],
      "metadata": {
        "id": "e_pi3Un6pTUg",
        "colab": {
          "base_uri": "https://localhost:8080/"
        },
        "outputId": "3ccaaa11-c2f3-48e9-b11d-dc839a35adb4"
      },
      "execution_count": null,
      "outputs": [
        {
          "output_type": "stream",
          "name": "stdout",
          "text": [
            "2021\n"
          ]
        }
      ]
    },
    {
      "cell_type": "markdown",
      "source": [
        "Buradaki kodu şöyle tercüme edebiliriz:\n",
        "\n",
        "_1) 2021 sayısını hafızada tut. Ben bu veriyi \"yıl\" kelimesiyle çağıracağım._\n",
        "\n",
        "_2) \"yıl\" değişkeninin tuttuğu bilgiye 1 ekle (ee?)_\n",
        "\n",
        "Her `yıl + bir sayı` yazdığımızda **yıl** değişkeni değişseydi bu felaket olurdu. Dolayısıyla 2. adımda <font color=\"orange\">**yıl** değişkenine 1 ekle</font> dedik. Fakat ekledikten sonra **elde ettiği bilgiyi ne yapacağını** söylemedik. Dolayısıyla o bilgi uçtu 🚀\n",
        "\n",
        "Şöyle bir şey yapsaydık:"
      ],
      "metadata": {
        "id": "rER0tS9lnneQ"
      }
    },
    {
      "cell_type": "code",
      "source": [
        "yıl = 2021\n",
        "yeni_yıl = yıl + 1\n",
        "print(yıl)\n",
        "print(yeni_yıl)"
      ],
      "metadata": {
        "id": "gmRkujH-JQnG",
        "colab": {
          "base_uri": "https://localhost:8080/"
        },
        "outputId": "c035ad19-8762-4d9a-c698-0c0da3a82e0b"
      },
      "execution_count": null,
      "outputs": [
        {
          "output_type": "stream",
          "name": "stdout",
          "text": [
            "2021\n",
            "2022\n"
          ]
        }
      ]
    },
    {
      "cell_type": "markdown",
      "source": [
        "Bu sefer _<font color=\"orange\">**yıl** değişkenine 1 ekle, onu da **yeni_yıl** adında bir değişkende tut.</font>_ demiş olduk.\n",
        "\n"
      ],
      "metadata": {
        "id": "ksv54magokJQ"
      }
    },
    {
      "cell_type": "markdown",
      "source": [
        "En başa gelirsek input ile aldığımız doğum tarihi bilgisinin **kalıcı olarak** integer olmasını istiyorsak:\n",
        "\n",
        "_(parantez içindeki fazla boşluklar okumanın kolaylaştırılması için eklendi)_"
      ],
      "metadata": {
        "id": "s5G2KqgZpAJ8"
      }
    },
    {
      "cell_type": "code",
      "source": [
        "doğum_tarihi = input(\"Doğum tarihinizi giriniz: \")\n",
        "print( type(doğum_tarihi) )\n",
        "doğum_tarihi = int(doğum_tarihi)\n",
        "print( type(doğum_tarihi) )"
      ],
      "metadata": {
        "id": "Gb0MqZcIpJ9z"
      },
      "execution_count": null,
      "outputs": []
    },
    {
      "cell_type": "markdown",
      "source": [
        "Daha pratik yolu: input ile aldığımız değerin **sayısal olacağından eminsek** hemen integer'a dönüştürebiliriz."
      ],
      "metadata": {
        "id": "_o3p6JPQYJnk"
      }
    },
    {
      "cell_type": "code",
      "metadata": {
        "id": "fat6OyGBPsCq",
        "colab": {
          "base_uri": "https://localhost:8080/"
        },
        "outputId": "de367848-e37a-4958-be04-1419f68107c8"
      },
      "source": [
        "doğum_tarihi = int(input(\"Doğum tarihinizi giriniz: \"))\n",
        "fark = doğum_tarihi - 1453\n",
        "print(\"İstanbul'un fethinden \" + str(fark) + \" yıl sonra doğmuşsunuz.\")"
      ],
      "execution_count": 24,
      "outputs": [
        {
          "output_type": "stream",
          "name": "stdout",
          "text": [
            "Doğum tarihinizi giriniz: 1958\n",
            "İstanbul'un fethinden 505 yıl sonra doğmuşsunuz.\n"
          ]
        }
      ]
    },
    {
      "cell_type": "markdown",
      "metadata": {
        "id": "G37EMWlRniLK"
      },
      "source": [
        "## 3) Mantıksal Doğruluk (True - False)"
      ]
    },
    {
      "cell_type": "markdown",
      "source": [
        "Bu dersin en meşakkatli kısmını tamamladınız, tebrikler! 🎉 Artık tam bir program yazma hissine çok yaklaştık. O aşamadan önceki son adım: mantıksal doğruluk, yani o meşhur _\"bilgisayar bir ve sıfırla çalışır\"_ cümlesi."
      ],
      "metadata": {
        "id": "y977TfTnpv5J"
      }
    },
    {
      "cell_type": "markdown",
      "source": [
        "5 + 5 ifadesi 10'a eşittir. "
      ],
      "metadata": {
        "id": "TvYBevNKYfQ4"
      }
    },
    {
      "cell_type": "code",
      "source": [
        "5 + 5 == 10"
      ],
      "metadata": {
        "id": "RaOI0hT-ptyv",
        "colab": {
          "base_uri": "https://localhost:8080/"
        },
        "outputId": "2139819f-9c6e-41b1-d05e-b523830215d7"
      },
      "execution_count": null,
      "outputs": [
        {
          "output_type": "execute_result",
          "data": {
            "text/plain": [
              "True"
            ]
          },
          "metadata": {},
          "execution_count": 31
        }
      ]
    },
    {
      "cell_type": "markdown",
      "source": [
        "3 + 5 ifadesi 70'e eşittir."
      ],
      "metadata": {
        "id": "3c1Bb60YYi9R"
      }
    },
    {
      "cell_type": "code",
      "metadata": {
        "id": "-SYVkF3EbX1W",
        "colab": {
          "base_uri": "https://localhost:8080/"
        },
        "outputId": "67c8932c-43b4-45c1-9b17-5208acd695ba"
      },
      "source": [
        "print(3 + 5 == 70)"
      ],
      "execution_count": null,
      "outputs": [
        {
          "output_type": "stream",
          "name": "stdout",
          "text": [
            "False\n"
          ]
        }
      ]
    },
    {
      "cell_type": "markdown",
      "source": [
        "3 5'ten büyüktür."
      ],
      "metadata": {
        "id": "k8DFAGLAYlzJ"
      }
    },
    {
      "cell_type": "code",
      "metadata": {
        "id": "LIcqhV2hQTmD",
        "colab": {
          "base_uri": "https://localhost:8080/"
        },
        "outputId": "db6f73f4-8d08-4c72-d3f0-f369b2bfbacd"
      },
      "source": [
        "print(3 > 5)"
      ],
      "execution_count": null,
      "outputs": [
        {
          "output_type": "stream",
          "name": "stdout",
          "text": [
            "False\n"
          ]
        }
      ]
    },
    {
      "cell_type": "markdown",
      "source": [
        "isim \"Ali\"ye eşittir."
      ],
      "metadata": {
        "id": "QpABkS0JYozK"
      }
    },
    {
      "cell_type": "code",
      "metadata": {
        "id": "g3kdz4LgSqNT",
        "colab": {
          "base_uri": "https://localhost:8080/"
        },
        "outputId": "55fcad88-69ae-4bec-dafc-18c33827b06c"
      },
      "source": [
        "isim = \"Ayşe\"\n",
        "print(isim == \"Ali\" )"
      ],
      "execution_count": 25,
      "outputs": [
        {
          "output_type": "stream",
          "name": "stdout",
          "text": [
            "False\n"
          ]
        }
      ]
    },
    {
      "cell_type": "markdown",
      "metadata": {
        "id": "XnQcAFlintRF"
      },
      "source": [
        "Mantıksal doğru ve yanlış anlamında **True** ile **False**'un büyük harfle başladığına dikkat ediniz. Burada bilgisayar doğru önermeler için **True** yani 1, yanlış önermeler için **False** yani 0 değeri veriyor."
      ]
    },
    {
      "cell_type": "markdown",
      "source": [
        "# Şartlı İfadelere Tadımlık Bir Giriş"
      ],
      "metadata": {
        "id": "QOc9ZD15S3ie"
      }
    },
    {
      "cell_type": "markdown",
      "metadata": {
        "id": "wlk-JGMEn4E7"
      },
      "source": [
        "İşte şimdi o müthiş an geldi! Gerçek bir program yazalım 🔥 \n",
        "\n",
        "Bir lunaparktaki oyuncakların girişlerini otomatik bir sistemle kontrol edeceğiz. Sistem çocukların boylarını ölçecek ve buna göre geçişe izin verecek 🎢🎡"
      ]
    },
    {
      "cell_type": "code",
      "metadata": {
        "colab": {
          "base_uri": "https://localhost:8080/"
        },
        "id": "U7wWZ0bkn_8u",
        "outputId": "87775b9e-74af-4ee1-be30-58a9d9900fcb"
      },
      "source": [
        "boy = 170\n",
        "\n",
        "if boy > 160:\n",
        "  print(\"Lunaparka girebilirsin, iyi eğlenceler 🎉\")"
      ],
      "execution_count": 31,
      "outputs": [
        {
          "output_type": "stream",
          "name": "stdout",
          "text": [
            "Lunaparka girebilirsin, iyi eğlenceler 🎉\n"
          ]
        }
      ]
    },
    {
      "cell_type": "markdown",
      "metadata": {
        "id": "u0qs9dUVoJHC"
      },
      "source": [
        "Yukarıdaki kodu yorumlayalım.\n",
        "```\n",
        "if boy > 160\n",
        "```\n",
        "**boy değişkeni 160'tan büyükse if'in içindekileri çalıştır.** şeklinde düşünebiliriz. Peki **if'in içi** ne demek?\n",
        "\n",
        "Tab ile (ya da 3 boşluk) boşluk bırakarak başladığımız her satır <font color=\"orange\">**if şartı**</font> (bizim kodumuzda <font color=\"orange\">_boy > 160_</font> kısmı) **doğru olduğunda** çalışır.\n",
        "\n",
        "Tab ile boşluk bırakmadığımız satırlar (if ile aynı hizada olan satırlar) <font color=\"1976D2\">**daima**</font> çalışır."
      ]
    },
    {
      "cell_type": "code",
      "metadata": {
        "colab": {
          "base_uri": "https://localhost:8080/"
        },
        "id": "SfWVD-QMqJJO",
        "outputId": "7b6fe8f2-618b-4260-a5a2-699c4e779433"
      },
      "source": [
        "boy = 170\n",
        "\n",
        "if boy > 160:\n",
        "  print(\"Lunaparka girebilirsin, iyi eğlenceler 🎉\")\n",
        "  print(\"Ben if'in içindeyim!\")\n",
        "\n",
        "print(\"Ben if'in dışındayım!\")"
      ],
      "execution_count": 32,
      "outputs": [
        {
          "output_type": "stream",
          "name": "stdout",
          "text": [
            "Lunaparka girebilirsin, iyi eğlenceler 🎉\n",
            "Ben if'in içindeyim!\n",
            "Ben if'in dışındayım!\n"
          ]
        }
      ]
    },
    {
      "cell_type": "markdown",
      "metadata": {
        "id": "8uuWidpIqRBf"
      },
      "source": [
        "if'in şartını yanlış yapalım:"
      ]
    },
    {
      "cell_type": "code",
      "metadata": {
        "colab": {
          "base_uri": "https://localhost:8080/"
        },
        "id": "EzDMuHdUqJGk",
        "outputId": "effb52ce-6f59-453d-b148-758d33c71d61"
      },
      "source": [
        "boy = 150\n",
        "\n",
        "if boy > 160:\n",
        "  print(\"Lunaparka girebilirsin, iyi eğlenceler 🎉\")\n",
        "  print(\"Ben if'in içindeyim!\")\n",
        "\n",
        "print(\"Ben if'in dışındayım!\")"
      ],
      "execution_count": 33,
      "outputs": [
        {
          "output_type": "stream",
          "name": "stdout",
          "text": [
            "Ben if'in dışındayım!\n"
          ]
        }
      ]
    },
    {
      "cell_type": "markdown",
      "source": [
        "Konunun True ve False ile ilişkisini unutmayalım: Python bu yazdığımız şartları ne olarak algılıyordu? print ile yazdıralım:"
      ],
      "metadata": {
        "id": "nr5LKj1C48RP"
      }
    },
    {
      "cell_type": "code",
      "source": [
        "boy = 170\n",
        "print(boy > 160)"
      ],
      "metadata": {
        "id": "WmqgyY7y5XZ_",
        "colab": {
          "base_uri": "https://localhost:8080/"
        },
        "outputId": "8dc7d3d8-65df-42fd-ab35-c0393d15b975"
      },
      "execution_count": 34,
      "outputs": [
        {
          "output_type": "stream",
          "name": "stdout",
          "text": [
            "True\n"
          ]
        }
      ]
    },
    {
      "cell_type": "markdown",
      "source": [
        "Yani yukarıdaki \n",
        "```\n",
        "boy = 170\n",
        "\n",
        "if boy > 160:\n",
        "  print(\"Lunaparka girebilirsin.\")\n",
        "```\n",
        "kodumuz neticede şuna dönüşüyormuş:"
      ],
      "metadata": {
        "id": "xeA0sLwv5dHz"
      }
    },
    {
      "cell_type": "code",
      "source": [
        "if True:\n",
        "  print('Lunaparka girebilirsin, iyi eğlenceler 🎉')"
      ],
      "metadata": {
        "colab": {
          "base_uri": "https://localhost:8080/"
        },
        "id": "Y814c-P95cVJ",
        "outputId": "9429fbff-c04f-4ae6-ec66-473e8d1b08ee"
      },
      "execution_count": 35,
      "outputs": [
        {
          "output_type": "stream",
          "name": "stdout",
          "text": [
            "Lunaparka girebilirsin, iyi eğlenceler 🎉\n"
          ]
        }
      ]
    },
    {
      "cell_type": "markdown",
      "source": [
        "Şart olarak yazdığımız ifade yanlış olursa?"
      ],
      "metadata": {
        "id": "wtXks3XL6Bdm"
      }
    },
    {
      "cell_type": "code",
      "source": [
        "boy = 150\n",
        "print(boy > 160)"
      ],
      "metadata": {
        "id": "gafN9Hh847pn",
        "colab": {
          "base_uri": "https://localhost:8080/"
        },
        "outputId": "3e9a00d8-3f3e-4949-ed00-2e679ab8ecda"
      },
      "execution_count": 36,
      "outputs": [
        {
          "output_type": "stream",
          "name": "stdout",
          "text": [
            "False\n"
          ]
        }
      ]
    },
    {
      "cell_type": "code",
      "source": [
        "boy = 150\n",
        "if boy > 160:\n",
        "  print('Lunaparka girebilirsin, iyi eğlenceler 🎉')"
      ],
      "metadata": {
        "id": "QGqMtLxuSzWX"
      },
      "execution_count": 37,
      "outputs": []
    },
    {
      "cell_type": "markdown",
      "source": [
        "Demek ki if kodumuzdaki şartlar sonuçta **sadece 2 değer**den birine dönüşüyormuş: **True** veya **False**"
      ],
      "metadata": {
        "id": "HZhu2v1A5MT1"
      }
    },
    {
      "cell_type": "markdown",
      "metadata": {
        "id": "iBUEMkl6qU17"
      },
      "source": [
        "if için bir şart koyduk ama kullanıcıyı if şartını sağlamadığında ekrana hiçbir şey çıkmadı ve kullanıcı problemin ne olduğunu öğrenemedi 😔 Onun için: **else** kullanacağız. Yine **else**'in içinde ne olmasını istiyorsak bir tab içeriye yazıyoruz."
      ]
    },
    {
      "cell_type": "code",
      "metadata": {
        "id": "Kx3nT305bq-o",
        "colab": {
          "base_uri": "https://localhost:8080/"
        },
        "outputId": "ac047144-ee27-4e5f-91f1-ee7327e0d70a"
      },
      "source": [
        "boy = 170\n",
        "\n",
        "if boy > 160: \n",
        "  print(\"Lunaparka girebilirsin, iyi eğlenceler 🎉\")\n",
        "\n",
        "else:\n",
        "  print(\"Üzgünüm boyun yeterince uzun değil, umarım seneye girebilirsin 🤗\")"
      ],
      "execution_count": 41,
      "outputs": [
        {
          "output_type": "stream",
          "name": "stdout",
          "text": [
            "Lunaparka girebilirsin, iyi eğlenceler 🎉\n"
          ]
        }
      ]
    },
    {
      "cell_type": "code",
      "source": [
        "boy = 170\n",
        "\n",
        "if boy > 160: \n",
        "  print(\"Lunaparka girebilirsin, iyi eğlenceler 🎉\")\n",
        "\n",
        "else:\n",
        "  print(\"Üzgünüm boyun yeterince uzun değil, umarım seneye girebilirsin 🤗\")\n",
        "\n",
        "print('Bizi tercih ettiğiniz için teşekkürler!')"
      ],
      "metadata": {
        "id": "SeGfo5uJqHo1",
        "colab": {
          "base_uri": "https://localhost:8080/"
        },
        "outputId": "7eb2f5d7-7346-443f-d209-ef2bd0629d6b"
      },
      "execution_count": 43,
      "outputs": [
        {
          "output_type": "stream",
          "name": "stdout",
          "text": [
            "Lunaparka girebilirsin, iyi eğlenceler 🎉\n",
            "Bizi tercih ettiğiniz için teşekkürler!\n"
          ]
        }
      ]
    },
    {
      "cell_type": "markdown",
      "metadata": {
        "id": "SmCK9DeuqkR7"
      },
      "source": [
        "Ve aklınızdaki muhtemel o soru: *Peki ya birden fazla seçenek varsa?*\n",
        "\n",
        "Seçeneklerin tamamını kuşatacak kadar **elif** (else if anlamında) kullanabiliriz."
      ]
    },
    {
      "cell_type": "code",
      "metadata": {
        "id": "mHhRm8piclg-",
        "colab": {
          "base_uri": "https://localhost:8080/"
        },
        "outputId": "c43f1623-ee47-49a5-afad-56bc87950971"
      },
      "source": [
        "boy = int(input(\"Boyunuzu yazınız: \"))\n",
        "\n",
        "if boy > 160: \n",
        "  print(\"Tüm oyuncaklar senin, iyi eğlenceler!\")\n",
        "\n",
        "elif boy > 150:\n",
        "  print(\"Rollercoaster haricinde tüm oyuncaklara binebilirsin, iyi eğlenceler!\")\n",
        "\n",
        "elif boy > 140:\n",
        "  print(\"Oyun evinde iyi eğlenceler :)\")\n",
        "\n",
        "else:\n",
        "  print(\"Üzgünüm boyun yeterince uzun değil, umarım seneye girebilirsin :)\")"
      ],
      "execution_count": 44,
      "outputs": [
        {
          "output_type": "stream",
          "name": "stdout",
          "text": [
            "Boyunuzu yazınız: 155\n",
            "Rollercoaster haricinde tüm oyuncaklara binebilirsin, iyi eğlenceler!\n"
          ]
        }
      ]
    },
    {
      "cell_type": "markdown",
      "source": [
        "Böylelikle kodunuz artık herkese aynı cevabı veren bir kod değil, durumlara göre çeşitli cevaplar veren harika bir program oldu 🥳"
      ],
      "metadata": {
        "id": "fdyJZCbUsU_Q"
      }
    },
    {
      "cell_type": "code",
      "source": [],
      "metadata": {
        "id": "9XhbWyX0s1UF"
      },
      "execution_count": null,
      "outputs": []
    }
  ]
}