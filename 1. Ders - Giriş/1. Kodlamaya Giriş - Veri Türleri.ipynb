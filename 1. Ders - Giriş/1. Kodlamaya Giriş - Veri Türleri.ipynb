{
  "cells": [
    {
      "cell_type": "markdown",
      "metadata": {},
      "source": [
        "Kodlarla uğraşıp değişiklik yapabilmek için (ki muhakkak öyle yapmalısınız) tıklayınız:\n",
        "\n",
        "[![Open In Colab](https://colab.research.google.com/assets/colab-badge.svg)](https://colab.research.google.com/drive/15QFMM5C2tW6oA9T4fDfxRympol0jL_n7?usp=share_link)"
      ]
    },
    {
      "cell_type": "markdown",
      "metadata": {
        "id": "PHxEAF46SW54"
      },
      "source": [
        "# Python ile Kodlamaya Giriş\n",
        "Bu derste bilgisayarla hangi tür verileri kullanarak etkileşime geçebileceğimizi inceleyeceğiz, bir nevi kodlamanın alfabesi. Akabinde kodlamanın en temel becerilerinden biri olan şartlı ifadeleri öğreneceğiz. Böylelikle ilk programımızı yazmış olacağız 🥳"
      ]
    },
    {
      "cell_type": "markdown",
      "metadata": {
        "id": "iPY-g74LihyL"
      },
      "source": [
        "# Veri tipleri (Data types)\n",
        "1. sözel veriler -> string\n",
        "\n",
        "2. sayısal veriler -> integer (tam sayı) ve float (ondalıklı sayı)\n",
        "\n",
        "3. Mantıksal doğruluk -> True ve False"
      ]
    },
    {
      "cell_type": "markdown",
      "metadata": {
        "id": "Frx9GZyThwx3"
      },
      "source": [
        "_Küçük bir not: Kodları çalıştırmak için her bir hücrenin solundaki play butonuna veya \"Ctrl + Enter\"a basabilirsiniz._ \n",
        "\n",
        "_İyi haber: Notta istediğiniz değişikliği yapabilirsiniz_ (_hatta yapmalısınız_ 😎 ). _Yapmazsanız biraz üzücü bir haber: Değişiklikleriniz silinir_ 😟 _Kaydetmek istiyorsanız, öncelikle bu not defterinin bir kopyasını kendi Drive'ınıza kaydetmeniz gerekiyor. Sol üstteki File kısmından \"Save a copy in Drive\" seçeneğine tıklayarak bunu yapabilirsiniz._"
      ]
    },
    {
      "cell_type": "markdown",
      "metadata": {
        "id": "z5rr6qJaibhz"
      },
      "source": [
        "## 1) String (Sözel veri)"
      ]
    },
    {
      "cell_type": "markdown",
      "metadata": {
        "id": "cEx6flPDJubN"
      },
      "source": [
        "İlk veri türümüzle başlayalım: tweetlerimiz, maillerimiz, hesap bilgilerimiz... hepsi birer sözel veri ve bunların kodlama dilindeki ismi: **string**. Bir string oluşturabilmemiz için yazdığımız metnin başına ve sonuna tek veya çift tırnak işareti koymamız yeterli. Ekrana bir şey yazdırmak istiyorsak print() fonksiyonunun içine yazıyoruz:"
      ]
    },
    {
      "cell_type": "code",
      "execution_count": null,
      "metadata": {
        "colab": {
          "base_uri": "https://localhost:8080/"
        },
        "id": "EEyEmdiVf0dF",
        "outputId": "63224ea0-4720-4fec-be53-f17d09927619"
      },
      "outputs": [
        {
          "name": "stdout",
          "output_type": "stream",
          "text": [
            "Merhaba Python!\n"
          ]
        }
      ],
      "source": [
        "print(\"Merhaba Python!\")"
      ]
    },
    {
      "cell_type": "markdown",
      "metadata": {
        "id": "iJouxyPVkk_y"
      },
      "source": [
        "Tırnak işaretlerinin içine alınmamış yazıların hiçbiri string değildir. (Peki nedir? Birazdan öğreneceğiz 🧐)\n",
        "\n",
        "Öncelikle tırnak işaretlerine dikkat etmediğimizde ne olduğunu bir görelim:"
      ]
    },
    {
      "cell_type": "code",
      "execution_count": null,
      "metadata": {
        "colab": {
          "base_uri": "https://localhost:8080/",
          "height": 133
        },
        "id": "C3KBayjykxXF",
        "outputId": "62b7a2e0-3b67-4b5d-c962-dd20ebb59818"
      },
      "outputs": [
        {
          "ename": "SyntaxError",
          "evalue": "ignored",
          "output_type": "error",
          "traceback": [
            "\u001b[0;36m  File \u001b[0;32m\"<ipython-input-2-b8f02d0f6019>\"\u001b[0;36m, line \u001b[0;32m1\u001b[0m\n\u001b[0;31m    print(\"Merhaba)\u001b[0m\n\u001b[0m                   ^\u001b[0m\n\u001b[0;31mSyntaxError\u001b[0m\u001b[0;31m:\u001b[0m EOL while scanning string literal\n"
          ]
        }
      ],
      "source": [
        "print(\"Merhaba)"
      ]
    },
    {
      "cell_type": "markdown",
      "metadata": {
        "id": "KYH1SHESk4d8"
      },
      "source": [
        "vee ilk hatamızı aldık 🥳: **SyntaxError** \n",
        "\n",
        "Kodlama öğrenme sürecinde hatalar en önemli kısımlardan biri. Çünkü alıştırmaları yaparken muhakkak hata alacaksınız, en önemlisi hatanın nereden kaynaklandığını tespit etmek.\n",
        "\n",
        "Neyse ki ilk aldığımız hata bizi en çok sevindiren hatalardan: Gramer hatası 😪 Kodumuzu Python'un kabul etmediği bir şekilde yazmışız. Tırnak işaretlerini düzelttiğimizde hata düzelecektir 🤗"
      ]
    },
    {
      "cell_type": "code",
      "execution_count": null,
      "metadata": {
        "colab": {
          "base_uri": "https://localhost:8080/"
        },
        "id": "Fja3b8oElI7u",
        "outputId": "c37aaf41-c5fe-4136-826e-dcd6f801047d"
      },
      "outputs": [
        {
          "name": "stdout",
          "output_type": "stream",
          "text": [
            "Merhaba\n"
          ]
        }
      ],
      "source": [
        "print('Merhaba')"
      ]
    },
    {
      "cell_type": "code",
      "execution_count": null,
      "metadata": {
        "colab": {
          "base_uri": "https://localhost:8080/"
        },
        "id": "C5GANCKNlV66",
        "outputId": "5cf1bde5-3248-4239-e214-d5d8aa18cbe8"
      },
      "outputs": [
        {
          "name": "stdout",
          "output_type": "stream",
          "text": [
            "Merhaba\n"
          ]
        }
      ],
      "source": [
        "print(\"Merhaba\")"
      ]
    },
    {
      "cell_type": "markdown",
      "metadata": {
        "id": "xNrn4nVsSKtP"
      },
      "source": [
        "Peki ya metnin içerisinde tırnak işareti kullanmamız gerekseydi?"
      ]
    },
    {
      "cell_type": "code",
      "execution_count": null,
      "metadata": {
        "colab": {
          "base_uri": "https://localhost:8080/",
          "height": 133
        },
        "id": "b9eowxwwGRQU",
        "outputId": "6f5c887e-eb82-4d8e-dd47-f05368d70185"
      },
      "outputs": [
        {
          "ename": "SyntaxError",
          "evalue": "ignored",
          "output_type": "error",
          "traceback": [
            "\u001b[0;36m  File \u001b[0;32m\"<ipython-input-5-b6fe77d806fb>\"\u001b[0;36m, line \u001b[0;32m1\u001b[0m\n\u001b[0;31m    print(\"Tolstoy 1867 yılında \"Savaş ve Barış\" adlı eserini yayınlamıştır.\")\u001b[0m\n\u001b[0m                                     ^\u001b[0m\n\u001b[0;31mSyntaxError\u001b[0m\u001b[0;31m:\u001b[0m invalid syntax\n"
          ]
        }
      ],
      "source": [
        "print(\"Tolstoy 1867 yılında \"Savaş ve Barış\" adlı eserini yayınlamıştır.\")"
      ]
    },
    {
      "cell_type": "markdown",
      "metadata": {
        "id": "qkL1jlhMSTye"
      },
      "source": [
        "Hem tek hem çift tırnak işaretiyle string yazabildiğimiz için string'i oluşturanları tek tırnakla yazarsak problem çözülür:"
      ]
    },
    {
      "cell_type": "code",
      "execution_count": null,
      "metadata": {
        "colab": {
          "base_uri": "https://localhost:8080/"
        },
        "id": "yRYK0_sNNuB8",
        "outputId": "adab5aa6-79c3-43d6-d9a3-a0e094ee0989"
      },
      "outputs": [
        {
          "name": "stdout",
          "output_type": "stream",
          "text": [
            "Tolstoy 1867 yılında \"Savaş ve Barış\" adlı eserini yayınlamıştır.\n"
          ]
        }
      ],
      "source": [
        "print('Tolstoy 1867 yılında \"Savaş ve Barış\" adlı eserini yayınlamıştır.')"
      ]
    },
    {
      "cell_type": "markdown",
      "metadata": {
        "id": "s5Xe5nwXTDje"
      },
      "source": [
        "### Dışarıdan Veri Alma ve Kullanma"
      ]
    },
    {
      "cell_type": "markdown",
      "metadata": {
        "id": "XXKU3vmQTOKh"
      },
      "source": [
        "Buraya kadar güzeldi, peki hani kodlama?\n",
        "\n",
        "Şimdi alışveriş sitelerinden gelen maillerin nasıl adımıza (ve her bir kullanıcının adına) özel oluşturulduklarını göreceğiz.\n",
        "\n",
        "Bunun için öncelikle en önemli kodlama kavramlarından biriyle tanışmamız gerekiyor: **değişken (variable)**\n",
        "\n",
        "Değişkenleri şöyle düşünebiliriz. Bir veri yazdığımızda bilgisayardan o veriyi hafızasında tutmasını istiyoruz. Fakat bilgisayarın hafızasındaki veri depolarının adresleri şu şekilde: \"11126752\". Biz verinin durduğu hafıza bölümünün adresini ezberleyemeyeceğimiz ve dahası yazması felaket bir eziyet olacağı için bu adresin adını kendimiz belirleyebililiriz. Yani:\n",
        "```\n",
        "isim = \"Ali\"\n",
        "```\n",
        "Yazdığımızda Python'a şunu demiş oluyoruz: \n",
        "\n",
        "_Hafızada \"Ali\" stringi için bir yer oluştur. \"isim\" kelimesini her yazdığımda bana bu veriyi (\"Ali\"yi) getirmeni istiyorum._\n",
        "\n",
        "Hemen görelim:"
      ]
    },
    {
      "cell_type": "code",
      "execution_count": 3,
      "metadata": {
        "colab": {
          "base_uri": "https://localhost:8080/"
        },
        "id": "Bq18f2ntVd7A",
        "outputId": "785121ec-3d03-4e09-9b33-344a34333789"
      },
      "outputs": [
        {
          "name": "stdout",
          "output_type": "stream",
          "text": [
            "Ali\n"
          ]
        }
      ],
      "source": [
        "isim = \"Ali\"\n",
        "print(isim)"
      ]
    },
    {
      "cell_type": "markdown",
      "metadata": {
        "id": "JAqoI1GEVgAX"
      },
      "source": [
        "Böylelikle **isim** \"Ali\" verisini tutan bir değişken olmuş oldu. Adından da anlaşılacağı üzere biz bu değişkenin tuttuğu veriyi dilediğimiz gibi değiştirebiliriz."
      ]
    },
    {
      "cell_type": "code",
      "execution_count": 4,
      "metadata": {
        "colab": {
          "base_uri": "https://localhost:8080/"
        },
        "id": "fEDRgR3xVd4r",
        "outputId": "df3df295-cc20-4b02-9811-a98ea15e0a4a"
      },
      "outputs": [
        {
          "name": "stdout",
          "output_type": "stream",
          "text": [
            "Ayşe\n"
          ]
        }
      ],
      "source": [
        "isim = \"Ali\"\n",
        "isim = \"Ayşe\"\n",
        "print(isim)"
      ]
    },
    {
      "cell_type": "markdown",
      "metadata": {
        "id": "CI74ENgjVqYp"
      },
      "source": [
        "Peki bunun ne önemi var? İsmin ne olduğunu zaten ben yazdım 😒 diyorsanız, o halde kullanıcıdan veri almayı öğrenelim: **input()** fonksiyonu *(ekrana yazdırmasını önemsemeyiniz.)* "
      ]
    },
    {
      "cell_type": "code",
      "execution_count": null,
      "metadata": {
        "colab": {
          "base_uri": "https://localhost:8080/",
          "height": 53
        },
        "id": "GBwhjWfvf0a2",
        "outputId": "82968346-0ef2-4d0a-8693-ee77d1c2219d"
      },
      "outputs": [
        {
          "name": "stdout",
          "output_type": "stream",
          "text": [
            "İsminizi giriniz: Ali\n"
          ]
        },
        {
          "data": {
            "application/vnd.google.colaboratory.intrinsic+json": {
              "type": "string"
            },
            "text/plain": [
              "'Ali'"
            ]
          },
          "execution_count": 7,
          "metadata": {},
          "output_type": "execute_result"
        }
      ],
      "source": [
        "input(\"İsminizi giriniz: \")"
      ]
    },
    {
      "cell_type": "markdown",
      "metadata": {
        "id": "P-kJpTSyhCEd"
      },
      "source": [
        "Peki bu aldığımız veriyi kullanmak istiyorsak? İşte bunun için yukarıda öğrendiğimiz üzere bir __değişken__ oluşturmamız gerekiyor."
      ]
    },
    {
      "cell_type": "code",
      "execution_count": null,
      "metadata": {
        "colab": {
          "base_uri": "https://localhost:8080/"
        },
        "id": "grUw344rf0Yu",
        "outputId": "bc1eb998-18ec-46a0-ef6f-6e89e0676462"
      },
      "outputs": [
        {
          "name": "stdout",
          "output_type": "stream",
          "text": [
            "İsminizi giriniz: Ali\n"
          ]
        }
      ],
      "source": [
        "isim = input(\"İsminizi giriniz: \")"
      ]
    },
    {
      "cell_type": "markdown",
      "metadata": {
        "id": "Hiod5Sx6hrqd"
      },
      "source": [
        "Şimdi bu veriyi print fonksiyonunun içinde kullanabiliriz:"
      ]
    },
    {
      "cell_type": "code",
      "execution_count": null,
      "metadata": {
        "colab": {
          "base_uri": "https://localhost:8080/"
        },
        "id": "iNeqlfrCf0V_",
        "outputId": "b46d662c-fc03-4e02-85e4-fad0f19a74fb"
      },
      "outputs": [
        {
          "name": "stdout",
          "output_type": "stream",
          "text": [
            "İsminizi giriniz: Ali\n",
            "Hoş geldinAli\n"
          ]
        }
      ],
      "source": [
        "isim = input(\"İsminizi giriniz: \")\n",
        "print(\"Hoş geldin\" + isim)"
      ]
    },
    {
      "cell_type": "markdown",
      "metadata": {
        "id": "7vQH5D6diPkW"
      },
      "source": [
        "Wohoo! Yapışık oldu ama yine de harika! 🎉 Küçük pürüzü bir boşluk bırakarak giderebiliriz:"
      ]
    },
    {
      "cell_type": "code",
      "execution_count": null,
      "metadata": {
        "colab": {
          "base_uri": "https://localhost:8080/"
        },
        "id": "KJRh1sIlf0Ts",
        "outputId": "efd75a1d-33d1-4d85-bff4-91ba1311c474"
      },
      "outputs": [
        {
          "name": "stdout",
          "output_type": "stream",
          "text": [
            "İsminizi giriniz: Ali\n",
            "Hoş geldin Ali\n"
          ]
        }
      ],
      "source": [
        "isim = input(\"İsminizi giriniz: \")\n",
        "print(\"Hoş geldin \" + isim)"
      ]
    },
    {
      "cell_type": "markdown",
      "metadata": {
        "id": "5aicLvR9j6fh"
      },
      "source": [
        "İşte tam bize gelen o kullanıcıya özel maillerden birini artık oluşturabiliriz:"
      ]
    },
    {
      "cell_type": "code",
      "execution_count": null,
      "metadata": {
        "colab": {
          "base_uri": "https://localhost:8080/"
        },
        "id": "gbBQSlHQj57u",
        "outputId": "548708b5-89f4-4ae7-a91b-71b02d903441"
      },
      "outputs": [
        {
          "name": "stdout",
          "output_type": "stream",
          "text": [
            "İsminizi giriniz: Ali\n",
            "Hey Ali sana özel harika bir kampanyamız var!\n"
          ]
        }
      ],
      "source": [
        "isim = input(\"İsminizi giriniz: \")\n",
        "print(\"Hey \" + isim + \" sana özel harika bir kampanyamız var!\")"
      ]
    },
    {
      "cell_type": "markdown",
      "metadata": {
        "id": "VqDOIkN2WyWY"
      },
      "source": [
        "Buraya kadar harika, şimdi önemli bir soru: Değişkenlerin adı neye göre belirleniyor?"
      ]
    },
    {
      "cell_type": "code",
      "execution_count": 5,
      "metadata": {
        "colab": {
          "base_uri": "https://localhost:8080/"
        },
        "id": "fAzTjllBW3Oq",
        "outputId": "7acd50b4-412f-49d1-bf93-3935a98369d9"
      },
      "outputs": [
        {
          "name": "stdout",
          "output_type": "stream",
          "text": [
            "İsminizi giriniz: Ali\n",
            "Hey Ali sana özel harika bir kampanyamız var!\n"
          ]
        }
      ],
      "source": [
        "ananas = input(\"İsminizi giriniz: \")\n",
        "print(\"Hey \" + ananas + \" sana özel harika bir kampanyamız var!\")"
      ]
    },
    {
      "cell_type": "markdown",
      "metadata": {
        "id": "prFWSlbFW55_"
      },
      "source": [
        "Gördüğümüz üzere __isim__ yerine __ananas__ da yazsak kod çalışır ve Ali'nin bundan hiç haberi olmaz 🤭\n",
        "\n",
        "Hatırlayalım: değişkenler bizim bilgisayarın hafızasındaki veriyi çağırabilmemiz içindi. Yani kendi kullanımımız için oluşturduğumuz bir tür etiket. Dolayısıyla dilediğiniz şeyi yazabilirsiniz (sayıyla başlamamak gibi küçük kuralları var), fakat önemli olan birinin kodunuzu okuduğunda (ve kendiniz okuduğunuzda) o değişkenin içinde ne olduğunu anlayabilmesi 😬"
      ]
    },
    {
      "cell_type": "markdown",
      "metadata": {
        "id": "AtWZOeNqiYda"
      },
      "source": [
        "## 2) Sayısal Veri (integer ve float)"
      ]
    },
    {
      "cell_type": "markdown",
      "metadata": {
        "id": "oJOLZ94gYAMD"
      },
      "source": [
        "Sayı konusunda anlatabileceğimiz pek bir şey yok. Olduğu gibi yazabiliyoruz. Sadece terimsel ayrımı söyleyelim:\n",
        "\n",
        "- Integer: Tam sayı \n",
        "- Float: Ondalıklı sayı"
      ]
    },
    {
      "cell_type": "code",
      "execution_count": null,
      "metadata": {
        "colab": {
          "base_uri": "https://localhost:8080/"
        },
        "id": "pRBV2z6oiU_K",
        "outputId": "19128c1d-8679-4e87-f3d5-77301c19296e"
      },
      "outputs": [
        {
          "name": "stdout",
          "output_type": "stream",
          "text": [
            "8\n"
          ]
        }
      ],
      "source": [
        "print(3 + 5)"
      ]
    },
    {
      "cell_type": "markdown",
      "metadata": {
        "id": "Sqg62lo_YJT5"
      },
      "source": [
        "Fakat belirtmemiz gereken önemli bir şey var, bir sayıyı string içerisinde yazabiliriz ve topladığımızda ilginç şeyler olabilir 😮"
      ]
    },
    {
      "cell_type": "code",
      "execution_count": null,
      "metadata": {
        "colab": {
          "base_uri": "https://localhost:8080/"
        },
        "id": "YMZMioE_iU9O",
        "outputId": "8a51f8ba-c6a6-4c11-888f-84e9af01f762"
      },
      "outputs": [
        {
          "name": "stdout",
          "output_type": "stream",
          "text": [
            "35\n"
          ]
        }
      ],
      "source": [
        "print(\"3\" + \"5\")"
      ]
    },
    {
      "cell_type": "markdown",
      "metadata": {
        "id": "g9nPo-HuYgGh"
      },
      "source": [
        "Stringlerde toplama işareti \"yan yana ekle\" anlamına geldiği için sayıları _string halinde yazdığımızda_ iki string'e ne yapıyorsa onu yaptı."
      ]
    },
    {
      "cell_type": "code",
      "execution_count": 6,
      "metadata": {
        "colab": {
          "base_uri": "https://localhost:8080/"
        },
        "id": "KszytGaBYoIV",
        "outputId": "20ace374-50a3-42fd-c770-6f0ead4ee5dd"
      },
      "outputs": [
        {
          "name": "stdout",
          "output_type": "stream",
          "text": [
            "ab\n"
          ]
        }
      ],
      "source": [
        "print(\"a\" + \"b\")"
      ]
    },
    {
      "cell_type": "markdown",
      "metadata": {
        "id": "Bg8s_5BFjsRK"
      },
      "source": [
        "## Verilerin Birbirine Dönüştürülmesi"
      ]
    },
    {
      "cell_type": "markdown",
      "metadata": {
        "id": "3HwuY1OPY_8g"
      },
      "source": [
        "Buraya kadar sabrettiğiniz için tebrikler 👏 Dersin sonunda güzel bir program yazarak ayrılacağız. Fakat önce veri türleri konusunun en kritik yerini halletmemiz gerekiyor."
      ]
    },
    {
      "cell_type": "code",
      "execution_count": null,
      "metadata": {
        "colab": {
          "base_uri": "https://localhost:8080/",
          "height": 170
        },
        "id": "8NnEEqEGiU6g",
        "outputId": "2ded1f44-2e8e-47aa-a1a8-9f98d6e20155"
      },
      "outputs": [
        {
          "ename": "TypeError",
          "evalue": "ignored",
          "output_type": "error",
          "traceback": [
            "\u001b[0;31m---------------------------------------------------------------------------\u001b[0m",
            "\u001b[0;31mTypeError\u001b[0m                                 Traceback (most recent call last)",
            "\u001b[0;32m<ipython-input-14-4fdbead67eba>\u001b[0m in \u001b[0;36m<module>\u001b[0;34m()\u001b[0m\n\u001b[0;32m----> 1\u001b[0;31m \u001b[0mprint\u001b[0m\u001b[0;34m(\u001b[0m\u001b[0;34m\"3\"\u001b[0m \u001b[0;34m+\u001b[0m \u001b[0;36m5\u001b[0m\u001b[0;34m)\u001b[0m\u001b[0;34m\u001b[0m\u001b[0;34m\u001b[0m\u001b[0m\n\u001b[0m",
            "\u001b[0;31mTypeError\u001b[0m: can only concatenate str (not \"int\") to str"
          ]
        }
      ],
      "source": [
        "print(\"3\" + 5)"
      ]
    },
    {
      "cell_type": "markdown",
      "metadata": {
        "id": "LoUCCApQi1B1"
      },
      "source": [
        "İkinci hatamızı aldık 🙌: **TypeError** \n",
        "\n",
        "En başta temel olarak 3 veri türü (data **type**) olduğundan bahsetmiştik. Şu anda da bize bunlarla ilgili bir hata veriyor demek ki. Açıklamayı okuduğumuzda **str sadece str ile birbirine eklenebilir integer ile değil** diyor. Demek ki string ile integer'ı toplayamayız. O halde dönüşüm yapmamız gerekiyor. Dönüştürmek istediğimiz veri türüne göre **int()**, **float()** ve str() fonksiyonlarını kullanabiliriz."
      ]
    },
    {
      "cell_type": "code",
      "execution_count": null,
      "metadata": {
        "colab": {
          "base_uri": "https://localhost:8080/"
        },
        "id": "kz9eXYrQiU4O",
        "outputId": "02a82e6b-bed2-4816-c67b-38c7b7a2b75c"
      },
      "outputs": [
        {
          "name": "stdout",
          "output_type": "stream",
          "text": [
            "8\n"
          ]
        }
      ],
      "source": [
        "print( int(\"3\") + 5 )"
      ]
    },
    {
      "cell_type": "markdown",
      "metadata": {
        "id": "UHN9Ex5pjdZK"
      },
      "source": [
        "Bir değişkenin veri tipini merak ediyorsak **type** fonksiyonunu kullanabiliriz:"
      ]
    },
    {
      "cell_type": "code",
      "execution_count": null,
      "metadata": {
        "colab": {
          "base_uri": "https://localhost:8080/"
        },
        "id": "HK9-CEH6iU11",
        "outputId": "8d666129-9e49-4fcc-e867-bb57d589694f"
      },
      "outputs": [
        {
          "name": "stdout",
          "output_type": "stream",
          "text": [
            "<class 'int'>\n"
          ]
        }
      ],
      "source": [
        "print( type(3) )"
      ]
    },
    {
      "cell_type": "code",
      "execution_count": null,
      "metadata": {
        "colab": {
          "base_uri": "https://localhost:8080/"
        },
        "id": "dDdItMjXi0i7",
        "outputId": "548854b1-ccb5-4511-8e95-cf7a699b6269"
      },
      "outputs": [
        {
          "name": "stdout",
          "output_type": "stream",
          "text": [
            "<class 'str'>\n"
          ]
        }
      ],
      "source": [
        "print( type(\"merhaba\") )"
      ]
    },
    {
      "cell_type": "code",
      "execution_count": null,
      "metadata": {
        "colab": {
          "base_uri": "https://localhost:8080/"
        },
        "id": "WBRCfQfNi0gp",
        "outputId": "230d54bb-c9d0-48cf-b83c-d9a2551e8acb"
      },
      "outputs": [
        {
          "name": "stdout",
          "output_type": "stream",
          "text": [
            "<class 'int'>\n"
          ]
        }
      ],
      "source": [
        "print( type( int(\"3\") ) )"
      ]
    },
    {
      "cell_type": "markdown",
      "metadata": {
        "id": "E2ymjNfOZ1ID"
      },
      "source": [
        "_parantezlerden sonraki boşluklar rahat okunabilmesi için eklendi_"
      ]
    },
    {
      "cell_type": "markdown",
      "metadata": {
        "id": "BnyS3RftmOQ2"
      },
      "source": [
        "Şimdi input ile sayısal veri alalım."
      ]
    },
    {
      "cell_type": "code",
      "execution_count": 14,
      "metadata": {
        "colab": {
          "base_uri": "https://localhost:8080/",
          "height": 201
        },
        "id": "1kNIDfbOi0Fm",
        "outputId": "f573a34d-ec60-43c2-df66-051e5c157229"
      },
      "outputs": [
        {
          "name": "stdout",
          "output_type": "stream",
          "text": [
            "Doğum tarihinizi yazınız: 1990\n"
          ]
        },
        {
          "ename": "TypeError",
          "evalue": "ignored",
          "output_type": "error",
          "traceback": [
            "\u001b[0;31m---------------------------------------------------------------------------\u001b[0m",
            "\u001b[0;31mTypeError\u001b[0m                                 Traceback (most recent call last)",
            "\u001b[0;32m<ipython-input-14-e4acbce126b9>\u001b[0m in \u001b[0;36m<module>\u001b[0;34m\u001b[0m\n\u001b[1;32m      1\u001b[0m \u001b[0mdoğum_tarihi\u001b[0m \u001b[0;34m=\u001b[0m \u001b[0minput\u001b[0m\u001b[0;34m(\u001b[0m\u001b[0;34m\"Doğum tarihinizi yazınız: \"\u001b[0m\u001b[0;34m)\u001b[0m\u001b[0;34m\u001b[0m\u001b[0;34m\u001b[0m\u001b[0m\n\u001b[0;32m----> 2\u001b[0;31m \u001b[0mfark\u001b[0m \u001b[0;34m=\u001b[0m \u001b[0mdoğum_tarihi\u001b[0m \u001b[0;34m-\u001b[0m \u001b[0;36m1453\u001b[0m\u001b[0;34m\u001b[0m\u001b[0;34m\u001b[0m\u001b[0m\n\u001b[0m",
            "\u001b[0;31mTypeError\u001b[0m: unsupported operand type(s) for -: 'str' and 'int'"
          ]
        }
      ],
      "source": [
        "doğum_tarihi = input(\"Doğum tarihinizi yazınız: \")\n",
        "fark = doğum_tarihi - 1453"
      ]
    },
    {
      "cell_type": "markdown",
      "metadata": {
        "id": "tIJDMuM9lin4"
      },
      "source": [
        "Hmm tanıdık bir hata aldık: **TypeError**. Hatanın nerede olduğunu bize söylüyor:\n",
        "```\n",
        "fark = doğum_tarihi - 1453\n",
        "```\n",
        "Bu satırda integer ile string arasında Python'un desteklemediği bir \"-\" işlemi yapmışız. Demek ki **doğum_tarihi** değişkenimiz <font color='FF7043'>**integer değilmiş!**</font> Fakat biz 1990 yazmıştık 🤔\n",
        "\n",
        "\n",
        "**input** fonksiyonu girilen verinin sayısal mı sözel mi olduğunu bilmediği için en kapsamlı şekilde alıyor: string olarak. Çünkü daha önce sayıları **\"3\"** şeklinde string içerisinde yazabileceğimizi görmüştük.\n",
        "\n",
        "Hatta **type()** fonksiyonu ile bunu görebiliriz:"
      ]
    },
    {
      "cell_type": "code",
      "execution_count": 15,
      "metadata": {
        "colab": {
          "base_uri": "https://localhost:8080/"
        },
        "id": "-fkoI6L0j3ZB",
        "outputId": "2ca3581f-ceb5-4ed3-95e1-81e7c3ad055d"
      },
      "outputs": [
        {
          "name": "stdout",
          "output_type": "stream",
          "text": [
            "Doğum tarihinizi yazınız: 1990\n",
            "<class 'str'>\n"
          ]
        }
      ],
      "source": [
        "doğum_tarihi = input(\"Doğum tarihinizi yazınız: \")\n",
        "print(type(doğum_tarihi))"
      ]
    },
    {
      "cell_type": "markdown",
      "metadata": {
        "id": "maOhpf8Lm0tB"
      },
      "source": [
        "Dolayısıyla yukarıda hata aldığımız kodu şu şekilde düzeltebiliriz:"
      ]
    },
    {
      "cell_type": "code",
      "execution_count": 19,
      "metadata": {
        "colab": {
          "base_uri": "https://localhost:8080/"
        },
        "id": "ugt-YBmDj3Wq",
        "outputId": "495b205d-5ae5-4929-a191-c585eecbc721"
      },
      "outputs": [
        {
          "name": "stdout",
          "output_type": "stream",
          "text": [
            "Doğum tarihinizi yazınız: 1990\n",
            "537\n"
          ]
        }
      ],
      "source": [
        "doğum_tarihi = input(\"Doğum tarihinizi yazınız: \")\n",
        "fark = int(doğum_tarihi) - 1453\n",
        "print(fark)"
      ]
    },
    {
      "cell_type": "markdown",
      "metadata": {
        "id": "cq9e4r7gbjmK"
      },
      "source": [
        "O halde bu bilgiyi kullanıcıya daha güzel bir şekilde söyleyelim:"
      ]
    },
    {
      "cell_type": "code",
      "execution_count": 20,
      "metadata": {
        "colab": {
          "base_uri": "https://localhost:8080/",
          "height": 218
        },
        "id": "wHohpMufbma7",
        "outputId": "0f824200-6d68-4748-cb17-f6d408514566"
      },
      "outputs": [
        {
          "name": "stdout",
          "output_type": "stream",
          "text": [
            "Doğum tarihinizi yazınız: 1990\n"
          ]
        },
        {
          "ename": "TypeError",
          "evalue": "ignored",
          "output_type": "error",
          "traceback": [
            "\u001b[0;31m---------------------------------------------------------------------------\u001b[0m",
            "\u001b[0;31mTypeError\u001b[0m                                 Traceback (most recent call last)",
            "\u001b[0;32m<ipython-input-20-149464a1b9f8>\u001b[0m in \u001b[0;36m<module>\u001b[0;34m\u001b[0m\n\u001b[1;32m      1\u001b[0m \u001b[0mdoğum_tarihi\u001b[0m \u001b[0;34m=\u001b[0m \u001b[0minput\u001b[0m\u001b[0;34m(\u001b[0m\u001b[0;34m\"Doğum tarihinizi yazınız: \"\u001b[0m\u001b[0;34m)\u001b[0m\u001b[0;34m\u001b[0m\u001b[0;34m\u001b[0m\u001b[0m\n\u001b[1;32m      2\u001b[0m \u001b[0mfark\u001b[0m \u001b[0;34m=\u001b[0m \u001b[0mint\u001b[0m\u001b[0;34m(\u001b[0m\u001b[0mdoğum_tarihi\u001b[0m\u001b[0;34m)\u001b[0m \u001b[0;34m-\u001b[0m \u001b[0;36m1453\u001b[0m\u001b[0;34m\u001b[0m\u001b[0;34m\u001b[0m\u001b[0m\n\u001b[0;32m----> 3\u001b[0;31m \u001b[0mprint\u001b[0m\u001b[0;34m(\u001b[0m\u001b[0;34m\"İstanbul'un fethinden \"\u001b[0m \u001b[0;34m+\u001b[0m \u001b[0mfark\u001b[0m \u001b[0;34m+\u001b[0m \u001b[0;34m\" yıl sonra doğmuşsunuz.\"\u001b[0m\u001b[0;34m)\u001b[0m\u001b[0;34m\u001b[0m\u001b[0;34m\u001b[0m\u001b[0m\n\u001b[0m",
            "\u001b[0;31mTypeError\u001b[0m: can only concatenate str (not \"int\") to str"
          ]
        }
      ],
      "source": [
        "doğum_tarihi = input(\"Doğum tarihinizi yazınız: \")\n",
        "fark = int(doğum_tarihi) - 1453\n",
        "print(\"İstanbul'un fethinden \" + fark + \" yıl sonra doğmuşsunuz.\")"
      ]
    },
    {
      "cell_type": "markdown",
      "metadata": {
        "id": "3UoNY4vxbvY4"
      },
      "source": [
        "Bu sefer 3. satırda hata yapmışız 🤨 string ile integer arasında bir işlem yaptığımızı söylüyor ki haklı: \n",
        "\n",
        "<font color=\"FFA726\">doğum_tarihi</font> değişkeni bir **string**\n",
        "\n",
        "<font color=\"039BE5\">fark</font> değişkeni ise bir **integer**"
      ]
    },
    {
      "cell_type": "code",
      "execution_count": 21,
      "metadata": {
        "colab": {
          "base_uri": "https://localhost:8080/"
        },
        "id": "v9VIX6BcbvBA",
        "outputId": "32fc1446-0dd5-4942-f952-e1cc68f36d35"
      },
      "outputs": [
        {
          "name": "stdout",
          "output_type": "stream",
          "text": [
            "Doğum tarihinizi yazınız: 1990\n",
            "İstanbul'un fethinden 537 yıl sonra doğmuşsunuz.\n"
          ]
        }
      ],
      "source": [
        "doğum_tarihi = input(\"Doğum tarihinizi yazınız: \")\n",
        "fark = int(doğum_tarihi) - 1453 \n",
        "print(\"İstanbul'un fethinden \" + str(fark) + \" yıl sonra doğmuşsunuz.\")"
      ]
    },
    {
      "cell_type": "markdown",
      "metadata": {
        "id": "zzvT-8b7efP0"
      },
      "source": [
        "## Değişkenlerin Değiştirilmesi"
      ]
    },
    {
      "cell_type": "markdown",
      "metadata": {
        "id": "r38LFcbvuQL-"
      },
      "source": [
        "Şimdi çok kritik bir soru geliyor:\n",
        "\n",
        "Peki **int(doğum_tarihi)** fonksiyonunu çalıştırdığımızda orijinal **doğum_tarihi** değişkenimiz artık integer'a dönüştü mü?"
      ]
    },
    {
      "cell_type": "code",
      "execution_count": 22,
      "metadata": {
        "colab": {
          "base_uri": "https://localhost:8080/"
        },
        "id": "Vlavfx92uV-O",
        "outputId": "dbdd3a28-7a44-4894-a881-5714e1771eac"
      },
      "outputs": [
        {
          "name": "stdout",
          "output_type": "stream",
          "text": [
            "Doğum tarihinizi giriniz: 1990\n",
            "<class 'str'>\n",
            "<class 'str'>\n"
          ]
        }
      ],
      "source": [
        "doğum_tarihi = input(\"Doğum tarihinizi giriniz: \")\n",
        "print( type(doğum_tarihi) )\n",
        "int(doğum_tarihi)\n",
        "print( type(doğum_tarihi) )"
      ]
    },
    {
      "cell_type": "markdown",
      "metadata": {
        "id": "bmcKq6dougAV"
      },
      "source": [
        "Değişmedi 😐 \n",
        "\n",
        "Python kodları sağdan sola doğru okuyor. Değişkenler konusunu konuşurken buna değinmiştik. Örneğin\n",
        "```\n",
        "doğum_tarihi = 1990\n",
        "yıl = doğum_tarihi - 1453\n",
        "```\n",
        "kodunu şöyle tercüme edebiliriz:\n",
        "\n",
        "_1) 1990 sayısını hafızada tut. Her \"doğum_tarihi\" yazdığımda bana bu veriyi  getirmeni istiyorum._\n",
        "\n",
        "_2) \"doğum_tarihi\" değişkeninin tuttuğu veriden (1990'dan) 1453'ü çıkar, ben bu bilgiye \"yıl\" değişkeniyle erişeceğim._"
      ]
    },
    {
      "cell_type": "markdown",
      "metadata": {
        "id": "O2YEDbFPXLLB"
      },
      "source": [
        "Bir değişkendeki verinin kendisiyle yapılan bir işlemle değiştirmek istiyor olsaydık:\n",
        "\n",
        "```\n",
        "yıl = 2021\n",
        "yıl = yıl + 1\n",
        "```\n",
        "\n",
        "_1) 2021 sayısını hafızada tut. Ben bu veriyi \"yıl\" kelimesiyle çağıracağım._\n",
        "\n",
        "_2) \"yıl\" kelimesi ile tuttuğum veriye 1 ekle, bu 1 eklenmiş veriyi \"yıl\" kelimesiyle çağıracağım._\n",
        "\n",
        "Dolayısıyla 1. basamaktaki 2021 bilgisi uçtu 🚀 Artık ona erişemeyeceğiz. hafızadaki \"yıl\" etiketli kutunun içini değiştirdik."
      ]
    },
    {
      "cell_type": "code",
      "execution_count": null,
      "metadata": {
        "colab": {
          "base_uri": "https://localhost:8080/"
        },
        "id": "h8scNco4JfRz",
        "outputId": "1e1dded7-2254-455d-cce7-0ba64d1bb227"
      },
      "outputs": [
        {
          "name": "stdout",
          "output_type": "stream",
          "text": [
            "2021\n",
            "2022\n"
          ]
        }
      ],
      "source": [
        "yıl = 2021\n",
        "print(yıl)\n",
        "yıl = yıl + 1\n",
        "print(yıl)"
      ]
    },
    {
      "cell_type": "markdown",
      "metadata": {
        "id": "H5O_ZDJOnXUJ"
      },
      "source": [
        "`yıl = yıl + 1 ` yazmazsak ne olur?"
      ]
    },
    {
      "cell_type": "code",
      "execution_count": null,
      "metadata": {
        "colab": {
          "base_uri": "https://localhost:8080/"
        },
        "id": "e_pi3Un6pTUg",
        "outputId": "3ccaaa11-c2f3-48e9-b11d-dc839a35adb4"
      },
      "outputs": [
        {
          "name": "stdout",
          "output_type": "stream",
          "text": [
            "2021\n"
          ]
        }
      ],
      "source": [
        "yıl = 2021\n",
        "yıl + 1\n",
        "print(yıl)"
      ]
    },
    {
      "cell_type": "markdown",
      "metadata": {
        "id": "rER0tS9lnneQ"
      },
      "source": [
        "Buradaki kodu şöyle tercüme edebiliriz:\n",
        "\n",
        "_1) 2021 sayısını hafızada tut. Ben bu veriyi \"yıl\" kelimesiyle çağıracağım._\n",
        "\n",
        "_2) \"yıl\" değişkeninin tuttuğu bilgiye 1 ekle (ee?)_\n",
        "\n",
        "Her `yıl + bir sayı` yazdığımızda **yıl** değişkeni değişseydi bu felaket olurdu. Dolayısıyla 2. adımda <font color=\"orange\">**yıl** değişkenine 1 ekle</font> dedik. Fakat ekledikten sonra **elde ettiği bilgiyi ne yapacağını** söylemedik. Dolayısıyla o bilgi uçtu 🚀\n",
        "\n",
        "Şöyle bir şey yapsaydık:"
      ]
    },
    {
      "cell_type": "code",
      "execution_count": null,
      "metadata": {
        "colab": {
          "base_uri": "https://localhost:8080/"
        },
        "id": "gmRkujH-JQnG",
        "outputId": "c035ad19-8762-4d9a-c698-0c0da3a82e0b"
      },
      "outputs": [
        {
          "name": "stdout",
          "output_type": "stream",
          "text": [
            "2021\n",
            "2022\n"
          ]
        }
      ],
      "source": [
        "yıl = 2021\n",
        "yeni_yıl = yıl + 1\n",
        "print(yıl)\n",
        "print(yeni_yıl)"
      ]
    },
    {
      "cell_type": "markdown",
      "metadata": {
        "id": "ksv54magokJQ"
      },
      "source": [
        "Bu sefer _<font color=\"orange\">**yıl** değişkenine 1 ekle, onu da **yeni_yıl** adında bir değişkende tut.</font>_ demiş olduk.\n",
        "\n"
      ]
    },
    {
      "cell_type": "markdown",
      "metadata": {
        "id": "s5G2KqgZpAJ8"
      },
      "source": [
        "En başa gelirsek input ile aldığımız doğum tarihi bilgisinin **kalıcı olarak** integer olmasını istiyorsak:\n",
        "\n",
        "_(parantez içindeki fazla boşluklar okumanın kolaylaştırılması için eklendi)_"
      ]
    },
    {
      "cell_type": "code",
      "execution_count": null,
      "metadata": {
        "id": "Gb0MqZcIpJ9z"
      },
      "outputs": [],
      "source": [
        "doğum_tarihi = input(\"Doğum tarihinizi giriniz: \")\n",
        "print( type(doğum_tarihi) )\n",
        "doğum_tarihi = int(doğum_tarihi)\n",
        "print( type(doğum_tarihi) )"
      ]
    },
    {
      "cell_type": "markdown",
      "metadata": {
        "id": "_o3p6JPQYJnk"
      },
      "source": [
        "Daha pratik yolu: input ile aldığımız değerin **sayısal olacağından eminsek** hemen integer'a dönüştürebiliriz."
      ]
    },
    {
      "cell_type": "code",
      "execution_count": 24,
      "metadata": {
        "colab": {
          "base_uri": "https://localhost:8080/"
        },
        "id": "fat6OyGBPsCq",
        "outputId": "de367848-e37a-4958-be04-1419f68107c8"
      },
      "outputs": [
        {
          "name": "stdout",
          "output_type": "stream",
          "text": [
            "Doğum tarihinizi giriniz: 1958\n",
            "İstanbul'un fethinden 505 yıl sonra doğmuşsunuz.\n"
          ]
        }
      ],
      "source": [
        "doğum_tarihi = int(input(\"Doğum tarihinizi giriniz: \"))\n",
        "fark = doğum_tarihi - 1453\n",
        "print(\"İstanbul'un fethinden \" + str(fark) + \" yıl sonra doğmuşsunuz.\")"
      ]
    },
    {
      "cell_type": "markdown",
      "metadata": {
        "id": "G37EMWlRniLK"
      },
      "source": [
        "## 3) Mantıksal Doğruluk (True - False)"
      ]
    },
    {
      "cell_type": "markdown",
      "metadata": {
        "id": "y977TfTnpv5J"
      },
      "source": [
        "Bu dersin en meşakkatli kısmını tamamladınız, tebrikler! 🎉 Artık tam bir program yazma hissine çok yaklaştık. O aşamadan önceki son adım: mantıksal doğruluk, yani o meşhur _\"bilgisayar bir ve sıfırla çalışır\"_ cümlesi."
      ]
    },
    {
      "cell_type": "markdown",
      "metadata": {
        "id": "TvYBevNKYfQ4"
      },
      "source": [
        "5 + 5 ifadesi 10'a eşittir. "
      ]
    },
    {
      "cell_type": "code",
      "execution_count": null,
      "metadata": {
        "colab": {
          "base_uri": "https://localhost:8080/"
        },
        "id": "RaOI0hT-ptyv",
        "outputId": "2139819f-9c6e-41b1-d05e-b523830215d7"
      },
      "outputs": [
        {
          "data": {
            "text/plain": [
              "True"
            ]
          },
          "execution_count": 31,
          "metadata": {},
          "output_type": "execute_result"
        }
      ],
      "source": [
        "5 + 5 == 10"
      ]
    },
    {
      "cell_type": "markdown",
      "metadata": {
        "id": "3c1Bb60YYi9R"
      },
      "source": [
        "3 + 5 ifadesi 70'e eşittir."
      ]
    },
    {
      "cell_type": "code",
      "execution_count": null,
      "metadata": {
        "colab": {
          "base_uri": "https://localhost:8080/"
        },
        "id": "-SYVkF3EbX1W",
        "outputId": "67c8932c-43b4-45c1-9b17-5208acd695ba"
      },
      "outputs": [
        {
          "name": "stdout",
          "output_type": "stream",
          "text": [
            "False\n"
          ]
        }
      ],
      "source": [
        "print(3 + 5 == 70)"
      ]
    },
    {
      "cell_type": "markdown",
      "metadata": {
        "id": "k8DFAGLAYlzJ"
      },
      "source": [
        "3 5'ten büyüktür."
      ]
    },
    {
      "cell_type": "code",
      "execution_count": null,
      "metadata": {
        "colab": {
          "base_uri": "https://localhost:8080/"
        },
        "id": "LIcqhV2hQTmD",
        "outputId": "db6f73f4-8d08-4c72-d3f0-f369b2bfbacd"
      },
      "outputs": [
        {
          "name": "stdout",
          "output_type": "stream",
          "text": [
            "False\n"
          ]
        }
      ],
      "source": [
        "print(3 > 5)"
      ]
    },
    {
      "cell_type": "markdown",
      "metadata": {
        "id": "QpABkS0JYozK"
      },
      "source": [
        "isim \"Ali\"ye eşittir."
      ]
    },
    {
      "cell_type": "code",
      "execution_count": 25,
      "metadata": {
        "colab": {
          "base_uri": "https://localhost:8080/"
        },
        "id": "g3kdz4LgSqNT",
        "outputId": "55fcad88-69ae-4bec-dafc-18c33827b06c"
      },
      "outputs": [
        {
          "name": "stdout",
          "output_type": "stream",
          "text": [
            "False\n"
          ]
        }
      ],
      "source": [
        "isim = \"Ayşe\"\n",
        "print(isim == \"Ali\" )"
      ]
    },
    {
      "cell_type": "markdown",
      "metadata": {
        "id": "XnQcAFlintRF"
      },
      "source": [
        "Mantıksal doğru ve yanlış anlamında **True** ile **False**'un büyük harfle başladığına dikkat ediniz. Burada bilgisayar doğru önermeler için **True** yani 1, yanlış önermeler için **False** yani 0 değeri veriyor."
      ]
    },
    {
      "cell_type": "markdown",
      "metadata": {
        "id": "QOc9ZD15S3ie"
      },
      "source": [
        "# Şartlı İfadelere Tadımlık Bir Giriş"
      ]
    },
    {
      "cell_type": "markdown",
      "metadata": {
        "id": "wlk-JGMEn4E7"
      },
      "source": [
        "İşte şimdi o müthiş an geldi! Gerçek bir program yazalım 🔥 \n",
        "\n",
        "Bir lunaparktaki oyuncakların girişlerini otomatik bir sistemle kontrol edeceğiz. Sistem çocukların boylarını ölçecek ve buna göre geçişe izin verecek 🎢🎡"
      ]
    },
    {
      "cell_type": "code",
      "execution_count": 31,
      "metadata": {
        "colab": {
          "base_uri": "https://localhost:8080/"
        },
        "id": "U7wWZ0bkn_8u",
        "outputId": "87775b9e-74af-4ee1-be30-58a9d9900fcb"
      },
      "outputs": [
        {
          "name": "stdout",
          "output_type": "stream",
          "text": [
            "Lunaparka girebilirsin, iyi eğlenceler 🎉\n"
          ]
        }
      ],
      "source": [
        "boy = 170\n",
        "\n",
        "if boy > 160:\n",
        "  print(\"Lunaparka girebilirsin, iyi eğlenceler 🎉\")"
      ]
    },
    {
      "cell_type": "markdown",
      "metadata": {
        "id": "u0qs9dUVoJHC"
      },
      "source": [
        "Yukarıdaki kodu yorumlayalım.\n",
        "```\n",
        "if boy > 160\n",
        "```\n",
        "**boy değişkeni 160'tan büyükse if'in içindekileri çalıştır.** şeklinde düşünebiliriz. Peki **if'in içi** ne demek?\n",
        "\n",
        "Tab ile (ya da 3 boşluk) boşluk bırakarak başladığımız her satır <font color=\"orange\">**if şartı**</font> (bizim kodumuzda <font color=\"orange\">_boy > 160_</font> kısmı) **doğru olduğunda** çalışır.\n",
        "\n",
        "Tab ile boşluk bırakmadığımız satırlar (if ile aynı hizada olan satırlar) <font color=\"1976D2\">**daima**</font> çalışır."
      ]
    },
    {
      "cell_type": "code",
      "execution_count": 32,
      "metadata": {
        "colab": {
          "base_uri": "https://localhost:8080/"
        },
        "id": "SfWVD-QMqJJO",
        "outputId": "7b6fe8f2-618b-4260-a5a2-699c4e779433"
      },
      "outputs": [
        {
          "name": "stdout",
          "output_type": "stream",
          "text": [
            "Lunaparka girebilirsin, iyi eğlenceler 🎉\n",
            "Ben if'in içindeyim!\n",
            "Ben if'in dışındayım!\n"
          ]
        }
      ],
      "source": [
        "boy = 170\n",
        "\n",
        "if boy > 160:\n",
        "  print(\"Lunaparka girebilirsin, iyi eğlenceler 🎉\")\n",
        "  print(\"Ben if'in içindeyim!\")\n",
        "\n",
        "print(\"Ben if'in dışındayım!\")"
      ]
    },
    {
      "cell_type": "markdown",
      "metadata": {
        "id": "8uuWidpIqRBf"
      },
      "source": [
        "if'in şartını yanlış yapalım:"
      ]
    },
    {
      "cell_type": "code",
      "execution_count": 33,
      "metadata": {
        "colab": {
          "base_uri": "https://localhost:8080/"
        },
        "id": "EzDMuHdUqJGk",
        "outputId": "effb52ce-6f59-453d-b148-758d33c71d61"
      },
      "outputs": [
        {
          "name": "stdout",
          "output_type": "stream",
          "text": [
            "Ben if'in dışındayım!\n"
          ]
        }
      ],
      "source": [
        "boy = 150\n",
        "\n",
        "if boy > 160:\n",
        "  print(\"Lunaparka girebilirsin, iyi eğlenceler 🎉\")\n",
        "  print(\"Ben if'in içindeyim!\")\n",
        "\n",
        "print(\"Ben if'in dışındayım!\")"
      ]
    },
    {
      "cell_type": "markdown",
      "metadata": {
        "id": "nr5LKj1C48RP"
      },
      "source": [
        "Konunun True ve False ile ilişkisini unutmayalım: Python bu yazdığımız şartları ne olarak algılıyordu? print ile yazdıralım:"
      ]
    },
    {
      "cell_type": "code",
      "execution_count": 34,
      "metadata": {
        "colab": {
          "base_uri": "https://localhost:8080/"
        },
        "id": "WmqgyY7y5XZ_",
        "outputId": "8dc7d3d8-65df-42fd-ab35-c0393d15b975"
      },
      "outputs": [
        {
          "name": "stdout",
          "output_type": "stream",
          "text": [
            "True\n"
          ]
        }
      ],
      "source": [
        "boy = 170\n",
        "print(boy > 160)"
      ]
    },
    {
      "cell_type": "markdown",
      "metadata": {
        "id": "xeA0sLwv5dHz"
      },
      "source": [
        "Yani yukarıdaki \n",
        "```\n",
        "boy = 170\n",
        "\n",
        "if boy > 160:\n",
        "  print(\"Lunaparka girebilirsin.\")\n",
        "```\n",
        "kodumuz neticede şuna dönüşüyormuş:"
      ]
    },
    {
      "cell_type": "code",
      "execution_count": 35,
      "metadata": {
        "colab": {
          "base_uri": "https://localhost:8080/"
        },
        "id": "Y814c-P95cVJ",
        "outputId": "9429fbff-c04f-4ae6-ec66-473e8d1b08ee"
      },
      "outputs": [
        {
          "name": "stdout",
          "output_type": "stream",
          "text": [
            "Lunaparka girebilirsin, iyi eğlenceler 🎉\n"
          ]
        }
      ],
      "source": [
        "if True:\n",
        "  print('Lunaparka girebilirsin, iyi eğlenceler 🎉')"
      ]
    },
    {
      "cell_type": "markdown",
      "metadata": {
        "id": "wtXks3XL6Bdm"
      },
      "source": [
        "Şart olarak yazdığımız ifade yanlış olursa?"
      ]
    },
    {
      "cell_type": "code",
      "execution_count": 36,
      "metadata": {
        "colab": {
          "base_uri": "https://localhost:8080/"
        },
        "id": "gafN9Hh847pn",
        "outputId": "3e9a00d8-3f3e-4949-ed00-2e679ab8ecda"
      },
      "outputs": [
        {
          "name": "stdout",
          "output_type": "stream",
          "text": [
            "False\n"
          ]
        }
      ],
      "source": [
        "boy = 150\n",
        "print(boy > 160)"
      ]
    },
    {
      "cell_type": "code",
      "execution_count": 37,
      "metadata": {
        "id": "QGqMtLxuSzWX"
      },
      "outputs": [],
      "source": [
        "boy = 150\n",
        "if boy > 160:\n",
        "  print('Lunaparka girebilirsin, iyi eğlenceler 🎉')"
      ]
    },
    {
      "cell_type": "markdown",
      "metadata": {
        "id": "HZhu2v1A5MT1"
      },
      "source": [
        "Demek ki if kodumuzdaki şartlar sonuçta **sadece 2 değer**den birine dönüşüyormuş: **True** veya **False**"
      ]
    },
    {
      "cell_type": "markdown",
      "metadata": {
        "id": "iBUEMkl6qU17"
      },
      "source": [
        "if için bir şart koyduk ama kullanıcıyı if şartını sağlamadığında ekrana hiçbir şey çıkmadı ve kullanıcı problemin ne olduğunu öğrenemedi 😔 Onun için: **else** kullanacağız. Yine **else**'in içinde ne olmasını istiyorsak bir tab içeriye yazıyoruz."
      ]
    },
    {
      "cell_type": "code",
      "execution_count": 41,
      "metadata": {
        "colab": {
          "base_uri": "https://localhost:8080/"
        },
        "id": "Kx3nT305bq-o",
        "outputId": "ac047144-ee27-4e5f-91f1-ee7327e0d70a"
      },
      "outputs": [
        {
          "name": "stdout",
          "output_type": "stream",
          "text": [
            "Lunaparka girebilirsin, iyi eğlenceler 🎉\n"
          ]
        }
      ],
      "source": [
        "boy = 170\n",
        "\n",
        "if boy > 160: \n",
        "  print(\"Lunaparka girebilirsin, iyi eğlenceler 🎉\")\n",
        "\n",
        "else:\n",
        "  print(\"Üzgünüm boyun yeterince uzun değil, umarım seneye girebilirsin 🤗\")"
      ]
    },
    {
      "cell_type": "code",
      "execution_count": 43,
      "metadata": {
        "colab": {
          "base_uri": "https://localhost:8080/"
        },
        "id": "SeGfo5uJqHo1",
        "outputId": "7eb2f5d7-7346-443f-d209-ef2bd0629d6b"
      },
      "outputs": [
        {
          "name": "stdout",
          "output_type": "stream",
          "text": [
            "Lunaparka girebilirsin, iyi eğlenceler 🎉\n",
            "Bizi tercih ettiğiniz için teşekkürler!\n"
          ]
        }
      ],
      "source": [
        "boy = 170\n",
        "\n",
        "if boy > 160: \n",
        "  print(\"Lunaparka girebilirsin, iyi eğlenceler 🎉\")\n",
        "\n",
        "else:\n",
        "  print(\"Üzgünüm boyun yeterince uzun değil, umarım seneye girebilirsin 🤗\")\n",
        "\n",
        "print('Bizi tercih ettiğiniz için teşekkürler!')"
      ]
    },
    {
      "cell_type": "markdown",
      "metadata": {
        "id": "SmCK9DeuqkR7"
      },
      "source": [
        "Ve aklınızdaki muhtemel o soru: *Peki ya birden fazla seçenek varsa?*\n",
        "\n",
        "Seçeneklerin tamamını kuşatacak kadar **elif** (else if anlamında) kullanabiliriz."
      ]
    },
    {
      "cell_type": "code",
      "execution_count": 44,
      "metadata": {
        "colab": {
          "base_uri": "https://localhost:8080/"
        },
        "id": "mHhRm8piclg-",
        "outputId": "c43f1623-ee47-49a5-afad-56bc87950971"
      },
      "outputs": [
        {
          "name": "stdout",
          "output_type": "stream",
          "text": [
            "Boyunuzu yazınız: 155\n",
            "Rollercoaster haricinde tüm oyuncaklara binebilirsin, iyi eğlenceler!\n"
          ]
        }
      ],
      "source": [
        "boy = int(input(\"Boyunuzu yazınız: \"))\n",
        "\n",
        "if boy > 160: \n",
        "  print(\"Tüm oyuncaklar senin, iyi eğlenceler!\")\n",
        "\n",
        "elif boy > 150:\n",
        "  print(\"Rollercoaster haricinde tüm oyuncaklara binebilirsin, iyi eğlenceler!\")\n",
        "\n",
        "elif boy > 140:\n",
        "  print(\"Oyun evinde iyi eğlenceler :)\")\n",
        "\n",
        "else:\n",
        "  print(\"Üzgünüm boyun yeterince uzun değil, umarım seneye girebilirsin :)\")"
      ]
    },
    {
      "cell_type": "markdown",
      "metadata": {
        "id": "fdyJZCbUsU_Q"
      },
      "source": [
        "Böylelikle kodunuz artık herkese aynı cevabı veren bir kod değil, durumlara göre çeşitli cevaplar veren harika bir program oldu 🥳"
      ]
    },
    {
      "cell_type": "code",
      "execution_count": null,
      "metadata": {
        "id": "9XhbWyX0s1UF"
      },
      "outputs": [],
      "source": []
    }
  ],
  "metadata": {
    "colab": {
      "provenance": []
    },
    "kernelspec": {
      "display_name": "Python 3.8.8 64-bit",
      "language": "python",
      "name": "python3"
    },
    "language_info": {
      "name": "python",
      "version": "3.8.8"
    },
    "vscode": {
      "interpreter": {
        "hash": "02e12ecec72e0e8b224865df209904ea825c501fe02b5f7be2e8b7a5af6841a7"
      }
    }
  },
  "nbformat": 4,
  "nbformat_minor": 0
}
