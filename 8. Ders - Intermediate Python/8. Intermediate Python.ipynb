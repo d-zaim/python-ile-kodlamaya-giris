{
  "nbformat": 4,
  "nbformat_minor": 0,
  "metadata": {
    "colab": {
      "provenance": [],
      "toc_visible": true
    },
    "kernelspec": {
      "name": "python3",
      "display_name": "Python 3"
    },
    "language_info": {
      "name": "python"
    }
  },
  "cells": [
    {
      "cell_type": "markdown",
      "source": [
        "# Intermediate Python "
      ],
      "metadata": {
        "id": "uYq0oD3sC2OE"
      }
    },
    {
      "cell_type": "markdown",
      "source": [
        "## 1) Tek Satırda For Döngüsü \n",
        "1'den 10'a kadar bir liste oluşturmak isteseydik eski bilgilerimizle şöyle yapardık:"
      ],
      "metadata": {
        "id": "R4X6mWXBC4rz"
      }
    },
    {
      "cell_type": "code",
      "execution_count": 1,
      "metadata": {
        "colab": {
          "base_uri": "https://localhost:8080/"
        },
        "id": "pDPp7_GUCzoq",
        "outputId": "b9e85d36-999a-4d90-8191-2a35768a0747"
      },
      "outputs": [
        {
          "output_type": "stream",
          "name": "stdout",
          "text": [
            "[0, 1, 2, 3, 4, 5, 6, 7, 8, 9]\n"
          ]
        }
      ],
      "source": [
        "liste = []\n",
        "for i in range(10):\n",
        "  liste.append(i)\n",
        "\n",
        "print(liste)"
      ]
    },
    {
      "cell_type": "markdown",
      "source": [
        "İşte bu işlemi tek satırda yapabiliriz (NEE!?? 😱) ve buna __list comprehension__ denir"
      ],
      "metadata": {
        "id": "HEUwEsbnDJl9"
      }
    },
    {
      "cell_type": "code",
      "source": [
        "[i for i in range(10)]"
      ],
      "metadata": {
        "colab": {
          "base_uri": "https://localhost:8080/"
        },
        "id": "Ca52RDX-DI4r",
        "outputId": "7a5e0712-1a38-4e5c-b1f8-247052c26fed"
      },
      "execution_count": 2,
      "outputs": [
        {
          "output_type": "execute_result",
          "data": {
            "text/plain": [
              "[0, 1, 2, 3, 4, 5, 6, 7, 8, 9]"
            ]
          },
          "metadata": {},
          "execution_count": 2
        }
      ]
    },
    {
      "cell_type": "markdown",
      "source": [
        "Wohoo! Bu nasıl oldu?\n",
        "\n",
        "Aşağıda aşamalarını gösterelim:\n",
        "\n",
        "\n",
        "1. Orijinal for loop\n",
        "```\n",
        "liste = []\n",
        "for i in range(10):\n",
        "  liste.append(i)\n",
        "```\n",
        "2. Boş listeyi __tanımlamıyor__uz.\n",
        "```\n",
        "for i in range(10):\n",
        "  liste.append(i)\n",
        "```\n",
        "3. append'e gerek yok çünkü zaten eklenecek. Eklemek istediğimiz ifadeyi for'dan __önce__ yazıyoruz.\n",
        "```\n",
        "i for i in range(10):\n",
        "```\n",
        "4. İki noktayı da kaldıralım iki taraftan liste'nin köşeli parantezleriyle çevreleyelim:\n",
        "```\n",
        "[i for i in range(10)]\n",
        "```"
      ],
      "metadata": {
        "id": "y5s7fcmEDYJj"
      }
    },
    {
      "cell_type": "code",
      "source": [
        "[i for i in range(10)]"
      ],
      "metadata": {
        "colab": {
          "base_uri": "https://localhost:8080/"
        },
        "id": "eLrURGInU0Oy",
        "outputId": "2192a095-6f5b-4179-8da7-a3b6a8d3f001"
      },
      "execution_count": 3,
      "outputs": [
        {
          "output_type": "execute_result",
          "data": {
            "text/plain": [
              "[0, 1, 2, 3, 4, 5, 6, 7, 8, 9]"
            ]
          },
          "metadata": {},
          "execution_count": 3
        }
      ]
    },
    {
      "cell_type": "markdown",
      "source": [
        "E bu nefismiş 😎 Başka neler yapabiliriz?"
      ],
      "metadata": {
        "id": "0yR0pxjxEbzu"
      }
    },
    {
      "cell_type": "code",
      "source": [
        "liste = ['çilek' for i in range(5)]\n",
        "liste"
      ],
      "metadata": {
        "colab": {
          "base_uri": "https://localhost:8080/"
        },
        "id": "YTAR_kgUVGof",
        "outputId": "31c13315-1b8f-4bc3-92e0-7763174a1f91"
      },
      "execution_count": 4,
      "outputs": [
        {
          "output_type": "execute_result",
          "data": {
            "text/plain": [
              "['çilek', 'çilek', 'çilek', 'çilek', 'çilek']"
            ]
          },
          "metadata": {},
          "execution_count": 4
        }
      ]
    },
    {
      "cell_type": "code",
      "source": [
        "['çilek' for i in range(5)]"
      ],
      "metadata": {
        "id": "nG7yQNTPEfle",
        "colab": {
          "base_uri": "https://localhost:8080/"
        },
        "outputId": "37ab7c1a-5943-4c4c-d814-987d1066b9d9"
      },
      "execution_count": 5,
      "outputs": [
        {
          "output_type": "execute_result",
          "data": {
            "text/plain": [
              "['çilek', 'çilek', 'çilek', 'çilek', 'çilek']"
            ]
          },
          "metadata": {},
          "execution_count": 5
        }
      ]
    },
    {
      "cell_type": "markdown",
      "source": [
        "100-200 aralığında rastgele 10 sayı içeren bir liste oluşturalım:"
      ],
      "metadata": {
        "id": "fG6at1ngiobP"
      }
    },
    {
      "cell_type": "code",
      "source": [
        "import random\n",
        "[random.randint(100,200) for i in range(10)]"
      ],
      "metadata": {
        "colab": {
          "base_uri": "https://localhost:8080/"
        },
        "id": "CAafkyxGDXlT",
        "outputId": "e87777f7-9044-4bf6-93a4-9b2a879effca"
      },
      "execution_count": 6,
      "outputs": [
        {
          "output_type": "execute_result",
          "data": {
            "text/plain": [
              "[158, 170, 181, 160, 175, 184, 125, 196, 186, 139]"
            ]
          },
          "metadata": {},
          "execution_count": 6
        }
      ]
    },
    {
      "cell_type": "code",
      "source": [
        "def fonksiyon(x):\n",
        "  if x > 10:\n",
        "    return \"10'dan büyük\"\n",
        "  elif x > 5:\n",
        "    return \"10'dan küçük-eşit 5'ten büyük\"\n",
        "  else:\n",
        "    return \"5'ten küçük-eşit\""
      ],
      "metadata": {
        "id": "EWel2y2PiDeT"
      },
      "execution_count": 7,
      "outputs": []
    },
    {
      "cell_type": "code",
      "source": [
        "[fonksiyon(i) for i in range(15)]"
      ],
      "metadata": {
        "colab": {
          "base_uri": "https://localhost:8080/"
        },
        "id": "8Ayej2RmiQO-",
        "outputId": "55e8b02f-19fb-4021-e289-70aa2b283c4e"
      },
      "execution_count": 8,
      "outputs": [
        {
          "output_type": "execute_result",
          "data": {
            "text/plain": [
              "[\"5'ten küçük-eşit\",\n",
              " \"5'ten küçük-eşit\",\n",
              " \"5'ten küçük-eşit\",\n",
              " \"5'ten küçük-eşit\",\n",
              " \"5'ten küçük-eşit\",\n",
              " \"5'ten küçük-eşit\",\n",
              " \"10'dan küçük-eşit 5'ten büyük\",\n",
              " \"10'dan küçük-eşit 5'ten büyük\",\n",
              " \"10'dan küçük-eşit 5'ten büyük\",\n",
              " \"10'dan küçük-eşit 5'ten büyük\",\n",
              " \"10'dan küçük-eşit 5'ten büyük\",\n",
              " \"10'dan büyük\",\n",
              " \"10'dan büyük\",\n",
              " \"10'dan büyük\",\n",
              " \"10'dan büyük\"]"
            ]
          },
          "metadata": {},
          "execution_count": 8
        }
      ]
    },
    {
      "cell_type": "markdown",
      "source": [
        "## 2) Tek Satırda if-else\n",
        "E yok artık 😦"
      ],
      "metadata": {
        "id": "Hx7AEdmWEuR6"
      }
    },
    {
      "cell_type": "code",
      "source": [
        "sayı = 10\n",
        "\n",
        "if sayı % 2 == 0:\n",
        "  x = 'çift'\n",
        "else:\n",
        "  x = 'tek'\n",
        "\n",
        "print(x)"
      ],
      "metadata": {
        "colab": {
          "base_uri": "https://localhost:8080/"
        },
        "id": "5lUFqY_FEwEC",
        "outputId": "69619fba-f0c6-43d4-eb22-8950878b7a43"
      },
      "execution_count": 9,
      "outputs": [
        {
          "output_type": "stream",
          "name": "stdout",
          "text": [
            "çift\n"
          ]
        }
      ]
    },
    {
      "cell_type": "code",
      "source": [
        "x = 'çift' if 5 % 2 == 0 else 'tek'\n",
        "\n",
        "print(x)"
      ],
      "metadata": {
        "colab": {
          "base_uri": "https://localhost:8080/"
        },
        "id": "eTmZ3_qJWPR5",
        "outputId": "9c6fcdb4-8bc3-4919-9e57-7be056528d0b"
      },
      "execution_count": 10,
      "outputs": [
        {
          "output_type": "stream",
          "name": "stdout",
          "text": [
            "tek\n"
          ]
        }
      ]
    },
    {
      "cell_type": "code",
      "source": [
        "sayı = 10\n",
        "\n",
        "x = 'çift' if sayı % 2 == 0 else 'tek'\n",
        "\n",
        "print(x)"
      ],
      "metadata": {
        "colab": {
          "base_uri": "https://localhost:8080/"
        },
        "id": "gzZG3XElZfB2",
        "outputId": "0136d405-d19c-4cfa-85e5-7daedccf7a6b"
      },
      "execution_count": 11,
      "outputs": [
        {
          "output_type": "stream",
          "name": "stdout",
          "text": [
            "çift\n"
          ]
        }
      ]
    },
    {
      "cell_type": "markdown",
      "source": [
        "Bunu da nasıl yaptığımızı da yine adım adım parçalayalım:\n",
        "\n",
        "```\n",
        "if sayı % 2 == 0:\n",
        "  x = 'çift'\n",
        "else:\n",
        "  x = 'tek'\n",
        "```\n",
        "1. if'in cevabını if'ten __önce__ yazıyoruz, else'in cevabını else'ten __sonra__ yazıyoruz:\n",
        "\n",
        "```\n",
        "'çift' if sayı % 2 == 0:\n",
        "\n",
        "else: 'tek'\n",
        "```\n",
        "2. İki noktaları kaldıralım, else kısmını if'in şartından __sonra__ yazalım:\n",
        "\n",
        "```\n",
        "'çift' if sayı % 2 == 0 else 'tek'\n",
        "```\n",
        "\n",
        "3. Bu çıkan değeri atayacağımız değişkeni en başa yazıyoruz:\n",
        "\n",
        "```\n",
        "x = 'çift' if sayı % 2 == 0 else 'tek'\n",
        "```\n",
        "\n",
        "Şöyle demiş olduk: x çifttir eğer sayı 2'ye tam bölünüyorsa, bölünmüyorsa tektir."
      ],
      "metadata": {
        "id": "BiyypIJZF1cl"
      }
    },
    {
      "cell_type": "markdown",
      "source": [
        "## 3) Tek Satırda if-else'li For Döngüsü!"
      ],
      "metadata": {
        "id": "g9jWwMd-GI_P"
      }
    },
    {
      "cell_type": "markdown",
      "source": [
        "Daha neler 🤯"
      ],
      "metadata": {
        "id": "odhO9NXjq_Z-"
      }
    },
    {
      "cell_type": "markdown",
      "source": [
        "Sadece if'li"
      ],
      "metadata": {
        "id": "GKuvcn3hGWl6"
      }
    },
    {
      "cell_type": "code",
      "source": [
        "[sayı for sayı in range(10) if sayı % 2 == 0]"
      ],
      "metadata": {
        "colab": {
          "base_uri": "https://localhost:8080/"
        },
        "id": "_4DCAuo8GQH6",
        "outputId": "34f1a96f-d4ef-480e-9e86-635c844409cb"
      },
      "execution_count": 12,
      "outputs": [
        {
          "output_type": "execute_result",
          "data": {
            "text/plain": [
              "[0, 2, 4, 6, 8]"
            ]
          },
          "metadata": {},
          "execution_count": 12
        }
      ]
    },
    {
      "cell_type": "markdown",
      "source": [
        "if else'li"
      ],
      "metadata": {
        "id": "WtxCYbDWGYPV"
      }
    },
    {
      "cell_type": "code",
      "source": [
        "[i if i % 2 == 0 else 'TEK' for i in range(10)]"
      ],
      "metadata": {
        "colab": {
          "base_uri": "https://localhost:8080/"
        },
        "id": "cbr7dhh7WtOl",
        "outputId": "6a4fae8b-5bf5-4a45-9d5f-e9578af7bc5e"
      },
      "execution_count": 13,
      "outputs": [
        {
          "output_type": "execute_result",
          "data": {
            "text/plain": [
              "[0, 'TEK', 2, 'TEK', 4, 'TEK', 6, 'TEK', 8, 'TEK']"
            ]
          },
          "metadata": {},
          "execution_count": 13
        }
      ]
    },
    {
      "cell_type": "code",
      "source": [
        "[sayı if sayı % 2 == 0 else 'tek' for sayı in range(10)]"
      ],
      "metadata": {
        "id": "-NQ1bfO0GTFf",
        "colab": {
          "base_uri": "https://localhost:8080/"
        },
        "outputId": "ef5822ff-cbd1-4daf-e36a-aba790f7462d"
      },
      "execution_count": 14,
      "outputs": [
        {
          "output_type": "execute_result",
          "data": {
            "text/plain": [
              "[0, 'tek', 2, 'tek', 4, 'tek', 6, 'tek', 8, 'tek']"
            ]
          },
          "metadata": {},
          "execution_count": 14
        }
      ]
    },
    {
      "cell_type": "code",
      "source": [
        "isimler = ['ahmet','ayşe','zeynep','ali']\n",
        "\n",
        "hitap_isimler = [\"Sayın \" + isim.capitalize() if isim[0] == 'a' else isim.upper() for isim in isimler ]\n",
        "hitap_isimler"
      ],
      "metadata": {
        "colab": {
          "base_uri": "https://localhost:8080/"
        },
        "id": "9nLTOMQiXI0l",
        "outputId": "8c5a8c3c-d4ee-4c4d-8847-1914461f15ee"
      },
      "execution_count": 15,
      "outputs": [
        {
          "output_type": "execute_result",
          "data": {
            "text/plain": [
              "['Sayın Ahmet', 'Sayın Ayşe', 'ZEYNEP', 'Sayın Ali']"
            ]
          },
          "metadata": {},
          "execution_count": 15
        }
      ]
    },
    {
      "cell_type": "markdown",
      "source": [
        "İkisinin arasındaki fark şu:\n",
        "- Sadece if kullanacaksak if'i ve şartını __en sona__ yazıyoruz.\n",
        "- Hem if hem else kullanacaksak, aynı tek satırda if else yazdığımız gibi yazıyoruz."
      ],
      "metadata": {
        "id": "IG2SJtPIqmIu"
      }
    },
    {
      "cell_type": "markdown",
      "source": [
        "## 4) Tek Satırda Sözlük ve Küme Oluşturma"
      ],
      "metadata": {
        "id": "x_JuPUxTK9lM"
      }
    },
    {
      "cell_type": "code",
      "source": [
        "# Klasik tarz\n",
        "sözlük = {}\n",
        "ürünler = ['kazak','şapka','atkı']\n",
        "fiyatlar = [350, 120, 95]\n",
        "\n",
        "for index in range(len(ürünler)): # 0. 1. 2.\n",
        "  sözlük[ürünler[index]] = fiyatlar[index]\n",
        "sözlük"
      ],
      "metadata": {
        "id": "9jU5F7caK907",
        "colab": {
          "base_uri": "https://localhost:8080/"
        },
        "outputId": "c55f4c6f-df5f-46b0-d580-b13896083ffd"
      },
      "execution_count": 21,
      "outputs": [
        {
          "output_type": "execute_result",
          "data": {
            "text/plain": [
              "{'kazak': 350, 'şapka': 120, 'atkı': 95}"
            ]
          },
          "metadata": {},
          "execution_count": 21
        }
      ]
    },
    {
      "cell_type": "code",
      "source": [
        "# Şahane tarz\n",
        "{ürünler[index]: fiyatlar[index] for index in range(len(ürünler))}"
      ],
      "metadata": {
        "id": "edvLuOMZK9Op",
        "colab": {
          "base_uri": "https://localhost:8080/"
        },
        "outputId": "464a7ebc-ee9a-472e-d062-334c4120fbcd"
      },
      "execution_count": 23,
      "outputs": [
        {
          "output_type": "execute_result",
          "data": {
            "text/plain": [
              "{'kazak': 350, 'şapka': 120, 'atkı': 95}"
            ]
          },
          "metadata": {},
          "execution_count": 23
        }
      ]
    },
    {
      "cell_type": "code",
      "source": [
        "# Fevkalade tarz \n",
        "{ürün: fiyat for ürün, fiyat in zip(ürünler, fiyatlar)}"
      ],
      "metadata": {
        "colab": {
          "base_uri": "https://localhost:8080/"
        },
        "id": "09TShm_PdCwc",
        "outputId": "1ef81443-6419-48f8-be09-dde1c51a8671"
      },
      "execution_count": 24,
      "outputs": [
        {
          "output_type": "execute_result",
          "data": {
            "text/plain": [
              "{'kazak': 350, 'şapka': 120, 'atkı': 95}"
            ]
          },
          "metadata": {},
          "execution_count": 24
        }
      ]
    },
    {
      "cell_type": "markdown",
      "source": [
        "Tek satırda küme"
      ],
      "metadata": {
        "id": "LCvDsLJfNils"
      }
    },
    {
      "cell_type": "code",
      "source": [
        "ürünler = ['kazak','şapka','atkı','kazak','şapka','şal','kemer','kazak']\n",
        "ürün_elemanları = {ürün for ürün in ürünler}\n",
        "ürün_elemanları"
      ],
      "metadata": {
        "colab": {
          "base_uri": "https://localhost:8080/"
        },
        "id": "dV4XUuNWNU0J",
        "outputId": "f491b65c-cfca-4e5b-9555-9d0cff79d28c"
      },
      "execution_count": 25,
      "outputs": [
        {
          "output_type": "execute_result",
          "data": {
            "text/plain": [
              "{'atkı', 'kazak', 'kemer', 'şal', 'şapka'}"
            ]
          },
          "metadata": {},
          "execution_count": 25
        }
      ]
    },
    {
      "cell_type": "markdown",
      "source": [
        "## 5) Birkaç Listeyi Tek Döngüde Kullanma"
      ],
      "metadata": {
        "id": "OtVFLfuyMng-"
      }
    },
    {
      "cell_type": "code",
      "source": [
        "# liste -> []\n",
        "# tuple -> ()\n",
        "# dict, set -> {}"
      ],
      "metadata": {
        "id": "0i3od6-HbaEe"
      },
      "execution_count": 26,
      "outputs": []
    },
    {
      "cell_type": "code",
      "source": [
        "x = 'kazak', 350\n",
        "type(x)"
      ],
      "metadata": {
        "colab": {
          "base_uri": "https://localhost:8080/"
        },
        "id": "fEG6SqvebOzR",
        "outputId": "173d41ab-8d5d-4f17-f781-b36a63a02db8"
      },
      "execution_count": 27,
      "outputs": [
        {
          "output_type": "execute_result",
          "data": {
            "text/plain": [
              "tuple"
            ]
          },
          "metadata": {},
          "execution_count": 27
        }
      ]
    },
    {
      "cell_type": "code",
      "source": [
        "# tuple unpacking\n",
        "ürün, fiyat = 'kazak', 350\n",
        "print(ürün)\n",
        "print(fiyat)"
      ],
      "metadata": {
        "colab": {
          "base_uri": "https://localhost:8080/"
        },
        "id": "BDFtMCKlbbM8",
        "outputId": "a90f5219-8b8a-40f4-ead9-b2a548bcfff3"
      },
      "execution_count": 28,
      "outputs": [
        {
          "output_type": "stream",
          "name": "stdout",
          "text": [
            "kazak\n",
            "350\n"
          ]
        }
      ]
    },
    {
      "cell_type": "code",
      "source": [
        "def fonksiyon(x):\n",
        "  return x, x**2\n",
        "  \n",
        "sayı, sayının_karesi = fonksiyon(3)\n",
        "print(sayı)\n",
        "print(sayının_karesi)"
      ],
      "metadata": {
        "colab": {
          "base_uri": "https://localhost:8080/"
        },
        "id": "3XGue70RbzTL",
        "outputId": "adad0809-a652-4da6-e672-d9f35d174259"
      },
      "execution_count": 29,
      "outputs": [
        {
          "output_type": "stream",
          "name": "stdout",
          "text": [
            "3\n",
            "9\n"
          ]
        }
      ]
    },
    {
      "cell_type": "code",
      "source": [
        "def fonksiyon(x):\n",
        "  return x, x**2\n",
        "  \n",
        "sayı, sayının_karesi = fonksiyon(5)\n",
        "print(sayı)\n",
        "print(sayının_karesi)"
      ],
      "metadata": {
        "id": "SSLDJnXTbidR",
        "colab": {
          "base_uri": "https://localhost:8080/"
        },
        "outputId": "2d8b1680-6430-4c70-f3a1-267b88c6a9b0"
      },
      "execution_count": 30,
      "outputs": [
        {
          "output_type": "stream",
          "name": "stdout",
          "text": [
            "5\n",
            "25\n"
          ]
        }
      ]
    },
    {
      "cell_type": "code",
      "source": [
        "ürünler = ['kazak','şapka','atkı']\n",
        "fiyatlar = [350, 120, 95]\n",
        "\n",
        "list(zip(ürünler, fiyatlar))"
      ],
      "metadata": {
        "colab": {
          "base_uri": "https://localhost:8080/"
        },
        "id": "XZkUpeRYccie",
        "outputId": "a581440d-413b-4b57-8bdc-03a9e3498f3b"
      },
      "execution_count": 31,
      "outputs": [
        {
          "output_type": "execute_result",
          "data": {
            "text/plain": [
              "[('kazak', 350), ('şapka', 120), ('atkı', 95)]"
            ]
          },
          "metadata": {},
          "execution_count": 31
        }
      ]
    },
    {
      "cell_type": "code",
      "source": [
        "ürünler = ['kazak','şapka','atkı']\n",
        "fiyatlar = [350, 120, 95]\n",
        "for x in zip(ürünler, fiyatlar):\n",
        "  print(x)"
      ],
      "metadata": {
        "colab": {
          "base_uri": "https://localhost:8080/"
        },
        "id": "p1g_ymitN6al",
        "outputId": "3e6170ae-93df-4ecb-e7e2-b037eae81df4"
      },
      "execution_count": 34,
      "outputs": [
        {
          "output_type": "stream",
          "name": "stdout",
          "text": [
            "('kazak', 350)\n",
            "('şapka', 120)\n",
            "('atkı', 95)\n"
          ]
        }
      ]
    },
    {
      "cell_type": "code",
      "source": [
        "ürünler = ['kazak','şapka','atkı']\n",
        "fiyatlar = [350, 120, 95]\n",
        "\n",
        "for ürün, fiyat in zip(ürünler, fiyatlar):\n",
        "  print(f\"{ürün} sadece {fiyat} TL!\")"
      ],
      "metadata": {
        "colab": {
          "base_uri": "https://localhost:8080/"
        },
        "id": "83FHtI74crnO",
        "outputId": "07b7b098-02ea-44d3-a1cf-e8ad0f3d98e9"
      },
      "execution_count": 32,
      "outputs": [
        {
          "output_type": "stream",
          "name": "stdout",
          "text": [
            "kazak sadece 350 TL!\n",
            "şapka sadece 120 TL!\n",
            "atkı sadece 95 TL!\n"
          ]
        }
      ]
    },
    {
      "cell_type": "code",
      "source": [
        "{ürün:fiyat for ürün,fiyat in zip(ürünler, fiyatlar)}"
      ],
      "metadata": {
        "id": "pUdNq7sjMrat",
        "colab": {
          "base_uri": "https://localhost:8080/"
        },
        "outputId": "e42d96ad-2dc3-4d80-9eea-874b837f52f5"
      },
      "execution_count": 35,
      "outputs": [
        {
          "output_type": "execute_result",
          "data": {
            "text/plain": [
              "{'kazak': 350, 'şapka': 120, 'atkı': 95}"
            ]
          },
          "metadata": {},
          "execution_count": 35
        }
      ]
    },
    {
      "cell_type": "code",
      "source": [
        "fiyatlar1 = [20,25,30]\n",
        "fiyatlar2 = [50,35,120]\n",
        "fiyatlar3 = [70,10,50]\n",
        "\n",
        "toplam = [fiyat3+fiyat2+fiyat1 for fiyat1, fiyat2, fiyat3 in zip(fiyatlar1, fiyatlar2, fiyatlar3)]\n",
        "\n",
        "toplam "
      ],
      "metadata": {
        "colab": {
          "base_uri": "https://localhost:8080/"
        },
        "id": "0BIYIkO7cvES",
        "outputId": "2485932b-5604-4b2d-bbf8-beafe5555a9e"
      },
      "execution_count": 36,
      "outputs": [
        {
          "output_type": "execute_result",
          "data": {
            "text/plain": [
              "[140, 70, 200]"
            ]
          },
          "metadata": {},
          "execution_count": 36
        }
      ]
    },
    {
      "cell_type": "markdown",
      "source": [
        "## 6) Bir Döngüde Hem Listedeki Elemanları Hem İndexlerini Kullanma"
      ],
      "metadata": {
        "id": "LSnNRFW5Mr_-"
      }
    },
    {
      "cell_type": "code",
      "source": [
        "# Klasik Yol\n",
        "sözlük = {}\n",
        "ürünler = ['kazak','şapka','atkı']\n",
        "fiyatlar = [350, 120, 95]\n",
        "\n",
        "for index in range(len(ürünler)):\n",
        "  print(f\"{ürünler[index]} sadece {fiyatlar[index]} TL!\")"
      ],
      "metadata": {
        "id": "753MYUFsMzqr",
        "colab": {
          "base_uri": "https://localhost:8080/"
        },
        "outputId": "bea7a60c-f99f-497c-8936-edcd5ea28a6d"
      },
      "execution_count": 37,
      "outputs": [
        {
          "output_type": "stream",
          "name": "stdout",
          "text": [
            "kazak sadece 350 TL!\n",
            "şapka sadece 120 TL!\n",
            "atkı sadece 95 TL!\n"
          ]
        }
      ]
    },
    {
      "cell_type": "code",
      "source": [
        "for index in range(len(ürünler)):\n",
        "  print(index, ürünler[index])"
      ],
      "metadata": {
        "id": "fiscGOV8eLCw",
        "colab": {
          "base_uri": "https://localhost:8080/"
        },
        "outputId": "82319dbf-9032-4ca1-bc66-6f1cd16a18c1"
      },
      "execution_count": 38,
      "outputs": [
        {
          "output_type": "stream",
          "name": "stdout",
          "text": [
            "0 kazak\n",
            "1 şapka\n",
            "2 atkı\n"
          ]
        }
      ]
    },
    {
      "cell_type": "code",
      "source": [
        "# Harika Yol: enumerate\n",
        "sözlük = {}\n",
        "ürünler = ['kazak','şapka','atkı']\n",
        "fiyatlar = [350, 120, 95]\n",
        "\n",
        "for x in enumerate(ürünler):\n",
        "  print(x)"
      ],
      "metadata": {
        "colab": {
          "base_uri": "https://localhost:8080/"
        },
        "id": "PzkMLkzLeG5K",
        "outputId": "fe0b30f0-7295-4a2b-cb22-31c85d5ed1ba"
      },
      "execution_count": 39,
      "outputs": [
        {
          "output_type": "stream",
          "name": "stdout",
          "text": [
            "(0, 'kazak')\n",
            "(1, 'şapka')\n",
            "(2, 'atkı')\n"
          ]
        }
      ]
    },
    {
      "cell_type": "code",
      "source": [
        "sözlük = {}\n",
        "ürünler = ['kazak','şapka','atkı']\n",
        "fiyatlar = [350, 120, 95]\n",
        "\n",
        "for index, ürün in enumerate(ürünler):\n",
        "  print(f\"{index+1}. {ürün}\")"
      ],
      "metadata": {
        "colab": {
          "base_uri": "https://localhost:8080/"
        },
        "id": "mfmYPyAyeopS",
        "outputId": "821881dc-2a8e-4240-a393-15be5e76eb28"
      },
      "execution_count": 40,
      "outputs": [
        {
          "output_type": "stream",
          "name": "stdout",
          "text": [
            "1. kazak\n",
            "2. şapka\n",
            "3. atkı\n"
          ]
        }
      ]
    },
    {
      "cell_type": "code",
      "source": [
        "sözlük = {}\n",
        "ürünler = ['kazak','şapka','atkı']\n",
        "fiyatlar = [350, 120, 95]\n",
        "\n",
        "for index, ürün in enumerate(ürünler):\n",
        "  print(f\"{ürün} sadece {fiyatlar[index]} TL!\")"
      ],
      "metadata": {
        "id": "h9XTNxvkMzoQ",
        "colab": {
          "base_uri": "https://localhost:8080/"
        },
        "outputId": "14958cf6-b0c9-402a-89c7-247df71f9230"
      },
      "execution_count": 41,
      "outputs": [
        {
          "output_type": "stream",
          "name": "stdout",
          "text": [
            "kazak sadece 350 TL!\n",
            "şapka sadece 120 TL!\n",
            "atkı sadece 95 TL!\n"
          ]
        }
      ]
    },
    {
      "cell_type": "markdown",
      "source": [
        "## 7) Tek Satırda Fonksiyon: Lambda\n",
        "\n",
        "Ya da amiyane tabirle \"kullan at\" fonksiyon \n",
        "\n",
        "Ya da terimsel tabirle __lambda__ fonksiyonları (isimsiz fonksiyonlar)"
      ],
      "metadata": {
        "id": "5KYE2eWPGfQC"
      }
    },
    {
      "cell_type": "code",
      "source": [
        "def fonksiyon(kelime):\n",
        "  return kelime[0]"
      ],
      "metadata": {
        "id": "nQJBchiXGiHZ"
      },
      "execution_count": 43,
      "outputs": []
    },
    {
      "cell_type": "code",
      "source": [
        "fonksiyon('araba')"
      ],
      "metadata": {
        "colab": {
          "base_uri": "https://localhost:8080/",
          "height": 35
        },
        "id": "dMrjJoReGvA8",
        "outputId": "b4e0912c-a420-4ea4-e995-b501fd8b013b"
      },
      "execution_count": 44,
      "outputs": [
        {
          "output_type": "execute_result",
          "data": {
            "text/plain": [
              "'a'"
            ],
            "application/vnd.google.colaboratory.intrinsic+json": {
              "type": "string"
            }
          },
          "metadata": {},
          "execution_count": 44
        }
      ]
    },
    {
      "cell_type": "code",
      "source": [
        "fonksiyon"
      ],
      "metadata": {
        "colab": {
          "base_uri": "https://localhost:8080/"
        },
        "id": "jcx8w8YFf8lw",
        "outputId": "17d6c247-daf2-4470-c8c2-213043f2e70d"
      },
      "execution_count": 45,
      "outputs": [
        {
          "output_type": "execute_result",
          "data": {
            "text/plain": [
              "<function __main__.fonksiyon(kelime)>"
            ]
          },
          "metadata": {},
          "execution_count": 45
        }
      ]
    },
    {
      "cell_type": "code",
      "source": [
        "topla = lambda x,y: x+y\n",
        "\n",
        "topla(2,3)"
      ],
      "metadata": {
        "colab": {
          "base_uri": "https://localhost:8080/"
        },
        "id": "xEASsoybf2V4",
        "outputId": "eac795e2-ee03-4b6f-ca1a-5292cd76e9ed"
      },
      "execution_count": 46,
      "outputs": [
        {
          "output_type": "execute_result",
          "data": {
            "text/plain": [
              "5"
            ]
          },
          "metadata": {},
          "execution_count": 46
        }
      ]
    },
    {
      "cell_type": "code",
      "source": [
        "(lambda kelime: kelime[0])('araba')"
      ],
      "metadata": {
        "colab": {
          "base_uri": "https://localhost:8080/",
          "height": 35
        },
        "id": "4fF1sYu3fp5P",
        "outputId": "bdb815e9-ac78-4a4a-d0a4-92f2c89b5fbb"
      },
      "execution_count": 47,
      "outputs": [
        {
          "output_type": "execute_result",
          "data": {
            "text/plain": [
              "'a'"
            ],
            "application/vnd.google.colaboratory.intrinsic+json": {
              "type": "string"
            }
          },
          "metadata": {},
          "execution_count": 47
        }
      ]
    },
    {
      "cell_type": "code",
      "source": [
        "fonksiyon = lambda x: x[0]\n",
        "fonksiyon('araba')"
      ],
      "metadata": {
        "id": "CCmyP8ABf_jU",
        "colab": {
          "base_uri": "https://localhost:8080/",
          "height": 35
        },
        "outputId": "56f90bbe-9df3-43b2-85dd-b2ce849dc4fb"
      },
      "execution_count": 48,
      "outputs": [
        {
          "output_type": "execute_result",
          "data": {
            "text/plain": [
              "'a'"
            ],
            "application/vnd.google.colaboratory.intrinsic+json": {
              "type": "string"
            }
          },
          "metadata": {},
          "execution_count": 48
        }
      ]
    },
    {
      "cell_type": "code",
      "source": [
        "(lambda x: x[0])('araba')"
      ],
      "metadata": {
        "id": "Dc_JzYfAGwGK",
        "colab": {
          "base_uri": "https://localhost:8080/",
          "height": 35
        },
        "outputId": "80fe703a-b864-474a-b1cb-391d81f383e2"
      },
      "execution_count": 49,
      "outputs": [
        {
          "output_type": "execute_result",
          "data": {
            "text/plain": [
              "'a'"
            ],
            "application/vnd.google.colaboratory.intrinsic+json": {
              "type": "string"
            }
          },
          "metadata": {},
          "execution_count": 49
        }
      ]
    },
    {
      "cell_type": "code",
      "source": [
        "ikiyle_carp = lambda x: x*2"
      ],
      "metadata": {
        "id": "l3R2lso3Gzth"
      },
      "execution_count": 50,
      "outputs": []
    },
    {
      "cell_type": "code",
      "source": [
        "ikiyle_carp(5)"
      ],
      "metadata": {
        "id": "6hxalxm3HJpz",
        "colab": {
          "base_uri": "https://localhost:8080/"
        },
        "outputId": "d299345f-4ccb-48ca-db06-9de0f385cf2c"
      },
      "execution_count": 51,
      "outputs": [
        {
          "output_type": "execute_result",
          "data": {
            "text/plain": [
              "10"
            ]
          },
          "metadata": {},
          "execution_count": 51
        }
      ]
    },
    {
      "cell_type": "markdown",
      "source": [
        "Tabii ki birden fazla parametre de alabilir:"
      ],
      "metadata": {
        "id": "9M6ItMA0HNyG"
      }
    },
    {
      "cell_type": "code",
      "source": [
        "toplama = lambda x,y: x + y"
      ],
      "metadata": {
        "id": "m7eFxsJyHKox"
      },
      "execution_count": 52,
      "outputs": []
    },
    {
      "cell_type": "code",
      "source": [
        "toplama(2,5)"
      ],
      "metadata": {
        "id": "msL1EU1AHTzq",
        "colab": {
          "base_uri": "https://localhost:8080/"
        },
        "outputId": "5a2f73cb-a584-4254-a500-eea28e10c5ca"
      },
      "execution_count": 53,
      "outputs": [
        {
          "output_type": "execute_result",
          "data": {
            "text/plain": [
              "7"
            ]
          },
          "metadata": {},
          "execution_count": 53
        }
      ]
    },
    {
      "cell_type": "markdown",
      "source": [
        "## 8) Lambda Fonksiyonlarının Kullanımı"
      ],
      "metadata": {
        "id": "OENHzlIrIt3v"
      }
    },
    {
      "cell_type": "markdown",
      "source": [
        "### \"key\" parametresi"
      ],
      "metadata": {
        "id": "g-v5s8RMJCbM"
      }
    },
    {
      "cell_type": "code",
      "source": [
        "sorted([1,5,3,12,2], reverse=True)"
      ],
      "metadata": {
        "colab": {
          "base_uri": "https://localhost:8080/"
        },
        "id": "z1mMbCFzgQHu",
        "outputId": "d35dfa02-4715-48eb-e462-1025b85a96fa"
      },
      "execution_count": 54,
      "outputs": [
        {
          "output_type": "execute_result",
          "data": {
            "text/plain": [
              "[12, 5, 3, 2, 1]"
            ]
          },
          "metadata": {},
          "execution_count": 54
        }
      ]
    },
    {
      "cell_type": "code",
      "source": [
        "meyveler_fiyatlar = [('elma',5), ('ananas',24), ('kiraz',19)]\n",
        "sorted(meyveler_fiyatlar)"
      ],
      "metadata": {
        "colab": {
          "base_uri": "https://localhost:8080/"
        },
        "id": "Ck0Wz3FQJCQy",
        "outputId": "b445a5ba-4bc5-45c5-ed90-0ffa87f2bd0a"
      },
      "execution_count": 55,
      "outputs": [
        {
          "output_type": "execute_result",
          "data": {
            "text/plain": [
              "[('ananas', 24), ('elma', 5), ('kiraz', 19)]"
            ]
          },
          "metadata": {},
          "execution_count": 55
        }
      ]
    },
    {
      "cell_type": "code",
      "source": [
        "def fiyat_veren_fonk(eleman):\n",
        "  return eleman[1]\n",
        "\n",
        "sorted(meyveler_fiyatlar, key=fiyat_veren_fonk)"
      ],
      "metadata": {
        "colab": {
          "base_uri": "https://localhost:8080/"
        },
        "id": "O11PuvMJJCOt",
        "outputId": "efff5da5-78b6-4174-bbf6-a9fcc7a7a056"
      },
      "execution_count": 56,
      "outputs": [
        {
          "output_type": "execute_result",
          "data": {
            "text/plain": [
              "[('elma', 5), ('kiraz', 19), ('ananas', 24)]"
            ]
          },
          "metadata": {},
          "execution_count": 56
        }
      ]
    },
    {
      "cell_type": "code",
      "source": [
        "sorted(meyveler_fiyatlar, key=lambda x: x[1])"
      ],
      "metadata": {
        "colab": {
          "base_uri": "https://localhost:8080/"
        },
        "id": "WKfZCbp2g8Y0",
        "outputId": "ef45f9ea-2f38-4bb6-c1cb-d2742eb76545"
      },
      "execution_count": 57,
      "outputs": [
        {
          "output_type": "execute_result",
          "data": {
            "text/plain": [
              "[('elma', 5), ('kiraz', 19), ('ananas', 24)]"
            ]
          },
          "metadata": {},
          "execution_count": 57
        }
      ]
    },
    {
      "cell_type": "code",
      "source": [
        "sorted(meyveler_fiyatlar, key=lambda x: x[1], reverse=True)"
      ],
      "metadata": {
        "colab": {
          "base_uri": "https://localhost:8080/"
        },
        "id": "ZHAC926EKqAH",
        "outputId": "bf312b7f-65e2-4a2d-9b4c-e8dbfd09b876"
      },
      "execution_count": 58,
      "outputs": [
        {
          "output_type": "execute_result",
          "data": {
            "text/plain": [
              "[('ananas', 24), ('kiraz', 19), ('elma', 5)]"
            ]
          },
          "metadata": {},
          "execution_count": 58
        }
      ]
    },
    {
      "cell_type": "markdown",
      "source": [
        "### map()\n"
      ],
      "metadata": {
        "id": "0D5xA-u6I1b-"
      }
    },
    {
      "cell_type": "markdown",
      "source": [
        "Tüm listeye bir fonksiyonu uygulamak istiyorsak map()'i kullanabiliriz:"
      ],
      "metadata": {
        "id": "69tLFpmokt85"
      }
    },
    {
      "cell_type": "code",
      "source": [
        "meyveler = ['elma', 'çilek', 'kiraz']\n",
        "map(lambda x: x.upper(), meyveler)"
      ],
      "metadata": {
        "colab": {
          "base_uri": "https://localhost:8080/"
        },
        "id": "aWOZupfGIyYH",
        "outputId": "34783968-0cc3-4cb2-f9ab-471dff0cd0ca"
      },
      "execution_count": 59,
      "outputs": [
        {
          "output_type": "execute_result",
          "data": {
            "text/plain": [
              "<map at 0x7f56f39ef750>"
            ]
          },
          "metadata": {},
          "execution_count": 59
        }
      ]
    },
    {
      "cell_type": "code",
      "source": [
        "list(map(lambda x: x.upper(), meyveler))"
      ],
      "metadata": {
        "colab": {
          "base_uri": "https://localhost:8080/"
        },
        "id": "LG5qitlGIyV4",
        "outputId": "4e1c96c8-4b4e-45cc-cb29-7a5e67c84391"
      },
      "execution_count": 60,
      "outputs": [
        {
          "output_type": "execute_result",
          "data": {
            "text/plain": [
              "['ELMA', 'ÇILEK', 'KIRAZ']"
            ]
          },
          "metadata": {},
          "execution_count": 60
        }
      ]
    },
    {
      "cell_type": "code",
      "source": [
        "# Daha önce öğrendiğimiz tek satırda liste yazma (list comprehension) ile de yapılabilir\n",
        "liste = ['elma', 'çilek', 'kiraz']\n",
        "[meyve.upper() for meyve in liste if len(meyve) > 4]"
      ],
      "metadata": {
        "id": "P5ODXiTGJpyZ",
        "colab": {
          "base_uri": "https://localhost:8080/"
        },
        "outputId": "bd4a8b22-98ff-4add-b26b-057313b6af1e"
      },
      "execution_count": 61,
      "outputs": [
        {
          "output_type": "execute_result",
          "data": {
            "text/plain": [
              "['ÇILEK', 'KIRAZ']"
            ]
          },
          "metadata": {},
          "execution_count": 61
        }
      ]
    },
    {
      "cell_type": "markdown",
      "source": [
        "### filter()"
      ],
      "metadata": {
        "id": "9EkR5FZuI5b7"
      }
    },
    {
      "cell_type": "markdown",
      "source": [
        "Listeyi belirli bir fonksiyona göre filtrelemek istiyorsak filter()'ı kullanabiliriz:"
      ],
      "metadata": {
        "id": "F-SS4iYhkxgO"
      }
    },
    {
      "cell_type": "code",
      "source": [
        "filter(lambda x: x % 2 == 0, range(10))"
      ],
      "metadata": {
        "colab": {
          "base_uri": "https://localhost:8080/"
        },
        "id": "hYAnRkrmI5Lu",
        "outputId": "b156ab1f-9949-4619-9ad4-b57e2bbd04a9"
      },
      "execution_count": 62,
      "outputs": [
        {
          "output_type": "execute_result",
          "data": {
            "text/plain": [
              "<filter at 0x7f56f7c49f90>"
            ]
          },
          "metadata": {},
          "execution_count": 62
        }
      ]
    },
    {
      "cell_type": "code",
      "source": [
        "list(filter(lambda x: x % 2 == 0, range(10)))"
      ],
      "metadata": {
        "colab": {
          "base_uri": "https://localhost:8080/"
        },
        "id": "dMvnKgMCI5I7",
        "outputId": "c7ab77a4-5012-43c5-dfcc-360ab4af913a"
      },
      "execution_count": 63,
      "outputs": [
        {
          "output_type": "execute_result",
          "data": {
            "text/plain": [
              "[0, 2, 4, 6, 8]"
            ]
          },
          "metadata": {},
          "execution_count": 63
        }
      ]
    },
    {
      "cell_type": "code",
      "source": [
        "[sayı for sayı in range(10) if sayı % 2 == 0]"
      ],
      "metadata": {
        "colab": {
          "base_uri": "https://localhost:8080/"
        },
        "id": "4FKbFJ_VhoYC",
        "outputId": "504bf021-3ea1-43ff-fed9-c28171d6269a"
      },
      "execution_count": 64,
      "outputs": [
        {
          "output_type": "execute_result",
          "data": {
            "text/plain": [
              "[0, 2, 4, 6, 8]"
            ]
          },
          "metadata": {},
          "execution_count": 64
        }
      ]
    },
    {
      "cell_type": "code",
      "source": [
        "# Daha önce öğrendiğimiz tek satırda liste yazma (list comprehension) ile de yapılabilir\n",
        "[x for x in range(10) if x % 2 == 0]"
      ],
      "metadata": {
        "id": "BffVMzKZKB2Z",
        "colab": {
          "base_uri": "https://localhost:8080/"
        },
        "outputId": "41c98da1-85e2-463a-9783-4b2cf953f01a"
      },
      "execution_count": 65,
      "outputs": [
        {
          "output_type": "execute_result",
          "data": {
            "text/plain": [
              "[0, 2, 4, 6, 8]"
            ]
          },
          "metadata": {},
          "execution_count": 65
        }
      ]
    },
    {
      "cell_type": "markdown",
      "source": [
        "## 9) Hata Değerlendirme\n"
      ],
      "metadata": {
        "id": "Ldu-jzxVH1ED"
      }
    },
    {
      "cell_type": "code",
      "source": [
        "while True:\n",
        "  yaş = input('yaşınız: ')\n",
        "\n",
        "  if yaş.isnumeric() == False:\n",
        "    print('lütfen yaşınızı tekrar yazınız.')\n",
        "\n",
        "  else:\n",
        "    print(2022 - int(yaş))\n",
        "    break"
      ],
      "metadata": {
        "colab": {
          "base_uri": "https://localhost:8080/"
        },
        "id": "mH1dl6duhzyf",
        "outputId": "17f612bb-f93e-4e0a-9426-8a02c5a6d5d8"
      },
      "execution_count": 66,
      "outputs": [
        {
          "output_type": "stream",
          "name": "stdout",
          "text": [
            "yaşınız: aa\n",
            "lütfen yaşınızı tekrar yazınız.\n",
            "yaşınız: 12\n",
            "2010\n"
          ]
        }
      ]
    },
    {
      "cell_type": "code",
      "source": [
        "yaş = input('Lütfen yaşınızı yazınız: ')\n",
        "try:\n",
        "  yaş = int(yaş)\n",
        "except:\n",
        "  print(\"Lütfen sadece sayı yazınız.\")"
      ],
      "metadata": {
        "id": "L9Ao8G7MH5Fi",
        "colab": {
          "base_uri": "https://localhost:8080/"
        },
        "outputId": "43071b88-f8f9-45d6-a1c2-da0a1cfc3c58"
      },
      "execution_count": 67,
      "outputs": [
        {
          "output_type": "stream",
          "name": "stdout",
          "text": [
            "Lütfen yaşınızı yazınız: aa\n",
            "Lütfen sadece sayı yazınız.\n"
          ]
        }
      ]
    },
    {
      "cell_type": "code",
      "source": [
        "while True:\n",
        "  yaş = input('Lütfen yaşınızı yazınız ')\n",
        "  try:\n",
        "    yaş = int(yaş)\n",
        "    break\n",
        "  except:\n",
        "    print(\"Lütfen sadece sayı yazınız.\")\n",
        "  \n",
        "\n",
        "print(f\"Türkiye Cumhuriyeti'nin {2022-yaş-1923}. yılında doğmuşsunuz.\")"
      ],
      "metadata": {
        "id": "VFGJVi95H9ry",
        "colab": {
          "base_uri": "https://localhost:8080/"
        },
        "outputId": "5cb2a331-e95a-4c1d-e6ff-5bd03c9988ab"
      },
      "execution_count": 68,
      "outputs": [
        {
          "output_type": "stream",
          "name": "stdout",
          "text": [
            "Lütfen yaşınızı yazınız aa\n",
            "Lütfen sadece sayı yazınız.\n",
            "Lütfen yaşınızı yazınız 12\n",
            "Türkiye Cumhuriyeti'nin 87. yılında doğmuşsunuz.\n"
          ]
        }
      ]
    },
    {
      "cell_type": "markdown",
      "source": [
        "## 10) Tek Satırda Hata Değerlendirme \n",
        "\n",
        "assert"
      ],
      "metadata": {
        "id": "5nFcogwOH6BY"
      }
    },
    {
      "cell_type": "code",
      "source": [
        "metin = ''\n",
        "\n",
        "assert len(metin) != 0\n",
        "\n",
        "print('hatasız gidiyoruz')"
      ],
      "metadata": {
        "id": "51sYbbQGH9JZ",
        "colab": {
          "base_uri": "https://localhost:8080/",
          "height": 235
        },
        "outputId": "ef9bd518-1a50-42c4-b639-6ec89ff5fed1"
      },
      "execution_count": 69,
      "outputs": [
        {
          "output_type": "error",
          "ename": "AssertionError",
          "evalue": "ignored",
          "traceback": [
            "\u001b[0;31m---------------------------------------------------------------------------\u001b[0m",
            "\u001b[0;31mAssertionError\u001b[0m                            Traceback (most recent call last)",
            "\u001b[0;32m<ipython-input-69-09507150f1fc>\u001b[0m in \u001b[0;36m<module>\u001b[0;34m\u001b[0m\n\u001b[1;32m      1\u001b[0m \u001b[0mmetin\u001b[0m \u001b[0;34m=\u001b[0m \u001b[0;34m''\u001b[0m\u001b[0;34m\u001b[0m\u001b[0;34m\u001b[0m\u001b[0m\n\u001b[1;32m      2\u001b[0m \u001b[0;34m\u001b[0m\u001b[0m\n\u001b[0;32m----> 3\u001b[0;31m \u001b[0;32massert\u001b[0m \u001b[0mlen\u001b[0m\u001b[0;34m(\u001b[0m\u001b[0mmetin\u001b[0m\u001b[0;34m)\u001b[0m \u001b[0;34m!=\u001b[0m \u001b[0;36m0\u001b[0m\u001b[0;34m\u001b[0m\u001b[0;34m\u001b[0m\u001b[0m\n\u001b[0m\u001b[1;32m      4\u001b[0m \u001b[0;34m\u001b[0m\u001b[0m\n\u001b[1;32m      5\u001b[0m \u001b[0mprint\u001b[0m\u001b[0;34m(\u001b[0m\u001b[0;34m'hatasız gidiyoruz'\u001b[0m\u001b[0;34m)\u001b[0m\u001b[0;34m\u001b[0m\u001b[0;34m\u001b[0m\u001b[0m\n",
            "\u001b[0;31mAssertionError\u001b[0m: "
          ]
        }
      ]
    },
    {
      "cell_type": "code",
      "source": [
        "metin = ''\n",
        "assert len(metin) != 0, \"Metin boş olmamalı\"\n",
        "print('hatasız gidiyoruz')"
      ],
      "metadata": {
        "colab": {
          "base_uri": "https://localhost:8080/",
          "height": 201
        },
        "id": "EpfGCD2WyDsb",
        "outputId": "df6acb44-ec63-489a-e31d-f7685d9db7d8"
      },
      "execution_count": 71,
      "outputs": [
        {
          "output_type": "error",
          "ename": "AssertionError",
          "evalue": "ignored",
          "traceback": [
            "\u001b[0;31m---------------------------------------------------------------------------\u001b[0m",
            "\u001b[0;31mAssertionError\u001b[0m                            Traceback (most recent call last)",
            "\u001b[0;32m<ipython-input-71-a593d7a00c3d>\u001b[0m in \u001b[0;36m<module>\u001b[0;34m\u001b[0m\n\u001b[1;32m      1\u001b[0m \u001b[0mmetin\u001b[0m \u001b[0;34m=\u001b[0m \u001b[0;34m''\u001b[0m\u001b[0;34m\u001b[0m\u001b[0;34m\u001b[0m\u001b[0m\n\u001b[0;32m----> 2\u001b[0;31m \u001b[0;32massert\u001b[0m \u001b[0mlen\u001b[0m\u001b[0;34m(\u001b[0m\u001b[0mmetin\u001b[0m\u001b[0;34m)\u001b[0m \u001b[0;34m!=\u001b[0m \u001b[0;36m0\u001b[0m\u001b[0;34m,\u001b[0m \u001b[0;34m\"Metin boş olmamalı\"\u001b[0m\u001b[0;34m\u001b[0m\u001b[0;34m\u001b[0m\u001b[0m\n\u001b[0m\u001b[1;32m      3\u001b[0m \u001b[0mprint\u001b[0m\u001b[0;34m(\u001b[0m\u001b[0;34m'hatasız gidiyoruz'\u001b[0m\u001b[0;34m)\u001b[0m\u001b[0;34m\u001b[0m\u001b[0;34m\u001b[0m\u001b[0m\n",
            "\u001b[0;31mAssertionError\u001b[0m: Metin boş olmamalı"
          ]
        }
      ]
    },
    {
      "cell_type": "code",
      "source": [
        "metin = 'a'\n",
        "assert len(metin) != 0, \"Metin boş olmamalı\"\n",
        "print('hatasız gidiyoruz')"
      ],
      "metadata": {
        "colab": {
          "base_uri": "https://localhost:8080/"
        },
        "id": "dPkH0d4oyIPQ",
        "outputId": "4500471d-624d-4005-b23b-a109f2b8d6de"
      },
      "execution_count": 72,
      "outputs": [
        {
          "output_type": "stream",
          "name": "stdout",
          "text": [
            "hatasız gidiyoruz\n"
          ]
        }
      ]
    },
    {
      "cell_type": "markdown",
      "source": [
        "## Son olarak"
      ],
      "metadata": {
        "id": "3Wl8B3hUuuQq"
      }
    },
    {
      "cell_type": "code",
      "source": [
        "import this"
      ],
      "metadata": {
        "colab": {
          "base_uri": "https://localhost:8080/"
        },
        "id": "mZKO8B8_uysX",
        "outputId": "cf465dc8-d75d-44ca-b8bf-fb9cf86efee4"
      },
      "execution_count": 73,
      "outputs": [
        {
          "output_type": "stream",
          "name": "stdout",
          "text": [
            "The Zen of Python, by Tim Peters\n",
            "\n",
            "Beautiful is better than ugly.\n",
            "Explicit is better than implicit.\n",
            "Simple is better than complex.\n",
            "Complex is better than complicated.\n",
            "Flat is better than nested.\n",
            "Sparse is better than dense.\n",
            "Readability counts.\n",
            "Special cases aren't special enough to break the rules.\n",
            "Although practicality beats purity.\n",
            "Errors should never pass silently.\n",
            "Unless explicitly silenced.\n",
            "In the face of ambiguity, refuse the temptation to guess.\n",
            "There should be one-- and preferably only one --obvious way to do it.\n",
            "Although that way may not be obvious at first unless you're Dutch.\n",
            "Now is better than never.\n",
            "Although never is often better than *right* now.\n",
            "If the implementation is hard to explain, it's a bad idea.\n",
            "If the implementation is easy to explain, it may be a good idea.\n",
            "Namespaces are one honking great idea -- let's do more of those!\n"
          ]
        }
      ]
    },
    {
      "cell_type": "markdown",
      "source": [
        "# Peki ya sonra?"
      ],
      "metadata": {
        "id": "xQLExTjgrgWa"
      }
    },
    {
      "cell_type": "markdown",
      "source": [
        "Birbirinden şahane kaynaklar:\n",
        "\n",
        "- __https://education.github.com/pack__ -> üniversite öğrenci mailinizle harika sitelerde ücretsiz üyelik oluşturabilirsiniz.\n",
        "\n",
        "- www.codecademy.com\n",
        "\n",
        "- www.realpython.com\n",
        "\n",
        "- https://www.freecodecamp.org/\n",
        "\n",
        "Daha fazla pratik için: \n",
        "- https://www.codewars.com/\n",
        "- https://exercism.org/\n",
        "- https://www.hackerrank.com/"
      ],
      "metadata": {
        "id": "wRuAzvJlrmJM"
      }
    },
    {
      "cell_type": "markdown",
      "source": [
        "dihyezaim@gmail.com"
      ],
      "metadata": {
        "id": "RtMSAV3gknmQ"
      }
    }
  ]
}