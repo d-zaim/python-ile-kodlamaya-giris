{
  "nbformat": 4,
  "nbformat_minor": 0,
  "metadata": {
    "colab": {
      "provenance": []
    },
    "kernelspec": {
      "name": "python3",
      "display_name": "Python 3"
    },
    "language_info": {
      "name": "python"
    }
  },
  "cells": [
    {
      "cell_type": "markdown",
      "metadata": {
        "id": "jA9QGQUGfqfz"
      },
      "source": [
        "# Alıştırmalar\n",
        "__Önemli not:__\n",
        "\n",
        "Yaptıklarınızın silinmemesi için bu notu kendi drive'ınıza kaydetmelisiniz. Bunun için sol üstteki File kısmından \"Save a copy in Drive\" seçeneğine tıklamalısınız."
      ]
    },
    {
      "cell_type": "markdown",
      "metadata": {
        "id": "LI9Nyc-hft2c"
      },
      "source": [
        "## 1\\. Alıştırma\n",
        "\n",
        "Yeni taşındığınız mahallenin sokaklarında gezerken 8-10 yaşlarında bir grup çocuğun hararetle tartıştıklarını gördünüz. Meselenin ne olduğunu öğrenmek için merakla yanlarına yaklaştınız. Aralarından ufak tefek, saçları kirden tozlanmış biri sizi görünce hemen yanınıza koştu ve başladı anlatmaya. Meğer her seferinde aynı şey oluyormuş. Ne zaman annelerden biri aralarında paylaşsınlar diye yiyecek bir şeyler gönderse bir _adil paylaşım krizi_ oluşuyormuş. Yanlış matematik hesapları işi hepten karıştırıyormuş. Bu seferki problem de bir poşet fındığı aralarında nasıl paylaştıracaklarını bilememeleriymiş. Gözleri ışıl ışıl parlayan ufaklığı dinlerken zihninizden bunun kodu yazılsa nasıl olurdu diye gayriihtiyari düşünmeye başladınız.\n",
        "\n",
        "Örnek ekranlar:\n",
        "```\n",
        "Kaç fındığınız var? 25\n",
        "Kaç kişisiniz? 3\n",
        "25, 3 sayısına tam bölünmez. Maalesef eşit paylaşamazsınız :/\n",
        "```\n",
        "\n",
        "\n",
        "```\n",
        "Kaç fındığınız var? 24\n",
        "Kaç kişisiniz? 3\n",
        "Kişi başı 8 fındık, afiyet olsun!\n",
        "```\n"
      ]
    },
    {
      "cell_type": "code",
      "metadata": {
        "id": "wfTZX6Pej_Bb",
        "colab": {
          "base_uri": "https://localhost:8080/"
        },
        "outputId": "0173e352-02b7-44c8-899d-9207224b2891"
      },
      "source": [
        "fındık = int(input('Kaç fındığınız var? '))\n",
        "kişi = int(input('Kaç kişisiniz? '))\n",
        "\n",
        "if fındık % kişi == 0:\n",
        "  print(f\"Kişi başı {int(fındık / kişi)} fındık, afiyet olsun!\")\n",
        "else:\n",
        "  print(f\"{fındık}, {kişi} sayısına tam bölünmez. Maalesef eşit paylaşamazsınız :/\")"
      ],
      "execution_count": null,
      "outputs": [
        {
          "output_type": "stream",
          "name": "stdout",
          "text": [
            "Kaç fındığınız var? 20\n",
            "Kaç kişisiniz? 4\n",
            "Kişi başı 5 fındık, afiyet olsun!\n"
          ]
        }
      ]
    },
    {
      "cell_type": "markdown",
      "metadata": {
        "id": "X2hTULeagAY9"
      },
      "source": [
        "## 2\\. Alıştırma\n",
        "input ile kelime alalım. Metinde geçiyorsa kaç kere geçtiğini yazsın, metinde yoksa olmadığını bize söylesin.\n",
        "\n",
        "Örnek **ekranlar**:\n",
        "```\n",
        "Metinde aramak istediğiniz kelimeyi yazınız: visual\n",
        "Bu metinde visual kelimesi 14 kere geçmektedir.\n",
        "```\n",
        "```\n",
        "Metinde aramak istediğiniz kelimeyi yazınız: patates\n",
        "Bu metinde patates kelimesi geçmemektedir.\n",
        "```\n"
      ]
    },
    {
      "cell_type": "code",
      "metadata": {
        "id": "fy1Hr2G4S8UJ"
      },
      "source": [
        "# 3 tırnak çok uzun bir string yazabilmek için kullanılır.\n",
        "metin = \"\"\"\n",
        "In everyday conversation, we usually process the talker’s face as well as the sound of their voice. \n",
        "Access to visual speech information is particularly useful when the auditory signal is degraded. \n",
        "Here we used fMRI to monitor brain activity while adult humans (n = 60) were presented with visual-only,\n",
        "auditory-only, and audiovisual words. The audiovisual words were presented in quiet and several \n",
        "signal-to-noise ratios. As expected, audiovisual speech perception recruited both auditory and \n",
        "visual cortex, with some evidence for increased recruitment of premotor cortex in some conditions \n",
        "(including in substantial background noise). We then investigated neural connectivity\n",
        "using psychophysiological interaction (PPI) analysis with seed regions in both primary\n",
        "auditory cortex and primary visual cortex. Connectivity between auditory and visual cortices was stronger\n",
        "in audiovisual conditions than in unimodal conditions, including a wide network of\n",
        "regions in posterior temporal cortex and prefrontal cortex.\n",
        "In addition to whole-brain analyses, we also conducted a region-of-interest analysis on the left\n",
        "posterior superior temporal sulcus (pSTS), implicated in many previous studies of audiovisual speech\n",
        "perception. We found evidence for both activity and effective connectivity in pSTS for visual-only\n",
        "and audiovisual speech, although these were not significant in whole-brain analyses. Taken together,\n",
        "our results suggest a prominent role for cross-region synchronization in understanding both visual-only\n",
        "and audiovisual speech that complements activity in “integrative” brain regions like pSTS.\n",
        "\"\"\""
      ],
      "execution_count": null,
      "outputs": []
    },
    {
      "cell_type": "code",
      "metadata": {
        "id": "bY9Ro8-Uj98n",
        "colab": {
          "base_uri": "https://localhost:8080/"
        },
        "outputId": "601289c6-8a3a-4a2c-cf1b-38212123af3f"
      },
      "source": [
        "kelime = input('Aradığınız kelimeyi yazınız: ').lower()\n",
        "metin = metin.lower() # metni kalıcı olarak küçülttük.\n",
        "adet = metin.count(kelime)\n",
        "if adet > 0: \n",
        "  print(f\"Bu metinde {kelime} kelimesi {adet} kere geçmektedir.\")\n",
        "else:\n",
        "  print(f\"Bu metinde {kelime} kelimesi geçmemektedir.\")"
      ],
      "execution_count": null,
      "outputs": [
        {
          "output_type": "stream",
          "name": "stdout",
          "text": [
            "Aradığınız kelimeyi yazınız: connectivity\n",
            "Bu metinde connectivity kelimesi 3 kere geçmektedir.\n"
          ]
        }
      ]
    },
    {
      "cell_type": "markdown",
      "source": [
        "## 3\\. Alıştırma\n",
        "Bilgisayar 1 ile 10 arasında bir sayı tutsun. Bilgisayarın tuttuğu sayıyı bilmeye çalışalım. \n",
        "\n",
        "Örnek ekranlar:\n",
        "```\n",
        "tahmin: 5\n",
        "Bilgisayarın tahmini 5, kazandın!\n",
        "```\n",
        "\n",
        "\n",
        "```\n",
        "tahmin: 3\n",
        "Bilgisayarın tahmini 10, kaybettin :/\n",
        "```\n",
        "\n"
      ],
      "metadata": {
        "id": "dkLJgiQqIcuL"
      }
    },
    {
      "cell_type": "code",
      "source": [
        "import random\n",
        "bilgisayar = random.randint(1,10)\n",
        "tahmin = int(input('Tahmininiz: '))\n",
        "\n",
        "if tahmin == bilgisayar:\n",
        "  print(f\"Bilgisayarın tahmini {bilgisayar}, kazandın!\")\n",
        "else:\n",
        "  print(f\"Bilgisayarın tahmini {bilgisayar}, kaybettin :/\")"
      ],
      "metadata": {
        "id": "70Bal51iIwFC",
        "colab": {
          "base_uri": "https://localhost:8080/"
        },
        "outputId": "37e21ead-43b4-4bb4-f9ca-c1bf722ee755"
      },
      "execution_count": null,
      "outputs": [
        {
          "output_type": "stream",
          "name": "stdout",
          "text": [
            "Tahmininiz: 2\n",
            "Bilgisayarın tahmini 6, kaybettin :/\n"
          ]
        }
      ]
    },
    {
      "cell_type": "markdown",
      "metadata": {
        "id": "qpx8HTrPh5oS"
      },
      "source": [
        "## 4\\. Alıştırma\n",
        "Arkadaşınızla film arıyorsunuz fakat bir türlü bulamadınız. Şöyle bir karar verdiniz: ya bir Tarantino filmi olacak ya da film puanı 9'un üstünde olacak.\n",
        "\n",
        "Örnek ekranlar:\n",
        "```\n",
        "film yönetmeni: Quentin Tarantino\n",
        "film puanı: 5\n",
        "Hadi mısırları patlat!\n",
        "```\n",
        "```\n",
        "film yönetmeni: Christopher Nolan\n",
        "film puanı: 9.2\n",
        "Hadi mısırları patlat!\n",
        "```\n",
        "```\n",
        "film yönetmeni: Christopher Nolan\n",
        "film puanı: 5\n",
        "Taş-kağıt-makas mı oynasak?\n",
        "```"
      ]
    },
    {
      "cell_type": "code",
      "metadata": {
        "id": "uJzUjZcoiAdi",
        "colab": {
          "base_uri": "https://localhost:8080/"
        },
        "outputId": "9acdc381-769a-4466-f914-f864e7549265"
      },
      "source": [
        "yönetmen = input('film yönetmeni: ')\n",
        "film_puanı = float(input('film puanı: '))\n",
        "\n",
        "if (yönetmen == 'Quentin Tarantino') or (film_puanı > 9):\n",
        "  print('Hadi mısırları patlat!')\n",
        "\n",
        "else:\n",
        "  print('Taş-kağıt-makas mı oynasak?')"
      ],
      "execution_count": null,
      "outputs": [
        {
          "output_type": "stream",
          "name": "stdout",
          "text": [
            "film yönetmeni: Nolan\n",
            "film puanı: 8\n",
            "Taş-kağıt-makas mı oynasak?\n"
          ]
        }
      ]
    },
    {
      "cell_type": "markdown",
      "source": [
        "## 5\\. Alıştırma\n",
        "Arkadaşınız filmler konusunda biraz fazla hassas. Size bir yönetmen listesi verdi. \"İzleyeceğimiz film bu yönetmenlerden birinin olacak ve puanı 8'den fazla olacak yoksa izlemem\" diyor :/\n",
        "\n",
        "Yönetmen listesi: Steven Spielberg, Martin Scorsese, Alfred Hitchcock, Stanley Kubrick, Francis Ford Coppola, Woody Allen, \n",
        "Billy Wilder, John Huston, Quentin Tarantino\n",
        "\n",
        "Sizin teklifleriniz ve arkadaşınızın muhtemel cevapları...\n",
        "```\n",
        "film yönetmeni: Quentin Tarantino\n",
        "film puanı: 5\n",
        "Aramaya devam...\n",
        "```\n",
        "```\n",
        "film yönetmeni: Christopher Nolan\n",
        "film puanı: 9.2\n",
        "Aramaya devam...\n",
        "```\n",
        "```\n",
        "film yönetmeni: Alfred Hitchcock\n",
        "film puanı: 9.3\n",
        "İşte bu!\n",
        "```"
      ],
      "metadata": {
        "id": "6Qaw-RzzEU3r"
      }
    },
    {
      "cell_type": "code",
      "source": [
        "yönetmen_listesi = [\"Steven Spielberg\", \"Martin Scorsese\", \"Alfred Hitchcock\", \"Stanley Kubrick\",\n",
        "                    \"Francis Ford Coppola\", \"Woody Allen\", \"Billy Wilder\", \"John Huston\", \"Quentin Tarantino\"]\n",
        "                    \n",
        "yönetmen = input('film yönetmeni: ')\n",
        "puan = float(input('film puanı: '))\n",
        "if (yönetmen in yönetmen_listesi) and puan > 8:\n",
        "  print('İşte bu!')\n",
        "else:\n",
        "  print('Aramaya devam...')"
      ],
      "metadata": {
        "id": "JgjqJwhZEVuE",
        "colab": {
          "base_uri": "https://localhost:8080/"
        },
        "outputId": "edef0df1-27ec-411d-f3ba-4b6647e4eb73"
      },
      "execution_count": null,
      "outputs": [
        {
          "output_type": "stream",
          "name": "stdout",
          "text": [
            "film yönetmeni: Nolan\n",
            "film puanı: 1.2\n",
            "Aramaya devam...\n"
          ]
        }
      ]
    },
    {
      "cell_type": "markdown",
      "source": [
        "Kodun yukarıdan aşağıya akışında, değişkenlerin içeriğinin belirli şartlara göre değişmesine bir örnek:"
      ],
      "metadata": {
        "id": "ImCGyHbByVgw"
      }
    },
    {
      "cell_type": "code",
      "source": [
        "aranan_yönetmen = \"Woody\"\n",
        "bulunma_durumu = 'aradığınız yönetmeni bulamadık' \n",
        "\n",
        "for yönetmen in yönetmen_listesi:\n",
        "  if aranan_yönetmen == yönetmen:\n",
        "    bulunma_durumu = 'aradığınız yönetmeni bulduk!'\n",
        "\n",
        "print(bulunma_durumu)"
      ],
      "metadata": {
        "id": "5kGruOZ2EVLt",
        "colab": {
          "base_uri": "https://localhost:8080/"
        },
        "outputId": "494479b6-0c57-4d6e-9fa8-4598f94508d0"
      },
      "execution_count": null,
      "outputs": [
        {
          "output_type": "stream",
          "name": "stdout",
          "text": [
            "aradığınız yönetmeni bulamadık\n"
          ]
        }
      ]
    },
    {
      "cell_type": "code",
      "source": [
        "aranan_yönetmen = \"Woody Allen\"\n",
        "bulunma_durumu = 'aradığınız yönetmeni bulamadık'\n",
        "\n",
        "if aranan_yönetmen in yönetmen_listesi:\n",
        "  bulunma_durumu = 'aradığınız yönetmeni bulduk!'\n",
        "\n",
        "print(bulunma_durumu)"
      ],
      "metadata": {
        "colab": {
          "base_uri": "https://localhost:8080/"
        },
        "id": "ov0ePdIbQeUR",
        "outputId": "6924db0a-b7c3-4cfe-9202-2212c6658fe7"
      },
      "execution_count": null,
      "outputs": [
        {
          "output_type": "stream",
          "name": "stdout",
          "text": [
            "aradığınız yönetmeni bulduk!\n"
          ]
        }
      ]
    },
    {
      "cell_type": "markdown",
      "metadata": {
        "id": "lCHfBhe1ioL2"
      },
      "source": [
        "## 6\\. Alıştırma"
      ]
    },
    {
      "cell_type": "markdown",
      "metadata": {
        "id": "fYG8VyNDiqXN"
      },
      "source": [
        "input ile bir sayı alalım.\n",
        "\n",
        "3'e tam bölünüyorsa ekrana \"bim\" yazsın.\n",
        "\n",
        "5'e tam bölünüyorsa ekrana \"bom\" yazsın.\n",
        "\n",
        "Hem 3'e hem 5'e tam bölünüyorsa \"bimbom\" yazsın.\n",
        "\n",
        "Hiçbiri olmuyorsa sayının kendisini yazsın."
      ]
    },
    {
      "cell_type": "code",
      "metadata": {
        "id": "dWsS73gripEa",
        "colab": {
          "base_uri": "https://localhost:8080/"
        },
        "outputId": "275d5067-3bf3-432a-a3ed-688daa6f470d"
      },
      "source": [
        "sayı = int(input('Sayıyı giriniz: '))\n",
        "\n",
        "if sayı % 3 == 0 and sayı % 5 == 0:\n",
        "  print(\"bimbom\")\n",
        "\n",
        "elif sayı % 5 == 0:\n",
        "  print('bom')\n",
        "\n",
        "elif sayı % 3 == 0 :\n",
        "  print('bim')\n",
        "\n",
        "else:\n",
        "  print(sayı)"
      ],
      "execution_count": null,
      "outputs": [
        {
          "output_type": "stream",
          "name": "stdout",
          "text": [
            "Sayıyı giriniz: 7\n",
            "7\n"
          ]
        }
      ]
    },
    {
      "cell_type": "code",
      "source": [],
      "metadata": {
        "id": "L1grlyr_6uyF"
      },
      "execution_count": null,
      "outputs": []
    },
    {
      "cell_type": "markdown",
      "metadata": {
        "id": "CuXnYGlDi89W"
      },
      "source": [
        "## 7\\. Alıştırma\n",
        "Bir kitap listemiz olsun (içerik size ait). Önce ekrana listedeki ilk 5 kitabı print ile yazdıralım. Daha sonra listede arama yapmak için input alalım:\n",
        "\n",
        "örnek liste ve örnek ekranlar: \n",
        "\n",
        "kitap_listesi = [\"Katip Bartleby\", \"Baharda Yine Geliriz\", \"İvan İlyiç'in Ölümü\", \"Devlet\", \"Puslu Kıtalar Atlası\", \"Boş Sayfa\", \"Karısını Şapka Sanan Adam\"]\n",
        "\n",
        "```\n",
        "Listemizdeki ilk 5 kitap: \n",
        "1. Katip Bartleby\n",
        "2. Baharda Yine Geliriz\n",
        "3. İvan İlyiç'in Ölümü\n",
        "4. Devlet\n",
        "5. Puslu Kıtalar Atlası\n",
        "\n",
        "Aradığınız kitap: Boş Sayfa\n",
        "Kitap arşivimizde mevcuttur.\n",
        "```\n",
        "\n",
        "Eğer kitap sistemde yoksa rastgele bir kitap önerelim.\n",
        "```\n",
        "Listemizdeki ilk 5 kitap: \n",
        "1. Katip Bartleby\n",
        "2. Baharda Yine Geliriz\n",
        "3. İvan İlyiç'in Ölümü\n",
        "4. Devlet\n",
        "5. Puslu Kıtalar Atlası\n",
        "\n",
        "Aradığınız kitap: Oblomov\n",
        "Maalesef kitap arşivimizde mevcut değildir. Size Devlet kitabını önerebiliriz.\n",
        "```"
      ]
    },
    {
      "cell_type": "code",
      "metadata": {
        "id": "1BtESFY8j7F1",
        "colab": {
          "base_uri": "https://localhost:8080/"
        },
        "outputId": "4026ddd9-a018-4818-d944-321ed8ae1fee"
      },
      "source": [
        "kitap_listesi = [\"Katip Bartleby\", \"Baharda Yine Geliriz\", \"İvan İlyiç'in Ölümü\",\n",
        "                 \"Devlet\", \"Puslu Kıtalar Atlası\", \"Boş Sayfa\", \"Karısını Şapka Sanan Adam\"]\n",
        "print(\"Listemizdeki ilk 5 kitap: \")\n",
        "print(\"1. \" + kitap_listesi[0])\n",
        "print(\"2. \" + kitap_listesi[1])\n",
        "print(\"3. \" + kitap_listesi[2])\n",
        "print(\"4. \" + kitap_listesi[3])\n",
        "print(\"5. \" + kitap_listesi[4])\n",
        "\n",
        "aranan_kitap = input('Aradığınız kitap: ')\n",
        "if aranan_kitap in kitap_listesi:\n",
        "  print(\"Kitap arşivimizde mevcuttur.\")\n",
        "else:\n",
        "  print(f\"Maalesef kitap arşivimizde mevcut değildir. Size \\\"{random.choice(kitap_listesi)}\\\" kitabını önerebiliriz.\")"
      ],
      "execution_count": null,
      "outputs": [
        {
          "output_type": "stream",
          "name": "stdout",
          "text": [
            "Listemizdeki ilk 5 kitap: \n",
            "1. Katip Bartleby\n",
            "2. Baharda Yine Geliriz\n",
            "3. İvan İlyiç'in Ölümü\n",
            "4. Devlet\n",
            "5. Puslu Kıtalar Atlası\n",
            "Aradığınız kitap: Dostluk\n",
            "Maalesef kitap arşivimizde mevcut değildir. Size \"Katip Bartleby\" kitabını önerebiliriz.\n"
          ]
        }
      ]
    },
    {
      "cell_type": "markdown",
      "metadata": {
        "id": "G_IK5Bo0kTCG"
      },
      "source": [
        "## 8\\. Alıştırma\n",
        "Bir önceki kitap listesinde listedeki sıraya göre kitap talebinde bulunalım.\n",
        "\n",
        "```\n",
        "kaçıncı kitabı istiyorsunuz: 2\n",
        "Baharda Yine Geliriz kitabını keyifle okumanız dileğiyle :)\n",
        "```\n",
        "Listenin uzunluğundan daha büyük bir sayı girilirse: \n",
        "```\n",
        "kaçıncı kitabı istiyorsunuz: 12\n",
        "Maalesef listemizdeki toplam kitap sayısı 7 adettir.\n",
        "```\n",
        "\n"
      ]
    },
    {
      "cell_type": "code",
      "source": [
        "kitap_listesi"
      ],
      "metadata": {
        "colab": {
          "base_uri": "https://localhost:8080/"
        },
        "id": "vwvk6v019SXd",
        "outputId": "b1395e6e-780c-42fb-eee4-e22477c1b4ad"
      },
      "execution_count": null,
      "outputs": [
        {
          "output_type": "execute_result",
          "data": {
            "text/plain": [
              "['Katip Bartleby',\n",
              " 'Baharda Yine Geliriz',\n",
              " \"İvan İlyiç'in Ölümü\",\n",
              " 'Devlet',\n",
              " 'Puslu Kıtalar Atlası',\n",
              " 'Boş Sayfa',\n",
              " 'Karısını Şapka Sanan Adam']"
            ]
          },
          "metadata": {},
          "execution_count": 84
        }
      ]
    },
    {
      "cell_type": "code",
      "metadata": {
        "id": "nrPA3jdJybeo",
        "colab": {
          "base_uri": "https://localhost:8080/"
        },
        "outputId": "0714505e-98fc-4e7c-84c8-87d42037089b"
      },
      "source": [
        "kitap_sırası = int(input('kaçıncı kitabı istiyorsunuz: ')) - 1\n",
        "if len(kitap_listesi) > kitap_sırası:\n",
        "  print(f\"{kitap_listesi[kitap_sırası]} kitabını keyifle okumanız dileğiyle :)\")\n",
        "else:\n",
        "  print(f\"Maalesef listemizdeki toplam kitap sayısı {len(kitap_listesi)} adettir.\")"
      ],
      "execution_count": null,
      "outputs": [
        {
          "output_type": "stream",
          "name": "stdout",
          "text": [
            "kaçıncı kitabı istiyorsunuz: 8\n",
            "Maalesef listemizdeki toplam kitap sayısı 7 adettir.\n"
          ]
        }
      ]
    },
    {
      "cell_type": "code",
      "source": [],
      "metadata": {
        "id": "x5nUVnkl-WDS"
      },
      "execution_count": null,
      "outputs": []
    },
    {
      "cell_type": "markdown",
      "metadata": {
        "id": "xi3XFFCfycIm"
      },
      "source": [
        "## 9\\. Alıştırma\n",
        "Oyun başlasın: TAŞ-KAĞIT-MAKAS! 🥳\n",
        "\n",
        "Bilgisayara taş, kağıt, makastan birini rastgele seçsin (bize söylemesin) biz de input ile üçünden birini seçelim. Ekrana önce bilgisayarın tahminini, sonra kazanıp kazanmadığımızı yazsın:\n",
        "\n",
        "\n",
        "\n",
        "```\n",
        "taş-kağıt-makas: taş\n",
        "bilgisayarın tahmini: kağıt\n",
        "Kaybettin :(\n",
        "```\n",
        "\n",
        "```\n",
        "taş-kağıt-makas: makas\n",
        "bilgisayarın tahmini: kağıt\n",
        "Kazandın!\n",
        "```\n",
        "```\n",
        "taş-kağıt-makas: taş\n",
        "bilgisayarın tahmini: taş\n",
        "Berabere :|\n",
        "```"
      ]
    },
    {
      "cell_type": "markdown",
      "source": [
        "Çözüm 1"
      ],
      "metadata": {
        "id": "eOoAUHMcynUO"
      }
    },
    {
      "cell_type": "code",
      "source": [
        "seçim = input(\"taş-kağıt-makas:\")\n",
        "bilgisayarın_seçeneği = random.choice(['taş','kağıt','makas']) \n",
        "print(f'Bilgisayarın seçimi: {bilgisayarın_seçeneği}')\n",
        "\n",
        "if seçim == bilgisayarın_seçeneği:\n",
        "    print(\"Berabere :|\")\n",
        "\n",
        "elif seçim == \"makas\":\n",
        "    if bilgisayarın_seçeneği == \"kağıt\":\n",
        "        print(\"Kazandın!\")\n",
        "    else:\n",
        "        print(\"Kaybettin :(\")\n",
        "\n",
        "elif seçim == \"taş\":\n",
        "    if bilgisayarın_seçeneği == \"kağıt\":\n",
        "        print(\"Kaybettin :(\")\n",
        "    else:\n",
        "        print(\"Kazandın!\")\n",
        "\n",
        "elif seçim == \"kağıt\":\n",
        "    if bilgisayarın_seçeneği == \"taş\":\n",
        "        print(\"Kazandın!\")\n",
        "    else:\n",
        "        print(\"Kaybettin :(\")"
      ],
      "metadata": {
        "id": "ZWGcNKHDXhhY"
      },
      "execution_count": null,
      "outputs": []
    },
    {
      "cell_type": "markdown",
      "source": [
        "Çözüm 2"
      ],
      "metadata": {
        "id": "jJyeblKXyqHE"
      }
    },
    {
      "cell_type": "code",
      "source": [
        "kullanıcı = input(\"taş-kağıt-makas:\")\n",
        "bilgisayar = random.choice(['taş','kağıt','makas']) \n",
        "print(f'Bilgisayarın seçimi: {bilgisayar}')\n",
        "\n",
        "if kullanıcı == bilgisayar:\n",
        "  print('Berabere :|')\n",
        "\n",
        "elif (kullanıcı == 'taş' and bilgisayar == 'makas') or (kullanıcı == 'kağıt' and bilgisayar == 'taş') or (kullanıcı == 'makas' and bilgisayar == 'kağıt'):\n",
        "  print('Kazandın!')\n",
        "\n",
        "else:\n",
        "  print('Kaybettin :/')\n"
      ],
      "metadata": {
        "id": "2VTF_M0hV3ug",
        "colab": {
          "base_uri": "https://localhost:8080/"
        },
        "outputId": "a3527faa-1a3d-44f9-e473-261ecfb35617"
      },
      "execution_count": null,
      "outputs": [
        {
          "output_type": "stream",
          "name": "stdout",
          "text": [
            "taş-kağıt-makas:kağıt\n",
            "Bilgisayarın seçimi: makas\n",
            "Kaybettin :/\n"
          ]
        }
      ]
    },
    {
      "cell_type": "markdown",
      "source": [
        "Çözüm 3"
      ],
      "metadata": {
        "id": "rHmhlE27yrQA"
      }
    },
    {
      "cell_type": "code",
      "source": [
        "oyun = ['taş','kağıt','makas']\n",
        "bilgisayar = random.choice(oyun)\n",
        "kullanıcı = input('taş / kağıt / makas: ')\n",
        "print(f'Bilgisayarın seçimi: {bilgisayar}')\n",
        "\n",
        "if kullanıcı == bilgisayar:\n",
        "  print('Berabere :/')\n",
        "\n",
        "elif (kullanıcı == 'taş' and bilgisayar == 'makas') or (kullanıcı == 'kağıt' and bilgisayar == 'taş') or (kullanıcı == 'makas' and bilgisayar == 'kağıt'):\n",
        "  print('Kazandın!')\n",
        "\n",
        "elif (kullanıcı == 'taş' and bilgisayar == 'kağıt') or (kullanıcı == 'kağıt' and bilgisayar == 'makas') or (kullanıcı == 'makas' and bilgisayar == 'taş'):\n",
        "  print('Kaybettin :>')"
      ],
      "metadata": {
        "id": "8yq7q8IlGszK",
        "colab": {
          "base_uri": "https://localhost:8080/"
        },
        "outputId": "01f11e49-f1ac-414a-a838-375193cef7b8"
      },
      "execution_count": null,
      "outputs": [
        {
          "output_type": "stream",
          "name": "stdout",
          "text": [
            "taş / kağıt / makas: taş\n",
            "Bilgisayarın seçimi: taş\n",
            "Berabere :/\n"
          ]
        }
      ]
    },
    {
      "cell_type": "code",
      "source": [],
      "metadata": {
        "id": "fsSNsH4aA81c"
      },
      "execution_count": null,
      "outputs": []
    },
    {
      "cell_type": "markdown",
      "metadata": {
        "id": "1vc3q5VqnuLV"
      },
      "source": [
        "## BONUS Alıştırma - Pizzacı Açıyoruz: NÖROPİZZA 🍕"
      ]
    },
    {
      "cell_type": "markdown",
      "source": [
        "Pizzacı açıyoruz!\n",
        "\n",
        "Örnek ekran:\n",
        "\n",
        "```\n",
        "Nöropizza'ya Hoş Geldiniz! 🍕\n",
        "- Mozarella 23 TL\n",
        "- Karışık 34 TL\n",
        "- Vejeteryan 27 TL\n",
        "Pizza türünüzü seçiniz: Karışık\n",
        "\n",
        "- Büyük boy +7 TL\n",
        "- Orta boy +3 TL\n",
        "Pizza boyutunu seçiniz: Orta\n",
        "\n",
        "Ek malzeme ister misiniz?\n",
        "\n",
        "Sucuk (+5 TL): evet\n",
        "Zeytin (+3 TL): hayır\n",
        "Mısır (+2 TL): evet\n",
        "\n",
        "Sos alır mıydınız?\n",
        "Sos1 (+1 TL): hayır\n",
        "Sos2 (+2 TL): evet\n",
        "Sos3 (+1 TL): evet\n",
        "\n",
        "İndirim kuponunuz varsa yazınız: IND10\n",
        "\n",
        "Toplam tutar:\n",
        "```\n",
        "\n",
        "Kuponda IND10 yazarsa 10 TL indirim olsun, YZD10 yazarsa %10 indirim yapalım."
      ],
      "metadata": {
        "id": "pkCpEbA6_AZT"
      }
    },
    {
      "cell_type": "code",
      "source": [
        "x = 5\n",
        "x = x + 3\n",
        "x"
      ],
      "metadata": {
        "colab": {
          "base_uri": "https://localhost:8080/"
        },
        "id": "Wz_kga0qB8kO",
        "outputId": "46e20573-e8ed-4038-93d7-78f8dcc7ef6e"
      },
      "execution_count": null,
      "outputs": [
        {
          "output_type": "execute_result",
          "data": {
            "text/plain": [
              "8"
            ]
          },
          "metadata": {},
          "execution_count": 118
        }
      ]
    },
    {
      "cell_type": "code",
      "source": [
        "x = 5\n",
        "x += 3\n",
        "x"
      ],
      "metadata": {
        "colab": {
          "base_uri": "https://localhost:8080/"
        },
        "id": "xaGq2y3gCFpA",
        "outputId": "9db75cf0-e7c7-437d-e13d-d880518d23b2"
      },
      "execution_count": null,
      "outputs": [
        {
          "output_type": "execute_result",
          "data": {
            "text/plain": [
              "8"
            ]
          },
          "metadata": {},
          "execution_count": 119
        }
      ]
    },
    {
      "cell_type": "code",
      "source": [
        "print(\"\"\"\n",
        "Nöropizza'ya Hoş Geldiniz! 🍕\n",
        "- Mozarella 23 TL\n",
        "- Karışık 34 TL\n",
        "- Vejeteryan 27 TL\n",
        "\"\"\")\n",
        "\n",
        "tür = input('Pizza türünüzü seçiniz: ').lower()\n",
        "\n",
        "if tür == 'mozarella':\n",
        "  sepet = 23\n",
        "elif tür == 'karışık':\n",
        "  sepet = 34\n",
        "elif tür == 'vejeteryan':\n",
        "  sepet = 27\n",
        "\n",
        "\n",
        "print(\"\"\"\n",
        "- Büyük boy +7 TL\n",
        "- Orta boy +3 TL\n",
        "\"\"\")\n",
        "\n",
        "boyut = input('Boyut seçiniz: ')\n",
        "if boyut == 'büyük':\n",
        "  sepet += 7\n",
        "\n",
        "elif boyut == 'orta':\n",
        "  sepet += 3\n",
        "\n",
        "print('\\n\\nEk malzeme ister misiniz? (evet/hayır)')\n",
        "\n",
        "sucuk = input(\"Sucuk (+5 TL): \")\n",
        "zeytin = input(\"Zeytin (+3 TL): \")\n",
        "mısır = input(\"Mısır (+2 TL): \")\n",
        "\n",
        "if sucuk == 'evet':\n",
        "  sepet += 5\n",
        "\n",
        "if zeytin == 'evet':\n",
        "  sepet += 3\n",
        "\n",
        "if mısır == 'evet':\n",
        "  sepet += 2\n",
        "\n",
        "print('\\n\\nSos alır mıydınız? (evet/hayır)')\n",
        "\n",
        "sos1 = input('Sos1 (+1 TL): ') \n",
        "sos2 = input('Sos2 (+2 TL): ') \n",
        "sos3 = input('Sos3 (+1 TL): ')\n",
        "\n",
        "if sos1 == 'evet':\n",
        "  sepet += 1\n",
        "\n",
        "if sos2 == 'evet':\n",
        "  sepet += 2\n",
        "\n",
        "if sos3 == 'evet':\n",
        "  sepet += 1\n",
        "\n",
        "\n",
        "kupon = input('\\n\\nİndirim kuponunuz varsa yazınız: ')\n",
        "\n",
        "if kupon == 'IND10':\n",
        "  sepet -= 10\n",
        "\n",
        "if kupon == 'YZD10':\n",
        "  sepet *= 0.9\n",
        "\n",
        "print(f'Toplam tutar: {sepet}')"
      ],
      "metadata": {
        "id": "TA98PLvhNerT",
        "colab": {
          "base_uri": "https://localhost:8080/"
        },
        "outputId": "33ea3923-3af6-4f57-c026-3628b3ff20c5"
      },
      "execution_count": null,
      "outputs": [
        {
          "output_type": "stream",
          "name": "stdout",
          "text": [
            "\n",
            "Nöropizza'ya Hoş Geldiniz! 🍕\n",
            "- Mozarella 23 TL\n",
            "- Karışık 34 TL\n",
            "- Vejeteryan 27 TL\n",
            "\n",
            "Pizza türünüzü seçiniz: karışık\n",
            "\n",
            "- Büyük boy +7 TL\n",
            "- Orta boy +3 TL\n",
            "\n",
            "Boyut seçiniz: orta\n",
            "\n",
            "\n",
            "Ek malzeme ister misiniz? (evet/hayır)\n",
            "Sucuk (+5 TL): evet\n",
            "Zeytin (+3 TL): evet\n",
            "Mısır (+2 TL): evet\n",
            "\n",
            "\n",
            "Sos alır mıydınız? (evet/hayır)\n",
            "Sos1 (+1 TL): evet\n",
            "Sos2 (+2 TL): evet\n",
            "Sos3 (+1 TL): evet\n",
            "\n",
            "\n",
            "İndirim kuponunuz varsa yazınız: \n",
            "Toplam tutar: 51\n"
          ]
        }
      ]
    },
    {
      "cell_type": "code",
      "source": [],
      "metadata": {
        "id": "o3HomqmuCvP5"
      },
      "execution_count": null,
      "outputs": []
    },
    {
      "cell_type": "markdown",
      "source": [
        "## BONUS Alıştırma\n",
        "Şu ana kadar öğrendiğimiz bilgilerle __interaktif bir hikaye__ yazalım 🥳 \n",
        "\n",
        "İnteraktif hikayeden maksat:Netflix'teki Black Mirror'ın Bandersnatch bölümü ya da bir dönem epey meşhur olan \"Şahane Hatalar\" kitabındaki gibi kişinin olayların akışını tercih edebildiği bir hikaye. Aşağıda örnek bir versiyon bulunuyor. Başlangıcından sonuna __tamamen istediğiniz gibi__ bir hikaye tasarlayabilirsiniz. Hikaye ilk baştaki seçeneklerden biriyle de sonlanabilir, birkaç aşama sonra da sonlanabilir, istediğiniz seçeneğe istediğiniz kadar derinlik katabilirsiniz. Hikayenizdeki kahraman olmayı ya da kahramanı kontrol etmeyi heyecanla bekliyoruz!\n",
        "\n",
        "```\n",
        "Yıllardır gezmeye doyamayan müzmin bir seyyahsınız. Bu sefer rotanız Mısır.\n",
        "Nasıl gideceksiniz?\n",
        "- Uçak (1257 km - 1 saat 30 dakika)\n",
        "- Otostop (2,567 km)\n",
        "seçiminiz: Uçak\n",
        "\n",
        "Her şey hazır, heyecanla uçağa bindiniz. Pilotunuz yolculuğunuza dair havanın güzel olduğunu, yaklaşık 1 buçuk saat sonra\n",
        "varacağınızı bildiriyor. Hostesin getirdiği meyve suyunu yudumlarken uçak türbülansa giriyor. Fakat her zamankinin aksine \n",
        "uçağın sarsıntısı artıyor meyve suyunuz her tarafa saçılıyor ve hostesin perdeyi hışımla kapadığını, acil durum ışıklarının\n",
        "yandığını görüyorsunuz. Kemerinizi bağlamaya çalışırken uçak kontrolden çıkıyor camdan baktığınızda Akdeniz'e\n",
        "düşmek üzere olduğunuzu görüyorsunuz!\n",
        "Uçak büyük bir gürültüyle denize çakıldığında hayatınızda ilk kez uçağın acil durum kapısının açıldığını görüyorsunuz...\n",
        "- kapıya koş\n",
        "- uçakta kal\n",
        "seçiminiz: kapıya koş\n",
        "\n",
        "....\n",
        "```\n",
        "Hikayenin taslak kodu:\n",
        "```\n",
        "print(\"Yıllardır gezmeye...)\n",
        "print(\"- Uçak\")\n",
        "print(\"- Otostop\")\n",
        "ilk_seçim = input('seçiminiz: ')\n",
        "\n",
        "if ilk_seçim == 'Uçak':\n",
        "  print('Her şey hazır...')\n",
        "  print('-kapıya koş')\n",
        "  print('-uçakta kal')\n",
        "  ikinci_seçim = input('seçiminiz: ')\n",
        "\n",
        "  if ikinci_seçim == 'kapıya koş':\n",
        "    ...\n",
        "  else:\n",
        "    ...\n",
        "\n",
        "else:\n",
        "  print('Otostop çekmek için çantanızı hazırlayıp yollara düştünüz...)\n",
        "  ...\n",
        "  \n",
        "```\n",
        "\n",
        "Hikayenize çeşitli dinamikler de ekleyebilirsiniz. Örneğin en başta bir para belirleyip hikaye boyunca o parayı seçimlere göre değiştirebilirsiniz. Para yetersizse belirli seçeneklerin seçilmesine müsaade etmeyebilirsiniz. Ya da herhangi başka ek faktörlerle hikayenizi zenginleştirmek sizin tercihiniz 😎 "
      ],
      "metadata": {
        "id": "k8o9ku_XH7xr"
      }
    },
    {
      "cell_type": "code",
      "source": [],
      "metadata": {
        "id": "X4bDjs9HywUw"
      },
      "execution_count": null,
      "outputs": []
    }
  ]
}